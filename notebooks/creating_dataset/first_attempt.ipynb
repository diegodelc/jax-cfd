{
 "cells": [
  {
   "cell_type": "code",
   "execution_count": 2,
   "metadata": {},
   "outputs": [],
   "source": [
    "## imports\n",
    "import jax\n",
    "import jax.numpy as jnp\n",
    "import matplotlib.pyplot as plt\n",
    "import numpy as np\n",
    "import seaborn\n",
    "import jax_cfd.base as cfd\n",
    "import xarray"
   ]
  },
  {
   "cell_type": "code",
   "execution_count": 3,
   "metadata": {},
   "outputs": [],
   "source": [
    "## setting up the model parameters and shape\n",
    "#original\n",
    "size = (512, 128)\n",
    "domain = ((0, 8), (0, 2))\n",
    "\n",
    "size = (256,64)\n",
    "domain = ((0, 8), (0, 2))\n",
    "\n",
    "density = 1. ### original 1.\n",
    "viscosity = 1e-4 # kinematic viscosity ### original 1e-3\n",
    "\n",
    "pressure_gradient = 2e-3  # uniform dP/dx ### original 2e-3\n",
    "\n",
    "# Define the physical dimensions of the simulation.\n"
   ]
  },
  {
   "cell_type": "code",
   "execution_count": 4,
   "metadata": {},
   "outputs": [],
   "source": [
    "## boundary conditions\n",
    "# Specify periodic BC on x-boundaries, and no-slip walls on the y-boundaries. <- channel flow settings\n",
    "velocity_bc = (cfd.boundaries.channel_flow_boundary_conditions(ndim=2),\n",
    "               cfd.boundaries.channel_flow_boundary_conditions(ndim=2))"
   ]
  },
  {
   "cell_type": "code",
   "execution_count": 5,
   "metadata": {},
   "outputs": [
    {
     "name": "stderr",
     "output_type": "stream",
     "text": [
      "WARNING:jax._src.lib.xla_bridge:No GPU/TPU found, falling back to CPU. (Set TF_CPP_MIN_LOG_LEVEL=0 and rerun for more info.)\n"
     ]
    }
   ],
   "source": [
    "grid = cfd.grids.Grid(size, domain=domain)\n",
    "\n",
    "masks = cfd.grids.domain_interior_masks(grid)"
   ]
  },
  {
   "cell_type": "code",
   "execution_count": 6,
   "metadata": {},
   "outputs": [],
   "source": [
    "## pressure solver\n",
    "pressure_solve = cfd.pressure.solve_fast_diag_channel_flow ### solve_fast_diag_channel_flow OR solve_cg"
   ]
  },
  {
   "cell_type": "code",
   "execution_count": 7,
   "metadata": {},
   "outputs": [],
   "source": [
    "## initial velocity\n",
    "def x_velocity_fn(x, y):\n",
    "  return jnp.zeros_like(x + y) + 0.2 * np.random.normal(\n",
    "      size=grid.shape) * masks[0]\n",
    "\n",
    "def y_velocity_fn(x, y):\n",
    "  return jnp.zeros_like(x + y) #+ 0.2 * np.random.normal(size=grid.shape) * masks[1]\n",
    "\n",
    "vx_fn = lambda x, y: jnp.zeros_like(x)\n",
    "vy_fn = lambda x, y: jnp.zeros_like(x)\n",
    "\n",
    "v0 = cfd.initial_conditions.initial_velocity_field(\n",
    "           velocity_fns = (vx_fn, vy_fn),\n",
    "           grid = grid,\n",
    "           velocity_bc = velocity_bc,\n",
    "           pressure_solve = pressure_solve,\n",
    "           iterations=5)"
   ]
  },
  {
   "cell_type": "code",
   "execution_count": 8,
   "metadata": {},
   "outputs": [],
   "source": [
    "## divergence check\n",
    "div = cfd.finite_differences.divergence(v0)\n",
    "np.testing.assert_allclose(div.data, 0)"
   ]
  },
  {
   "cell_type": "code",
   "execution_count": 9,
   "metadata": {},
   "outputs": [],
   "source": [
    "## time step\n",
    "max_velocity = 1\n",
    "cfl_safety_factor = 0.5\n",
    "\n",
    "dt = cfd.equations.stable_time_step(\n",
    "    max_velocity, cfl_safety_factor, viscosity, grid)"
   ]
  },
  {
   "cell_type": "code",
   "execution_count": 10,
   "metadata": {},
   "outputs": [],
   "source": [
    "## forcing\n",
    "\n",
    "## Here are different types of forcing functions/conditions\n",
    "\n",
    "# Linear force due to uniform pressure gradient\n",
    "def pressure_gradient_forcing(pressure_gradient: float):\n",
    "  \n",
    "  def forcing(v):\n",
    "    force_vector = (pressure_gradient, 0)\n",
    "    return tuple(cfd.grids.GridArray(f * jnp.ones_like(u.data), u.offset, u.grid)\n",
    "                 for f, u in zip(force_vector, v))\n",
    "  \n",
    "  return forcing\n",
    "\n",
    "# Turbulent forcing (kolmogorov forcing)\n",
    "def turbulentForcing(grid):\n",
    "    return cfd.forcings.simple_turbulence_forcing(grid, constant_magnitude = 0.5, linear_coefficient = -0.8) # params specified in jax-cfd for 2D turbulence"
   ]
  },
  {
   "cell_type": "code",
   "execution_count": 11,
   "metadata": {},
   "outputs": [],
   "source": [
    "forcings = cfd.forcings.sum_forcings(\n",
    "    pressure_gradient_forcing(pressure_gradient),\n",
    "    #turbulentForcing(grid),\n",
    "    cfd.forcings.taylor_green_forcing(grid, scale = 0.05)\n",
    "    #cfd.forcings.kolmogorov_forcing(grid)\n",
    "    #cfd.forcings.linear_forcing(grid,1.01)\n",
    "    #cfd.forcings.filtered_forcing(grid = grid, spectral_density = 1)\n",
    "    #cfd.forcings.filtered_linear_forcing(grid=grid, upper_wavenumber = 2, coefficient = 1, lower_wavenumber = 1)\n",
    ")"
   ]
  },
  {
   "cell_type": "code",
   "execution_count": 12,
   "metadata": {},
   "outputs": [],
   "source": [
    "forcing_combinations = {\n",
    "    cfd.forcings.sum_forcings(\n",
    "    pressure_gradient_forcing(pressure_gradient),\n",
    "    #turbulentForcing(grid),\n",
    "    cfd.forcings.taylor_green_forcing(grid, scale = 0.05)\n",
    "    #cfd.forcings.kolmogorov_forcing(grid)\n",
    "    #cfd.forcings.linear_forcing(grid,1.01)\n",
    "    #cfd.forcings.filtered_forcing(grid = grid, spectral_density = 1)\n",
    "    #cfd.forcings.filtered_linear_forcing(grid=grid, upper_wavenumber = 2, coefficient = 1, lower_wavenumber = 1)\n",
    "),\n",
    "    cfd.forcings.sum_forcings(\n",
    "    pressure_gradient_forcing(pressure_gradient),\n",
    "    #turbulentForcing(grid),\n",
    "    #cfd.forcings.taylor_green_forcing(grid, scale = 0.05)\n",
    "    #cfd.forcings.kolmogorov_forcing(grid)\n",
    "    #cfd.forcings.linear_forcing(grid,1.01)\n",
    "    #cfd.forcings.filtered_forcing(grid = grid, spectral_density = 1)\n",
    "    #cfd.forcings.filtered_linear_forcing(grid=grid, upper_wavenumber = 2, coefficient = 1, lower_wavenumber = 1)\n",
    "),\n",
    "    cfd.forcings.sum_forcings(\n",
    "    pressure_gradient_forcing(pressure_gradient),\n",
    "    #turbulentForcing(grid),\n",
    "    cfd.forcings.taylor_green_forcing(grid, scale = 0.05)\n",
    "    #cfd.forcings.kolmogorov_forcing(grid)\n",
    "    #cfd.forcings.linear_forcing(grid,1.01)\n",
    "    #cfd.forcings.filtered_forcing(grid = grid, spectral_density = 1)\n",
    "    #cfd.forcings.filtered_linear_forcing(grid=grid, upper_wavenumber = 2, coefficient = 1, lower_wavenumber = 1)\n",
    "),\n",
    "    cfd.forcings.sum_forcings(\n",
    "    pressure_gradient_forcing(pressure_gradient),\n",
    "    #turbulentForcing(grid),\n",
    "    cfd.forcings.taylor_green_forcing(grid, scale = 0.05)\n",
    "    #cfd.forcings.kolmogorov_forcing(grid)\n",
    "    #cfd.forcings.linear_forcing(grid,1.01)\n",
    "    #cfd.forcings.filtered_forcing(grid = grid, spectral_density = 1)\n",
    "    #cfd.forcings.filtered_linear_forcing(grid=grid, upper_wavenumber = 2, coefficient = 1, lower_wavenumber = 1)\n",
    ")\n",
    "}"
   ]
  },
  {
   "cell_type": "code",
   "execution_count": 13,
   "metadata": {},
   "outputs": [],
   "source": [
    "## define convection function\n",
    "def convect(v):\n",
    "  return tuple(\n",
    "      cfd.advection.advect_van_leer(u, v, dt) for u in v)"
   ]
  },
  {
   "cell_type": "code",
   "execution_count": 15,
   "metadata": {},
   "outputs": [],
   "source": [
    "def the_iteration_over_samples(forcing):\n",
    "\n",
    "    ## step function\n",
    "\n",
    "    # time steps per output\n",
    "    inner_steps = 1_000\n",
    "\n",
    "    # number of outputs\n",
    "    outer_steps = 20\n",
    "\n",
    "    # Define a step function and use it to compute a trajectory.\n",
    "    step_fn = cfd.funcutils.repeated(\n",
    "        cfd.equations.semi_implicit_navier_stokes(\n",
    "            density=density,\n",
    "            viscosity=viscosity,\n",
    "            dt=dt,\n",
    "            grid=grid,\n",
    "            convect=convect,\n",
    "            pressure_solve = pressure_solve, # defined above for setting v0\n",
    "            forcing= forcing\n",
    "            ),\n",
    "        steps=inner_steps)\n",
    "    rollout_fn = jax.jit(cfd.funcutils.trajectory(\n",
    "        step_fn, outer_steps, start_with_input=True))\n",
    "\n",
    "    ## compute trajectory\n",
    "    %time _, trajectory = jax.device_get(rollout_fn(v0))\n",
    "\n",
    "    ## load into xarray for visualization and analysis\n",
    "    ds = xarray.Dataset(\n",
    "        {\n",
    "            'u': (('time', 'x', 'y'), trajectory[0].data),\n",
    "            'v': (('time', 'x', 'y'), trajectory[1].data),\n",
    "        },\n",
    "        coords={\n",
    "            'x': grid.axes()[0],\n",
    "            'y': grid.axes()[1],\n",
    "            'time': dt * inner_steps * np.arange(1, outer_steps + 1)\n",
    "        }\n",
    "    )\n",
    "    \n",
    "    return ds"
   ]
  },
  {
   "cell_type": "code",
   "execution_count": 23,
   "metadata": {},
   "outputs": [
    {
     "name": "stdout",
     "output_type": "stream",
     "text": [
      "0\n",
      "CPU times: user 33.8 s, sys: 1.59 s, total: 35.4 s\n",
      "Wall time: 19 s\n"
     ]
    },
    {
     "ename": "NameError",
     "evalue": "name 'trajectory' is not defined",
     "output_type": "error",
     "traceback": [
      "\u001b[0;31m---------------------------------------------------------------------------\u001b[0m",
      "\u001b[0;31mNameError\u001b[0m                                 Traceback (most recent call last)",
      "Cell \u001b[0;32mIn [23], line 4\u001b[0m\n\u001b[1;32m      2\u001b[0m \u001b[38;5;28;01mfor\u001b[39;00m combination \u001b[38;5;129;01min\u001b[39;00m forcing_combinations:\n\u001b[1;32m      3\u001b[0m     \u001b[38;5;28mprint\u001b[39m(i)\n\u001b[0;32m----> 4\u001b[0m     \u001b[43mthe_iteration_over_samples\u001b[49m\u001b[43m(\u001b[49m\u001b[43mcombination\u001b[49m\u001b[43m)\u001b[49m \u001b[38;5;66;03m#returns xarray dataset\u001b[39;00m\n\u001b[1;32m      5\u001b[0m     i\u001b[38;5;241m+\u001b[39m\u001b[38;5;241m=\u001b[39m\u001b[38;5;241m1\u001b[39m\n\u001b[1;32m      6\u001b[0m     \u001b[38;5;66;03m# now we need to merge the datasets by a new index\u001b[39;00m\n\u001b[1;32m      7\u001b[0m     \u001b[38;5;66;03m# NOTE: we need to change the function defined above to make sure it includes the simulation specs as attributes and the velocities in a dask.array format\u001b[39;00m\n",
      "Cell \u001b[0;32mIn [15], line 32\u001b[0m, in \u001b[0;36mthe_iteration_over_samples\u001b[0;34m(forcing)\u001b[0m\n\u001b[1;32m     27\u001b[0m get_ipython()\u001b[38;5;241m.\u001b[39mrun_line_magic(\u001b[38;5;124m'\u001b[39m\u001b[38;5;124mtime\u001b[39m\u001b[38;5;124m'\u001b[39m, \u001b[38;5;124m'\u001b[39m\u001b[38;5;124m_, trajectory = jax.device_get(rollout_fn(v0))\u001b[39m\u001b[38;5;124m'\u001b[39m)\n\u001b[1;32m     29\u001b[0m \u001b[38;5;66;03m## load into xarray for visualization and analysis\u001b[39;00m\n\u001b[1;32m     30\u001b[0m ds \u001b[38;5;241m=\u001b[39m xarray\u001b[38;5;241m.\u001b[39mDataset(\n\u001b[1;32m     31\u001b[0m     {\n\u001b[0;32m---> 32\u001b[0m         \u001b[38;5;124m'\u001b[39m\u001b[38;5;124mu\u001b[39m\u001b[38;5;124m'\u001b[39m: ((\u001b[38;5;124m'\u001b[39m\u001b[38;5;124mtime\u001b[39m\u001b[38;5;124m'\u001b[39m, \u001b[38;5;124m'\u001b[39m\u001b[38;5;124mx\u001b[39m\u001b[38;5;124m'\u001b[39m, \u001b[38;5;124m'\u001b[39m\u001b[38;5;124my\u001b[39m\u001b[38;5;124m'\u001b[39m), \u001b[43mtrajectory\u001b[49m[\u001b[38;5;241m0\u001b[39m]\u001b[38;5;241m.\u001b[39mdata),\n\u001b[1;32m     33\u001b[0m         \u001b[38;5;124m'\u001b[39m\u001b[38;5;124mv\u001b[39m\u001b[38;5;124m'\u001b[39m: ((\u001b[38;5;124m'\u001b[39m\u001b[38;5;124mtime\u001b[39m\u001b[38;5;124m'\u001b[39m, \u001b[38;5;124m'\u001b[39m\u001b[38;5;124mx\u001b[39m\u001b[38;5;124m'\u001b[39m, \u001b[38;5;124m'\u001b[39m\u001b[38;5;124my\u001b[39m\u001b[38;5;124m'\u001b[39m), trajectory[\u001b[38;5;241m1\u001b[39m]\u001b[38;5;241m.\u001b[39mdata),\n\u001b[1;32m     34\u001b[0m     },\n\u001b[1;32m     35\u001b[0m     coords\u001b[38;5;241m=\u001b[39m{\n\u001b[1;32m     36\u001b[0m         \u001b[38;5;124m'\u001b[39m\u001b[38;5;124mx\u001b[39m\u001b[38;5;124m'\u001b[39m: grid\u001b[38;5;241m.\u001b[39maxes()[\u001b[38;5;241m0\u001b[39m],\n\u001b[1;32m     37\u001b[0m         \u001b[38;5;124m'\u001b[39m\u001b[38;5;124my\u001b[39m\u001b[38;5;124m'\u001b[39m: grid\u001b[38;5;241m.\u001b[39maxes()[\u001b[38;5;241m1\u001b[39m],\n\u001b[1;32m     38\u001b[0m         \u001b[38;5;124m'\u001b[39m\u001b[38;5;124mtime\u001b[39m\u001b[38;5;124m'\u001b[39m: dt \u001b[38;5;241m*\u001b[39m inner_steps \u001b[38;5;241m*\u001b[39m np\u001b[38;5;241m.\u001b[39marange(\u001b[38;5;241m1\u001b[39m, outer_steps \u001b[38;5;241m+\u001b[39m \u001b[38;5;241m1\u001b[39m)\n\u001b[1;32m     39\u001b[0m     }\n\u001b[1;32m     40\u001b[0m )\n\u001b[1;32m     42\u001b[0m \u001b[38;5;28;01mreturn\u001b[39;00m ds\n",
      "\u001b[0;31mNameError\u001b[0m: name 'trajectory' is not defined"
     ]
    }
   ],
   "source": [
    "i = 0\n",
    "for combination in forcing_combinations:\n",
    "    print(i)\n",
    "    the_iteration_over_samples(combination) #returns xarray dataset\n",
    "    i+=1\n",
    "    # now we need to merge the datasets by a new index\n",
    "    # NOTE: we need to change the function defined above to make sure it includes the simulation specs as attributes and the velocities in a dask.array format"
   ]
  },
  {
   "cell_type": "code",
   "execution_count": null,
   "metadata": {},
   "outputs": [],
   "source": []
  },
  {
   "cell_type": "code",
   "execution_count": null,
   "metadata": {},
   "outputs": [],
   "source": []
  }
 ],
 "metadata": {
  "kernelspec": {
   "display_name": "Python [conda env:PNAS_codes]",
   "language": "python",
   "name": "conda-env-PNAS_codes-py"
  },
  "language_info": {
   "codemirror_mode": {
    "name": "ipython",
    "version": 3
   },
   "file_extension": ".py",
   "mimetype": "text/x-python",
   "name": "python",
   "nbconvert_exporter": "python",
   "pygments_lexer": "ipython3",
   "version": "3.10.8"
  }
 },
 "nbformat": 4,
 "nbformat_minor": 2
}

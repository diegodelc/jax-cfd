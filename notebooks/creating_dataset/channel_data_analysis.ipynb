{
 "cells": [
  {
   "cell_type": "markdown",
   "metadata": {},
   "source": [
    "## Analysing channel flow data"
   ]
  },
  {
   "cell_type": "code",
   "execution_count": 1,
   "metadata": {},
   "outputs": [],
   "source": [
    "import xarray\n",
    "import matplotlib.pyplot as plt\n",
    "import seaborn\n",
    "import numpy as np\n",
    "import scipy"
   ]
  },
  {
   "cell_type": "code",
   "execution_count": 2,
   "metadata": {},
   "outputs": [],
   "source": [
    "file_name = '1080x256_150_seconds_inner_1'\n",
    "ds = xarray.open_dataset(f'./datasets/'+ file_name +'.nc', chunks={'time': '100MB'})\n"
   ]
  },
  {
   "cell_type": "code",
   "execution_count": 3,
   "metadata": {},
   "outputs": [],
   "source": [
    "ds = ds.isel(sample=0)"
   ]
  },
  {
   "cell_type": "code",
   "execution_count": 4,
   "metadata": {},
   "outputs": [
    {
     "data": {
      "text/plain": [
       "40499"
      ]
     },
     "execution_count": 4,
     "metadata": {},
     "output_type": "execute_result"
    }
   ],
   "source": [
    "outer_steps = len(ds.time)\n",
    "outer_steps"
   ]
  },
  {
   "cell_type": "code",
   "execution_count": 5,
   "metadata": {},
   "outputs": [
    {
     "data": {
      "text/plain": [
       "149.9962962962963"
      ]
     },
     "execution_count": 5,
     "metadata": {},
     "output_type": "execute_result"
    }
   ],
   "source": [
    "total_sim_time = max(ds.time.values)\n",
    "total_sim_time"
   ]
  },
  {
   "cell_type": "code",
   "execution_count": null,
   "metadata": {},
   "outputs": [],
   "source": [
    "# def vx_at_x_upper_boundary(ds):\n",
    "#   return ds.u.isel(x=-1)  # slice operator\n",
    "\n",
    "# p = ds.pipe(vx_at_x_upper_boundary).plot(hue='time')"
   ]
  },
  {
   "cell_type": "code",
   "execution_count": null,
   "metadata": {},
   "outputs": [],
   "source": [
    "# ## plot u\n",
    "# fig, axs = plt.subplots(8,5, figsize=(15, 8), facecolor='w', edgecolor='k')\n",
    "# fig.subplots_adjust(hspace = .5, wspace=.5)\n",
    "\n",
    "# axs = axs.ravel()\n",
    "\n",
    "\n",
    "# for i in range(outer_steps):\n",
    "#     u = ds.u[i]\n",
    "#     xarray.plot.pcolormesh(u, 'x', 'y',cmap=seaborn.cm.rocket, col_wrap=4,ax=axs[i],robust=True);"
   ]
  },
  {
   "cell_type": "code",
   "execution_count": null,
   "metadata": {},
   "outputs": [],
   "source": [
    "# ## plot v\n",
    "# fig, axs = plt.subplots(4,5, figsize=(15, 8), facecolor='w', edgecolor='k')\n",
    "# fig.subplots_adjust(hspace = .5, wspace=.5)\n",
    "\n",
    "# axs = axs.ravel()\n",
    "\n",
    "\n",
    "# for i in range(outer_steps):\n",
    "#     v = ds.v[i]\n",
    "#     xarray.plot.pcolormesh(v, 'x', 'y',cmap=seaborn.cm.rocket, col_wrap=4,ax=axs[i],robust=True);"
   ]
  },
  {
   "cell_type": "code",
   "execution_count": null,
   "metadata": {},
   "outputs": [],
   "source": [
    "# fig, axs = plt.subplots(1,1, figsize=(15, 8), facecolor='w', edgecolor='k')\n",
    "\n",
    "# xarray.plot.pcolormesh(ds.u[0], 'x', 'y',cmap=seaborn.cm.rocket,robust=True, ax = axs);"
   ]
  },
  {
   "cell_type": "code",
   "execution_count": 8,
   "metadata": {},
   "outputs": [],
   "source": [
    "# ## calculate and plot vorticity\n",
    "# def vorticity(ds):\n",
    "#   return (ds.v.differentiate('x') - ds.u.differentiate('y')).rename('vorticity')\n",
    "\n",
    "# (ds.pipe(vorticity)\n",
    "#  .plot.imshow(col='time', cmap=seaborn.cm.icefire, robust=True, col_wrap=5));"
   ]
  },
  {
   "cell_type": "code",
   "execution_count": null,
   "metadata": {},
   "outputs": [],
   "source": [
    "## quiver plot of velocity\n",
    "fig, axs = plt.subplots(4,5, figsize=(17, 13), facecolor='w', edgecolor='k')\n",
    "fig.subplots_adjust(hspace = .4, wspace=.5)\n",
    "\n",
    "axs = axs.ravel()\n",
    "for i in range(outer_steps):\n",
    "    ds_plot = ds.isel(time=i)\n",
    "    downsample_factor = 4 #divides by this\n",
    "    ds_plot = ds_plot.coarsen(x=downsample_factor*2).mean().coarsen(y=downsample_factor).mean()\n",
    "    ds_plot.plot.quiver(x='x', y='y', u='u', v='v', ax = axs[i], infer_intervals=True)"
   ]
  },
  {
   "cell_type": "code",
   "execution_count": null,
   "metadata": {},
   "outputs": [],
   "source": [
    "fig, axs = plt.subplots(1,1, figsize=(12, 8), facecolor='w', edgecolor='k')\n",
    "\n",
    "#xarray.plot.pcolormesh(ds.u[19], 'x', 'y',cmap=seaborn.cm.rocket,robust=True, ax = axs);\n",
    "\n",
    "ds_plot = ds.isel(time=20000) ## change this depending on what we want to plot\n",
    "\n",
    "downsample_factor = 8 #divides by this\n",
    "ds_plot = ds_plot.coarsen(x=downsample_factor*2, boundary=\"trim\").mean().coarsen(y=downsample_factor, boundary=\"trim\").mean()\n",
    "\n",
    "ds_plot.plot.quiver(x='x', y='y', u='u', v='v', ax = axs, infer_intervals=True)"
   ]
  },
  {
   "cell_type": "code",
   "execution_count": 19,
   "metadata": {},
   "outputs": [],
   "source": [
    "def vel_at_middle_of_channel(ds, ySize,xSize):\n",
    "    return ds.isel(x= int(np.floor(xSize/3))).isel(y= int(np.floor(ySize/3)))\n",
    "\n",
    "ySize = len(ds.y.values)\n",
    "xSize = len(ds.x.values)\n",
    "\n",
    "du = ds.u\n",
    "u = du.pipe(vel_at_middle_of_channel,ySize,xSize)\n",
    "dv = ds.v\n",
    "v = dv.pipe(vel_at_middle_of_channel,ySize,xSize)\n"
   ]
  },
  {
   "cell_type": "code",
   "execution_count": null,
   "metadata": {},
   "outputs": [],
   "source": []
  },
  {
   "cell_type": "code",
   "execution_count": null,
   "metadata": {},
   "outputs": [],
   "source": [
    "# fig, axs = plt.subplots(1,1, figsize=(15, 8), facecolor='w', edgecolor='k')\n",
    "\n",
    "# xarray.plot.pcolormesh(ds.u, 'x', 'y',cmap=seaborn.cm.rocket,robust=True, ax = axs);"
   ]
  },
  {
   "cell_type": "code",
   "execution_count": 14,
   "metadata": {},
   "outputs": [],
   "source": [
    "u = ds.isel(time=7000).u.values"
   ]
  },
  {
   "cell_type": "code",
   "execution_count": null,
   "metadata": {},
   "outputs": [],
   "source": [
    "outer_steps"
   ]
  },
  {
   "cell_type": "code",
   "execution_count": 20,
   "metadata": {},
   "outputs": [],
   "source": [
    "# filtering\n",
    "# u = ds.u.values\n",
    "# v = ds.v.values\n",
    "\n",
    "u = u[:6100]\n",
    "v = v[:6100]\n",
    "total_sim_time = total_sim_time*(6100/10000)"
   ]
  },
  {
   "cell_type": "code",
   "execution_count": 21,
   "metadata": {},
   "outputs": [
    {
     "data": {
      "text/plain": [
       "34.04630932962963"
      ]
     },
     "execution_count": 21,
     "metadata": {},
     "output_type": "execute_result"
    }
   ],
   "source": [
    "total_sim_time"
   ]
  },
  {
   "cell_type": "code",
   "execution_count": 22,
   "metadata": {},
   "outputs": [
    {
     "data": {
      "text/plain": [
       "594.7634383494653"
      ]
     },
     "execution_count": 22,
     "metadata": {},
     "output_type": "execute_result"
    }
   ],
   "source": [
    "(outer_steps/total_sim_time)/2"
   ]
  },
  {
   "cell_type": "code",
   "execution_count": 34,
   "metadata": {},
   "outputs": [
    {
     "data": {
      "image/png": "[encoded data removed]",
      "text/plain": [
       "<Figure size 640x480 with 1 Axes>"
      ]
     },
     "metadata": {},
     "output_type": "display_data"
    }
   ],
   "source": [
    "#welch's method\n",
    "f, Pxx_den = scipy.signal.welch(u,(outer_steps/total_sim_time))\n",
    "plt.loglog(f, Pxx_den)\n",
    "grad=-3\n",
    "plt.loglog([1,3],[10,10+grad*2])\n",
    "#plt.ylim([1e-7, 1e2])\n",
    "plt.xlabel('frequency [Hz]')\n",
    "plt.ylabel('PSD [V**2/Hz]')\n",
    "plt.show()"
   ]
  },
  {
   "cell_type": "code",
   "execution_count": null,
   "metadata": {},
   "outputs": [],
   "source": [
    "#welch's method\n",
    "f, Pxx_den = scipy.signal.welch(v,(outer_steps/total_sim_time))\n",
    "plt.loglog(f, Pxx_den)\n",
    "#plt.ylim([1e-7, 1e2])\n",
    "plt.xlabel('frequency [Hz]')\n",
    "plt.ylabel('PSD [V**2/Hz]')\n",
    "plt.show()"
   ]
  },
  {
   "cell_type": "code",
   "execution_count": null,
   "metadata": {},
   "outputs": [],
   "source": [
    "#welch's method for kinetic energy\n",
    "ek = np.sqrt((u**2 + v**2))\n",
    "f, Pxx_den = scipy.signal.welch(ek,(outer_steps/total_sim_time))\n",
    "plt.loglog(f, Pxx_den)\n",
    "#plt.ylim([1e-7, 1e2])\n",
    "plt.xlabel('frequency [Hz]')\n",
    "plt.ylabel('PSD [V**2/Hz]')\n",
    "plt.show()"
   ]
  },
  {
   "cell_type": "code",
   "execution_count": null,
   "metadata": {},
   "outputs": [],
   "source": []
  },
  {
   "cell_type": "code",
   "execution_count": null,
   "metadata": {},
   "outputs": [],
   "source": [
    "ds"
   ]
  },
  {
   "cell_type": "code",
   "execution_count": null,
   "metadata": {},
   "outputs": [],
   "source": [
    "## plot grid\n",
    "\n",
    "x = ds.x.values.flatten()\n",
    "y = ds.y.values.flatten()\n",
    "\n",
    "xgrid,ygrid = np.meshgrid(x,y)"
   ]
  },
  {
   "cell_type": "code",
   "execution_count": null,
   "metadata": {},
   "outputs": [],
   "source": []
  },
  {
   "cell_type": "code",
   "execution_count": null,
   "metadata": {},
   "outputs": [],
   "source": []
  },
  {
   "cell_type": "code",
   "execution_count": null,
   "metadata": {},
   "outputs": [],
   "source": [
    "plt.figure(figsize=(13, 8))\n",
    "plt.scatter(xgrid,ygrid,1)\n",
    "plt.show()"
   ]
  },
  {
   "cell_type": "code",
   "execution_count": null,
   "metadata": {},
   "outputs": [],
   "source": []
  },
  {
   "cell_type": "code",
   "execution_count": null,
   "metadata": {},
   "outputs": [],
   "source": []
  }
 ],
 "metadata": {
  "kernelspec": {
   "display_name": "Python [conda env:PNAS_codes]",
   "language": "python",
   "name": "conda-env-PNAS_codes-py"
  },
  "language_info": {
   "codemirror_mode": {
    "name": "ipython",
    "version": 3
   },
   "file_extension": ".py",
   "mimetype": "text/x-python",
   "name": "python",
   "nbconvert_exporter": "python",
   "pygments_lexer": "ipython3",
   "version": "3.10.8"
  }
 },
 "nbformat": 4,
 "nbformat_minor": 2
}

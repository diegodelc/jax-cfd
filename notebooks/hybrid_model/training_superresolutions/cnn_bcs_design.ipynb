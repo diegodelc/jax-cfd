{
 "cells": [
  {
   "cell_type": "markdown",
   "metadata": {},
   "source": [
    "## Designing boundary conditions for CNNs"
   ]
  },
  {
   "cell_type": "code",
   "execution_count": null,
   "metadata": {},
   "outputs": [],
   "source": []
  },
  {
   "cell_type": "code",
   "execution_count": 127,
   "metadata": {},
   "outputs": [],
   "source": [
    "import jax.numpy as jnp\n",
    "import jax\n",
    "import numpy as np\n",
    "import haiku as hk"
   ]
  },
  {
   "cell_type": "code",
   "execution_count": null,
   "metadata": {},
   "outputs": [],
   "source": []
  },
  {
   "cell_type": "code",
   "execution_count": null,
   "metadata": {},
   "outputs": [],
   "source": []
  },
  {
   "cell_type": "code",
   "execution_count": 11,
   "metadata": {},
   "outputs": [],
   "source": [
    "def findPadding(kernel):\n",
    "    \n",
    "    padding = []\n",
    "    for kernel_length in jnp.shape(kernel):\n",
    "        if kernel_length % 2 == 0:\n",
    "            raise AssertionError('Kernel must have odd lengths in each dimension')\n",
    "        padding.append(kernel_length //2)\n",
    "    \n",
    "    return padding\n",
    "\n",
    "def createPaddedMesh(mesh,padding):\n",
    "\n",
    "    rowPad = padding[0]\n",
    "    colPad = padding[1]\n",
    "        \n",
    "    (rows,cols) = jnp.shape(mesh)\n",
    "\n",
    "    paddedMesh = jnp.zeros((rows + 2*padding[0],\n",
    "                           cols + 2*padding[1]))\n",
    "    return paddedMesh.at[rowPad:-rowPad,colPad:-colPad].set(mesh)\n",
    "\n",
    "def createPaddedMesh_jit(mesh,kernel):\n",
    "    \n",
    "    padding = findPadding(kernel)\n",
    "    rowPad = padding[0]\n",
    "    colPad = padding[1]\n",
    "        \n",
    "    (rows,cols) = jnp.shape(mesh)\n",
    "\n",
    "    paddedMesh = jnp.zeros((rows + 2*padding[0],\n",
    "                           cols + 2*padding[1]))\n",
    "    return paddedMesh.at[rowPad:-rowPad,colPad:-colPad].set(mesh)\n",
    "\n",
    "\n",
    "createPaddedMesh_jit = jax.jit(createPaddedMesh_jit)"
   ]
  },
  {
   "cell_type": "code",
   "execution_count": null,
   "metadata": {},
   "outputs": [],
   "source": []
  },
  {
   "cell_type": "code",
   "execution_count": null,
   "metadata": {},
   "outputs": [],
   "source": []
  },
  {
   "cell_type": "code",
   "execution_count": null,
   "metadata": {},
   "outputs": [],
   "source": []
  },
  {
   "cell_type": "code",
   "execution_count": 5,
   "metadata": {},
   "outputs": [],
   "source": [
    "## Now lets apply boundary conditions: \n",
    "#     - periodic\n",
    "#     - dirichlet\n",
    "#     - neumann?"
   ]
  },
  {
   "cell_type": "code",
   "execution_count": null,
   "metadata": {},
   "outputs": [],
   "source": []
  },
  {
   "cell_type": "code",
   "execution_count": null,
   "metadata": {},
   "outputs": [],
   "source": []
  },
  {
   "cell_type": "code",
   "execution_count": 76,
   "metadata": {},
   "outputs": [],
   "source": []
  },
  {
   "cell_type": "code",
   "execution_count": null,
   "metadata": {},
   "outputs": [],
   "source": []
  },
  {
   "cell_type": "code",
   "execution_count": 255,
   "metadata": {},
   "outputs": [
    {
     "name": "stdout",
     "output_type": "stream",
     "text": [
      "[[ 0.  0.  0.  0.  0.  0.  0.]\n",
      " [ 0.  1.  2.  3.  4.  5.  0.]\n",
      " [ 0.  6.  7.  8.  9. 10.  0.]\n",
      " [ 0. 11. 12. 13. 14. 15.  0.]\n",
      " [ 0. 16. 17. 18. 19. 20.  0.]\n",
      " [ 0. 21. 22. 23. 24. 25.  0.]\n",
      " [ 0.  0.  0.  0.  0.  0.  0.]]\n"
     ]
    },
    {
     "data": {
      "text/plain": [
       "DeviceArray([[ 0. , 21. , 22. , 23. , 24. , 25. ,  0. ],\n",
       "             [ 1.1,  1. ,  2. ,  3. ,  4. ,  5. ,  1.1],\n",
       "             [ 1.1,  6. ,  7. ,  8. ,  9. , 10. ,  1.1],\n",
       "             [ 1.1, 11. , 12. , 13. , 14. , 15. ,  1.1],\n",
       "             [ 1.1, 16. , 17. , 18. , 19. , 20. ,  1.1],\n",
       "             [ 1.1, 21. , 22. , 23. , 24. , 25. ,  1.1],\n",
       "             [ 0. ,  1. ,  2. ,  3. ,  4. ,  5. ,  0. ]], dtype=float32)"
      ]
     },
     "execution_count": 255,
     "metadata": {},
     "output_type": "execute_result"
    }
   ],
   "source": [
    "field = np.linspace(1,25,25)\n",
    "field = field.reshape(5,5)\n",
    "\n",
    "field = jnp.array(field)\n",
    "\n",
    "kernel = jnp.ones((3,3))\n",
    "\n",
    "padding=findPadding(kernel)\n",
    "\n",
    "test_mesh = createPaddedMesh(field,padding)\n",
    "# test_mesh = createPaddedMesh_jit(field,kernel)\n",
    "\n",
    "## periodic\n",
    "rowPad = padding[0]\n",
    "colPad = padding[1]\n",
    "\n",
    "pad = colPad\n",
    "\n",
    "def periodicPadding(data,pad,axis=0):\n",
    "    \"\"\"\n",
    "    implements periodic padding to both ends of given dimension\n",
    "    \n",
    "    axis=0 -> left and right\n",
    "    axis=1 -> top and bottom (transpose then left and right then transpose)\n",
    "    \"\"\"\n",
    "    if axis == 1:\n",
    "        data = data.T\n",
    "\n",
    "    data = data.at[:,:pad].set(data.at[:,-2*pad:-pad].get())\n",
    "\n",
    "    data = data.at[:,-pad:].set(data.at[:,pad:2*pad].get())\n",
    "\n",
    "    if axis == 1:\n",
    "        data = data.T\n",
    "        \n",
    "    return data\n",
    "\n",
    "def dirichletPadding(data,pad,leftPad,rightPad,axis=0):\n",
    "    \"\"\"\n",
    "    implements dirichlet padding to both ends of given dimension\n",
    "    \n",
    "    axis=0 -> left and right\n",
    "    axis=1 -> top and bottom (transpose then left and right then transpose)\n",
    "    \"\"\"\n",
    "    if axis == 1:\n",
    "        data = data.T\n",
    "\n",
    "    data = data.at[:,:pad].set(leftPad)\n",
    "\n",
    "    data = data.at[:,-pad:].set(rightPad)\n",
    "\n",
    "    if axis == 1:\n",
    "        data = data.T\n",
    "        \n",
    "    return data\n",
    "\n",
    "def padCorners(data,pad,value):\n",
    "    \n",
    "    data = data.at[0,0].set(value)\n",
    "    data = data.at[0,-1].set(value)\n",
    "    \n",
    "    data = data.at[-1,0].set(value)\n",
    "    data = data.at[-1,-1].set(value)\n",
    "    \n",
    "    return data\n",
    "\n",
    "def channelFlowPadding(data,kernel):\n",
    "    (padRow,padCol) = findPadding(kernel)\n",
    "    \n",
    "    data = periodicPadding(data,padRow,axis = 1)\n",
    "    \n",
    "    data = dirichletPadding(data,padCol,1.1,1.1,axis = 0)\n",
    "    \n",
    "    return padCorners(data,pad,0)\n",
    "\n",
    "print(test_mesh)\n",
    "channelFlowPadding(test_mesh,kernel)\n",
    "\n"
   ]
  },
  {
   "cell_type": "code",
   "execution_count": 124,
   "metadata": {},
   "outputs": [],
   "source": [
    "test = test_mesh\n",
    "\n",
    "(rowPad,colPad)=findPadding(kernel)\n",
    "test = test.at[rowPad:-rowPad,colPad:-colPad].get()"
   ]
  },
  {
   "cell_type": "code",
   "execution_count": 221,
   "metadata": {},
   "outputs": [
    {
     "data": {
      "text/plain": [
       "(5, 5, 1)"
      ]
     },
     "execution_count": 221,
     "metadata": {},
     "output_type": "execute_result"
    }
   ],
   "source": [
    "dfield = jnp.dstack((field,))\n",
    "jnp.shape(dfield)"
   ]
  },
  {
   "cell_type": "code",
   "execution_count": 227,
   "metadata": {},
   "outputs": [],
   "source": [
    "class CNN(hk.Module):\n",
    "    def __init__(self):\n",
    "        super().__init__(name=\"CNN\")\n",
    "        self.conv1 = hk.Conv2D(output_channels=1, kernel_shape=(3,3), padding=\"SAME\")\n",
    "\n",
    "    def __call__(self, x):\n",
    "        x = self.conv1(x)\n",
    "        return x\n",
    "\n",
    "def ConvNet(x):\n",
    "    cnn = CNN()\n",
    "    return cnn(x)\n",
    "\n",
    "conv_net = hk.transform(ConvNet)\n",
    "\n",
    "rng = jax.random.PRNGKey(42)\n",
    "\n",
    "params = conv_net.init(rng,dfield)\n"
   ]
  },
  {
   "cell_type": "code",
   "execution_count": 229,
   "metadata": {},
   "outputs": [],
   "source": [
    "pred = conv_net.apply(params,rng,dfield)"
   ]
  },
  {
   "cell_type": "code",
   "execution_count": 230,
   "metadata": {},
   "outputs": [
    {
     "data": {
      "text/plain": [
       "(5, 5, 1)"
      ]
     },
     "execution_count": 230,
     "metadata": {},
     "output_type": "execute_result"
    }
   ],
   "source": [
    "np.shape(pred)"
   ]
  },
  {
   "cell_type": "code",
   "execution_count": null,
   "metadata": {},
   "outputs": [],
   "source": []
  },
  {
   "cell_type": "code",
   "execution_count": null,
   "metadata": {},
   "outputs": [],
   "source": []
  }
 ],
 "metadata": {
  "kernelspec": {
   "display_name": "Python [conda env:PNAS_codes]",
   "language": "python",
   "name": "conda-env-PNAS_codes-py"
  },
  "language_info": {
   "codemirror_mode": {
    "name": "ipython",
    "version": 3
   },
   "file_extension": ".py",
   "mimetype": "text/x-python",
   "name": "python",
   "nbconvert_exporter": "python",
   "pygments_lexer": "ipython3",
   "version": "3.10.8"
  }
 },
 "nbformat": 4,
 "nbformat_minor": 2
}

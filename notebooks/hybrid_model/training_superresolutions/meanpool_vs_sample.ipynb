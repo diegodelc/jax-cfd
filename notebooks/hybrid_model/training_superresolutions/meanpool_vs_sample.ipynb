{
 "cells": [
  {
   "cell_type": "markdown",
   "metadata": {},
   "source": [
    "## Changing training paradigm to create a velocity corrector"
   ]
  },
  {
   "cell_type": "code",
   "execution_count": null,
   "metadata": {},
   "outputs": [],
   "source": [
    "# How they are created from high-fidelity data:\n",
    "    # before:\n",
    "        # X_train: mean pooling, then Nearest Neighbours interpolation\n",
    "        # Y_train: n/a\n",
    "    # now: \n",
    "        # X_train: mean pooling\n",
    "        # Y_train: sampling (reduces size to network input size)"
   ]
  },
  {
   "cell_type": "code",
   "execution_count": null,
   "metadata": {},
   "outputs": [],
   "source": []
  },
  {
   "cell_type": "code",
   "execution_count": 20,
   "metadata": {},
   "outputs": [],
   "source": [
    "#imports\n",
    "import jax\n",
    "import jax.numpy as jnp\n",
    "from jax import value_and_grad\n",
    "\n",
    "from jax_cfd.ml import towers\n",
    "import jax_cfd.ml.train_utils as train_utils\n",
    "from jax_cfd.base.finite_differences import divergence\n",
    "import jax_cfd.base as cfd\n",
    "import jax_cfd.base.grids as grids\n",
    "\n",
    "import haiku as hk\n",
    "import gin\n",
    "import numpy as np\n",
    "import xarray\n",
    "import random\n",
    "\n",
    "import pickle\n",
    "from diego_model_utils import SaveObject, forward_pass_module\n",
    "\n",
    "import matplotlib.pyplot as plt\n",
    "import seaborn"
   ]
  },
  {
   "cell_type": "code",
   "execution_count": 77,
   "metadata": {},
   "outputs": [],
   "source": [
    "# import data\n",
    "file_name = '256x64_150_seconds_inner_1'\n",
    "data = xarray.open_dataset(f'../../creating_dataset/datasets/'+ file_name +'.nc', chunks={'time': '100MB'})"
   ]
  },
  {
   "cell_type": "code",
   "execution_count": 78,
   "metadata": {},
   "outputs": [],
   "source": [
    "# split by timestamps\n",
    "x_shape = len(data.x)\n",
    "y_shape = len(data.y)\n",
    "high_def = []\n",
    "for i in range(int(len(data.time))):\n",
    "    this_time = jnp.dstack([\n",
    "        jnp.array([data.u.isel(time = i)]).reshape(x_shape, y_shape),\n",
    "        jnp.array([data.v.isel(time = i)]).reshape(x_shape, y_shape)\n",
    "    ])\n",
    "    high_def.append(this_time)"
   ]
  },
  {
   "cell_type": "code",
   "execution_count": 79,
   "metadata": {},
   "outputs": [
    {
     "name": "stdout",
     "output_type": "stream",
     "text": [
      "dt: \t\t0.015625\n",
      "outer_steps: \t9600\n",
      "inner_steps: \t1.0\n",
      "total_sim_time: 150.0\n",
      "removed points: 960\n"
     ]
    }
   ],
   "source": [
    "#warm up time (may want to discard initial stages of simulation since not really representative of turbulent flow?)\n",
    "dt = float(data.time[0].values)\n",
    "\n",
    "outer_steps = len(data.time.values)\n",
    "\n",
    "inner_steps = (data.time[1].values-data.time[0].values)/dt\n",
    "\n",
    "total_sim_time = outer_steps*inner_steps*dt\n",
    "print(\"dt: \\t\\t\" + str(dt))\n",
    "print(\"outer_steps: \\t\" + str(outer_steps))\n",
    "print(\"inner_steps: \\t\" + str(inner_steps))\n",
    "print(\"total_sim_time: \" + str(total_sim_time))\n",
    "\n",
    "warm_up = 15 #seconds\n",
    "warm_index = int(warm_up/total_sim_time * outer_steps // 1)\n",
    "print(\"removed points: \" + str(warm_index))\n",
    "high_def = high_def[warm_index:]"
   ]
  },
  {
   "cell_type": "code",
   "execution_count": 80,
   "metadata": {},
   "outputs": [],
   "source": [
    "high_def = high_def[0::50]"
   ]
  },
  {
   "cell_type": "code",
   "execution_count": 81,
   "metadata": {},
   "outputs": [
    {
     "data": {
      "text/plain": [
       "(173, 256, 64, 2)"
      ]
     },
     "execution_count": 81,
     "metadata": {},
     "output_type": "execute_result"
    }
   ],
   "source": [
    "np.shape(high_def)"
   ]
  },
  {
   "cell_type": "code",
   "execution_count": 82,
   "metadata": {},
   "outputs": [
    {
     "name": "stdout",
     "output_type": "stream",
     "text": [
      "Training dataset shape: \n",
      "\t(173, 256, 64, 2)\n"
     ]
    }
   ],
   "source": [
    "print(\"Training dataset shape: \") # (frames, x, y, input channels)\n",
    "print(\"\\t\" + str(np.shape(high_def)))\n",
    "\n"
   ]
  },
  {
   "cell_type": "code",
   "execution_count": 83,
   "metadata": {},
   "outputs": [
    {
     "name": "stdout",
     "output_type": "stream",
     "text": [
      "-0.7672701 1.0142457\n"
     ]
    }
   ],
   "source": [
    "originalMax = np.max(high_def)\n",
    "originalMin = (np.min(high_def))\n",
    "print(originalMin,originalMax)"
   ]
  },
  {
   "cell_type": "code",
   "execution_count": null,
   "metadata": {},
   "outputs": [],
   "source": []
  },
  {
   "cell_type": "code",
   "execution_count": null,
   "metadata": {},
   "outputs": [],
   "source": []
  },
  {
   "cell_type": "code",
   "execution_count": null,
   "metadata": {},
   "outputs": [],
   "source": []
  },
  {
   "cell_type": "code",
   "execution_count": 84,
   "metadata": {},
   "outputs": [],
   "source": [
    "def increaseSize(input, factor):\n",
    "    w,h = np.shape(input)\n",
    "    output = np.zeros((w*factor,h*factor))\n",
    "    \n",
    "    for width in range(w*factor):\n",
    "        for height in range(h*factor):\n",
    "            output[width][height] = input[width//factor][height//factor]\n",
    "    return output\n",
    "\n",
    "\n",
    "def mean_pooling(input,factor):\n",
    "    \"\"\"performs a mean pooling operation\"\"\"\n",
    "    \n",
    "    w,h = np.shape(input)\n",
    "    if w%factor != 0 or h%factor != 0:\n",
    "        raise(AssertionError(\"Non-compatible input shape and downsample factor\"))\n",
    "    \n",
    "    output = np.zeros((int(w/factor),int(h/factor)))\n",
    "    \n",
    "    for width in range(w):\n",
    "        for height in range(h):\n",
    "            output[width//factor][height//factor] += input[width][height]\n",
    "    output /= factor**len(np.shape(output))\n",
    "    return output\n",
    "\n",
    "def downsampleHighDefVels(high_def,factor):\n",
    "    low_def = []\n",
    "    for vels in high_def:\n",
    "        both_vels = []\n",
    "        for vel in vels:\n",
    "            vel = decreaseSize(vel,factor)\n",
    "\n",
    "            vel = increaseSize(vel,factor)\n",
    "            both_vels.append(vel)\n",
    "        low_def.append(both_vels)\n",
    "    return low_def\n",
    "\n",
    "def sampling(input,factor):\n",
    "    \"\"\"performs sampling operation\"\"\"\n",
    "    \n",
    "    w,h = np.shape(input)\n",
    "    if w%factor != 0 or h%factor != 0:\n",
    "        raise(AssertionError(\"Non-compatible input shape and downsample factor\"))\n",
    "    \n",
    "    output = np.zeros((int(w/factor),int(h/factor)))\n",
    "    #print(np.shape(output))\n",
    "    \n",
    "    for width in range(0,w,factor):\n",
    "        for height in range(0,h,factor):\n",
    "            output[width//factor][height//factor] = input[width][height]\n",
    "            \n",
    "    return output\n",
    "    \n",
    "\n",
    "def creatingDataset(highDef,method,factor):\n",
    "    \"\"\"\n",
    "    Performs ´method´ on contents of high_def\n",
    "    \n",
    "    e.g. method = mean_pooling\n",
    "    This function performs a mean pooling operation on each frame within high_def\n",
    "    \n",
    "    \"\"\"\n",
    "    \n",
    "    low_def = []\n",
    "    for vels in highDef:\n",
    "        \n",
    "        u = method(np.array(vels[:,:,0]),factor) #output is a np.array\n",
    "        \n",
    "        \n",
    "        v = method(np.array(vels[:,:,1]),factor) #output is a np.array\n",
    "        \n",
    "        \n",
    "        low_def.append(jnp.dstack([\n",
    "            u,\n",
    "            v\n",
    "        ]))\n",
    "    return low_def\n",
    "\n"
   ]
  },
  {
   "cell_type": "code",
   "execution_count": 88,
   "metadata": {},
   "outputs": [
    {
     "data": {
      "text/plain": [
       "(173, 64, 16, 2)"
      ]
     },
     "execution_count": 88,
     "metadata": {},
     "output_type": "execute_result"
    }
   ],
   "source": [
    "factor = 4\n",
    "np.shape(creatingDataset(high_def,sampling,factor))"
   ]
  },
  {
   "cell_type": "code",
   "execution_count": 90,
   "metadata": {},
   "outputs": [
    {
     "name": "stdout",
     "output_type": "stream",
     "text": [
      "CPU times: user 4.04 s, sys: 8.69 ms, total: 4.05 s\n",
      "Wall time: 4.07 s\n",
      "CPU times: user 368 ms, sys: 1.04 ms, total: 369 ms\n",
      "Wall time: 371 ms\n"
     ]
    }
   ],
   "source": [
    "#split into train and test\n",
    "\n",
    "split = 0.8\n",
    "split = int(len(high_def)*split//1)\n",
    "random.shuffle(high_def)\n",
    "\n",
    "factor = 4\n",
    "\n",
    "\n",
    "\n",
    "%time X_dataset = creatingDataset(high_def,mean_pooling,factor)\n",
    "%time Y_dataset = creatingDataset(high_def,sampling,factor)\n",
    "\n",
    "X_train = X_dataset[:split]\n",
    "Y_train = Y_dataset[:split]\n",
    "\n",
    "X_test = X_dataset[split:]\n",
    "Y_test = Y_dataset[split:]"
   ]
  },
  {
   "cell_type": "code",
   "execution_count": 91,
   "metadata": {},
   "outputs": [
    {
     "name": "stdout",
     "output_type": "stream",
     "text": [
      "(138, 64, 16, 2)\n",
      "(138, 64, 16, 2)\n",
      "(35, 64, 16, 2)\n",
      "(35, 64, 16, 2)\n"
     ]
    }
   ],
   "source": [
    "def printAllShapes(*things):\n",
    "    for thing in things:\n",
    "        print(np.shape(thing))\n",
    "\n",
    "printAllShapes(X_train,Y_train, X_test,Y_test)"
   ]
  },
  {
   "cell_type": "code",
   "execution_count": null,
   "metadata": {},
   "outputs": [],
   "source": []
  },
  {
   "cell_type": "code",
   "execution_count": 92,
   "metadata": {},
   "outputs": [
    {
     "data": {
      "text/plain": [
       "(64, 16, 2)"
      ]
     },
     "execution_count": 92,
     "metadata": {},
     "output_type": "execute_result"
    }
   ],
   "source": [
    "np.shape(X_train[0])"
   ]
  },
  {
   "cell_type": "code",
   "execution_count": 93,
   "metadata": {},
   "outputs": [],
   "source": [
    "def getUorV(data, u=0,xlen=256,ylen=64):\n",
    "    out = []\n",
    "    for point in data:\n",
    "        out.append(\n",
    "            jnp.dstack([\n",
    "                point[:,:,u].reshape(xlen,ylen),\n",
    "                point[:,:,u].reshape(xlen,ylen)\n",
    "            ])\n",
    "        )\n",
    "    return out"
   ]
  },
  {
   "cell_type": "code",
   "execution_count": null,
   "metadata": {},
   "outputs": [],
   "source": []
  },
  {
   "cell_type": "code",
   "execution_count": null,
   "metadata": {},
   "outputs": [],
   "source": []
  },
  {
   "cell_type": "code",
   "execution_count": 94,
   "metadata": {},
   "outputs": [
    {
     "data": {
      "text/plain": [
       "(138, 64, 16, 2)"
      ]
     },
     "execution_count": 94,
     "metadata": {},
     "output_type": "execute_result"
    }
   ],
   "source": [
    "np.shape(X_train)"
   ]
  },
  {
   "cell_type": "code",
   "execution_count": 95,
   "metadata": {},
   "outputs": [],
   "source": [
    "#extract u from u and v\n",
    "# diego = getUorV(X_train)\n",
    "\n",
    "# X_train = getUorV(X_train)\n",
    "# Y_train = getUorV(Y_train)\n",
    "\n",
    "# X_test = getUorV(X_test)\n",
    "# Y_test = getUorV(Y_test)"
   ]
  },
  {
   "cell_type": "code",
   "execution_count": null,
   "metadata": {},
   "outputs": [],
   "source": []
  },
  {
   "cell_type": "code",
   "execution_count": 96,
   "metadata": {},
   "outputs": [],
   "source": [
    "#reference:\n",
    "# https://goodboychan.github.io/python/deep_learning/vision/tensorflow-keras/2020/10/13/01-Super-Resolution-CNN.html#Build-SR-CNN-Model\n",
    "\n",
    "def mse(target, ref):\n",
    "    target_data = target.astype(np.float32)\n",
    "    ref_data = ref.astype(np.float32)\n",
    "    err = np.sum((target_data - ref_data) ** 2)\n",
    "    \n",
    "    err /= float(target_data.shape[0] * target_data.shape[1])\n",
    "    return err"
   ]
  },
  {
   "cell_type": "code",
   "execution_count": 97,
   "metadata": {},
   "outputs": [],
   "source": [
    "def my_mse(pred,actual):\n",
    "    err = (jnp.array(pred)-jnp.array(actual))**2\n",
    "    return err.mean()\n",
    "\n",
    "\n",
    "# print(jnp.array(mse(truth,pred)))\n",
    "# print(jnp.power(jnp.array(truth) - jnp.array(pred), 2).mean())\n",
    "# print(my_mse(pred,truth))"
   ]
  },
  {
   "cell_type": "code",
   "execution_count": null,
   "metadata": {},
   "outputs": [],
   "source": []
  },
  {
   "cell_type": "code",
   "execution_count": 98,
   "metadata": {},
   "outputs": [],
   "source": [
    "num_output_channels = 2\n",
    "# spatial_size = 17\n",
    "ndim = 2\n",
    "input_channels = 2\n",
    "\n",
    "rng_key = jax.random.PRNGKey(42)\n",
    "tower_module = towers.forward_tower_factory #add scaling here\n",
    "\n",
    "forward_pass = forward_pass_module(num_output_channels = num_output_channels, \n",
    "                                    ndim = ndim,\n",
    "                                    tower_module = tower_module)\n",
    "                                \n",
    "\n",
    "forward_pass = hk.without_apply_rng(hk.transform(forward_pass))"
   ]
  },
  {
   "cell_type": "code",
   "execution_count": null,
   "metadata": {},
   "outputs": [],
   "source": []
  },
  {
   "cell_type": "code",
   "execution_count": null,
   "metadata": {},
   "outputs": [],
   "source": []
  },
  {
   "cell_type": "code",
   "execution_count": 99,
   "metadata": {},
   "outputs": [],
   "source": [
    "# Reference:\n",
    "# https://coderzcolumn.com/tutorials/artificial-intelligence/haiku-guide-to-create-multi-layer-perceptrons-using-jax"
   ]
  },
  {
   "cell_type": "code",
   "execution_count": 100,
   "metadata": {},
   "outputs": [],
   "source": [
    "def computePredAndTruth(params,input_data,actual):\n",
    "    preds = []\n",
    "    truth = []\n",
    "    for i in range(len(input_data)):\n",
    "        preds.append(forward_pass.apply(params, input_data[i]))\n",
    "        truth.append(actual[i])\n",
    "    return preds,truth\n",
    "\n",
    "\n",
    "\n",
    "\n",
    "\n",
    "\n",
    "def UpdateWeights(weights,gradients):\n",
    "    return weights - learning_rate * gradients"
   ]
  },
  {
   "cell_type": "code",
   "execution_count": 101,
   "metadata": {},
   "outputs": [],
   "source": [
    "#this one works \n",
    "def MeanSquaredErrorLoss(params, input_data, actual):\n",
    "    preds,truth = computePredAndTruth(params,input_data,actual)\n",
    "    return jnp.power(jnp.array(truth) - jnp.array(preds), 2).mean()\n",
    "\n",
    "def MeanSquaredErrorLossWithDivergence(params, input_data, actual):\n",
    "    preds,truth = computePredAndTruth(params,input_data,actual)\n",
    "    mse = jnp.power(jnp.array(truth) - jnp.array(preds), 2).mean()\n",
    "    div = divergence(v0)\n",
    "    h = 1\n",
    "    return mse + h * div\n",
    "\n",
    "\n",
    "def absErrorLoss(params,input_data,actual):\n",
    "    preds,truth = computePredAndTruth(params,input_data,actual)\n",
    "    return ((jnp.array(truth) - jnp.array(preds))).mean()\n",
    "\n",
    "def train_step(params, X_train, Y_train,X_val,Y_val):\n",
    "    loss, param_grads = value_and_grad(MeanSquaredErrorLoss)(params, X_train, Y_train)\n",
    "    val_loss = MeanSquaredErrorLoss(params, X_val,Y_val)\n",
    "    return jax.tree_map(UpdateWeights, params, param_grads), loss, val_loss"
   ]
  },
  {
   "cell_type": "code",
   "execution_count": 135,
   "metadata": {},
   "outputs": [],
   "source": [
    "learning_rate = jnp.array(0.005)\n",
    "\n",
    "\n",
    "# this block creates a learning rate that changes after a set number of epochs\n",
    "def staggeredLearningRate(*args):\n",
    "    \"\"\"\n",
    "    accepts tuples with the following info:\n",
    "    (number of epochs, learning rate)\n",
    "    \n",
    "    example usage: \n",
    "    learning_rates = staggeredLearningRate((50,0.005),(50,0.001))\n",
    "    \"\"\"\n",
    "    learning_rates = []\n",
    "    for arg in args:\n",
    "        for i in range(arg[0]):\n",
    "            learning_rates.append(arg[1])\n",
    "    return learning_rates\n",
    "\n",
    "learning_rates = staggeredLearningRate((1000,0.001))"
   ]
  },
  {
   "cell_type": "code",
   "execution_count": 103,
   "metadata": {},
   "outputs": [
    {
     "name": "stdout",
     "output_type": "stream",
     "text": [
      "-0.027777777777777776\n",
      "0.09090909090909091\n"
     ]
    }
   ],
   "source": [
    "truth = 11\n",
    "approx = 10\n",
    "\n",
    "def percentageError(approx, truth):\n",
    "    return (approx-truth)/truth\n",
    "\n",
    "def absPercentageError(approx,truth):\n",
    "    return abs(percentageError(approx,truth))\n",
    "\n",
    "print(percentageError(approx = 35,\n",
    "                truth = 36))\n",
    "\n",
    "print(absPercentageError(approx = 10,\n",
    "                truth = 11))\n"
   ]
  },
  {
   "cell_type": "code",
   "execution_count": 133,
   "metadata": {},
   "outputs": [],
   "source": [
    "def train(X_train,Y_train,X_test,Y_test,rng_key,input_channels,epochs,params=None):\n",
    "    \"\"\"\n",
    "    Input parameter 'params' allows us to keep training a network that has already undergone some \n",
    "    training, without having to retrain from scratch\n",
    "    \"\"\"\n",
    "    \n",
    "    shapes = np.shape(X_train)\n",
    "    if input_channels != shapes[3]:\n",
    "        raise(AssertionError(\"Non-compatible input shape and input channels\"))\n",
    "\n",
    "    sample_x = jax.random.uniform(rng_key, (shapes[1],shapes[2],input_channels))\n",
    "\n",
    "    batch_size = 1\n",
    "    if params == None:\n",
    "        params = forward_pass.init(rng_key, sample_x)\n",
    "\n",
    "    \n",
    "    print(\"Shapes of all datasets\")\n",
    "    printAllShapes(X_train,Y_train,X_test,Y_test)\n",
    "    print(\"\\n\")\n",
    "    \n",
    "    tol = 1e-5\n",
    "    losses = []\n",
    "    val_losses = []\n",
    "    for i in range(1, epochs+1):\n",
    "\n",
    "        learning_rate = learning_rates[i-1]\n",
    "\n",
    "        params,loss,val_loss = train_step(params,X_train,Y_train,X_test,Y_test) #TODO: using test as validation, change this!\n",
    "\n",
    "        \n",
    "        if i%100 == 0: #every n epochs\n",
    "            print(\"Epoch {:.0f}/{:.0f}\".format(i,epochs))\n",
    "            print(\"\\tmse : {:.6f}\\t\".format(loss), end='')\n",
    "            print(\"\\tval mse : {:.6f}\".format(val_loss), end='')\n",
    "            print(\"\\n\")\n",
    "        losses.append(loss)\n",
    "        val_losses.append(val_loss)\n",
    "\n",
    "        if i != 1:\n",
    "            if abs(losses[-2]-losses[-1])<tol:\n",
    "                print(\"\\nConvergence reached at epoch {:.0f}\".format(i))\n",
    "                print(\"\\tmse : {:.6f}\\t\".format(loss), end='')\n",
    "                print(\"\\tval mse : {:.6f}\".format(val_loss), end='')\n",
    "                print(\"\\n\")\n",
    "                break\n",
    "\n",
    "    if i == epochs:\n",
    "        print(\"\\nFinished training at max epochs\\n\")\n",
    "    \n",
    "    return losses, val_losses, params"
   ]
  },
  {
   "cell_type": "code",
   "execution_count": null,
   "metadata": {},
   "outputs": [
    {
     "name": "stdout",
     "output_type": "stream",
     "text": [
      "Shapes of all datasets\n",
      "(138, 64, 16, 2)\n",
      "(138, 64, 16, 2)\n",
      "(35, 64, 16, 2)\n",
      "(35, 64, 16, 2)\n",
      "\n",
      "\n"
     ]
    }
   ],
   "source": [
    "%time losses,val_losses,params = train(X_train,Y_train,X_test,Y_test,rng_key,input_channels,1000,params=loaded.params)"
   ]
  },
  {
   "cell_type": "code",
   "execution_count": 128,
   "metadata": {},
   "outputs": [
    {
     "data": {
      "text/plain": [
       "<matplotlib.legend.Legend at 0x14fc581d4610>"
      ]
     },
     "execution_count": 128,
     "metadata": {},
     "output_type": "execute_result"
    },
    {
     "data": {
      "image/png": "[encoded data removed]",
      "text/plain": [
       "<Figure size 640x480 with 1 Axes>"
      ]
     },
     "metadata": {},
     "output_type": "display_data"
    }
   ],
   "source": [
    "step = 1\n",
    "\n",
    "plt.plot(losses[::step], label=\"training\")\n",
    "plt.plot(val_losses[::step],label=\"validation\")\n",
    "plt.ylabel(\"mse\")\n",
    "plt.xlabel(\"epochs\")\n",
    "# plt.yscale(\"log\")\n",
    "plt.legend()"
   ]
  },
  {
   "cell_type": "markdown",
   "metadata": {},
   "source": [
    "## Saving model"
   ]
  },
  {
   "cell_type": "code",
   "execution_count": 129,
   "metadata": {},
   "outputs": [],
   "source": [
    "toSave = SaveObject()\n",
    "toSave.save_params(params)\n",
    "toSave.save_forward_pass_params(num_output_channels,ndim,tower_module)"
   ]
  },
  {
   "cell_type": "code",
   "execution_count": 130,
   "metadata": {},
   "outputs": [],
   "source": [
    "save_path = \"./../models/velocity_correctors/second_new_paradigm.pickle\""
   ]
  },
  {
   "cell_type": "code",
   "execution_count": 131,
   "metadata": {},
   "outputs": [],
   "source": [
    "with open(save_path,\"wb\") as f:\n",
    "    pickle.dump(toSave,f)"
   ]
  },
  {
   "cell_type": "markdown",
   "metadata": {},
   "source": [
    "## Loading model"
   ]
  },
  {
   "cell_type": "code",
   "execution_count": 132,
   "metadata": {},
   "outputs": [],
   "source": [
    "with open(save_path,'rb',) as pickle_file:\n",
    "    loaded = pickle.load(pickle_file)\n",
    "    loaded.make_forward_pass()\n",
    "    loaded.preprocess()"
   ]
  },
  {
   "cell_type": "markdown",
   "metadata": {},
   "source": [
    "## Predicting with loaded model"
   ]
  },
  {
   "cell_type": "code",
   "execution_count": 120,
   "metadata": {},
   "outputs": [],
   "source": [
    "num =  11 #int(np.random.rand()*np.shape(X_test)[0]//1)\n",
    "vel = 0      # 0 is u, 1 is v\n",
    "\n",
    "pred = loaded.forward_pass.apply(loaded.params,X_test[num])"
   ]
  },
  {
   "cell_type": "code",
   "execution_count": 121,
   "metadata": {},
   "outputs": [],
   "source": [
    "def vorticity(u,v):\n",
    "    #dvdx - dudy\n",
    "    return np.gradient(v,axis = 0) -np.gradient(u,axis = 1)"
   ]
  },
  {
   "cell_type": "code",
   "execution_count": 122,
   "metadata": {},
   "outputs": [
    {
     "data": {
      "text/plain": [
       "(64, 16, 2)"
      ]
     },
     "execution_count": 122,
     "metadata": {},
     "output_type": "execute_result"
    }
   ],
   "source": [
    "np.shape(pred)"
   ]
  },
  {
   "cell_type": "code",
   "execution_count": 125,
   "metadata": {},
   "outputs": [],
   "source": [
    "pred = loaded.forward_pass.apply(loaded.params,X_test[num])\n",
    "np.shape(pred)\n",
    "\n",
    "vel = 1 #0 = u, 1 = v\n"
   ]
  },
  {
   "cell_type": "code",
   "execution_count": 126,
   "metadata": {},
   "outputs": [
    {
     "data": {
      "image/png": "[encoded data removed]",
      "text/plain": [
       "<Figure size 1000x2000 with 6 Axes>"
      ]
     },
     "metadata": {},
     "output_type": "display_data"
    }
   ],
   "source": [
    "fig, axs = plt.subplots(3,1, facecolor='w', edgecolor='k',figsize=(10,20))\n",
    "# fig.subplots_adjust(hspace = .5, wspace=.1)\n",
    "axs = axs.ravel()\n",
    "\n",
    "im = seaborn.heatmap(Y_test[num][:,:,vel].T,ax = axs[0])\n",
    "axs[0].title.set_text(\"Original, high definition\")\n",
    "im = seaborn.heatmap(X_test[num][:,:,vel].T,ax = axs[1])\n",
    "axs[1].title.set_text(\"Downsample\")\n",
    "im = seaborn.heatmap(pred[:,:,vel].T,ax = axs[2])\n",
    "axs[2].title.set_text(\"Superresolution\")"
   ]
  },
  {
   "cell_type": "code",
   "execution_count": null,
   "metadata": {},
   "outputs": [],
   "source": []
  },
  {
   "cell_type": "code",
   "execution_count": null,
   "metadata": {},
   "outputs": [],
   "source": []
  },
  {
   "cell_type": "code",
   "execution_count": null,
   "metadata": {},
   "outputs": [],
   "source": []
  },
  {
   "cell_type": "code",
   "execution_count": null,
   "metadata": {},
   "outputs": [],
   "source": []
  }
 ],
 "metadata": {
  "kernelspec": {
   "display_name": "Python [conda env:PNAS_codes]",
   "language": "python",
   "name": "conda-env-PNAS_codes-py"
  },
  "language_info": {
   "codemirror_mode": {
    "name": "ipython",
    "version": 3
   },
   "file_extension": ".py",
   "mimetype": "text/x-python",
   "name": "python",
   "nbconvert_exporter": "python",
   "pygments_lexer": "ipython3",
   "version": "3.10.8"
  }
 },
 "nbformat": 4,
 "nbformat_minor": 2
}

{
 "cells": [
  {
   "cell_type": "code",
   "execution_count": 9,
   "metadata": {},
   "outputs": [],
   "source": [
    "#imports\n",
    "import jax\n",
    "import jax.numpy as jnp\n",
    "\n",
    "import jax_cfd.base as cfd\n",
    "from jax_cfd.base import advection\n",
    "from jax_cfd.ml import towers\n",
    "import jax_cfd.ml.train_utils as train_utils\n",
    "from jax_cfd.base import finite_differences as fd\n",
    "from jax_cfd.base import grids\n",
    "\n",
    "import haiku as hk\n",
    "import numpy as np\n",
    "import xarray\n",
    "import random\n",
    "\n",
    "import pickle\n",
    "# from jax_cfd.ml.diego_model_utils import SaveObject, forward_pass_module\n",
    "import jax_cfd.ml.diego_preprocessing as preprocessing\n",
    "import jax_cfd.ml.diego_train_functions as training\n",
    "from jax_cfd.ml import nonlinearities\n",
    "import jax_cfd.ml.diego_cnn_bcs as bcs\n",
    "\n",
    "import jax_cfd.ml.newSaveObject as saving\n",
    "import jax_cfd.ml.diego_towers as mytowers\n",
    "\n",
    "import matplotlib.pyplot as plt\n",
    "import seaborn\n",
    "\n",
    "import time\n",
    "\n",
    "import tree_math"
   ]
  },
  {
   "cell_type": "code",
   "execution_count": null,
   "metadata": {},
   "outputs": [],
   "source": [
    "# this allows me to reload a module without having to interrupt the kernel\n",
    "# import importlib\n",
    "# importlib.reload()\n",
    "# importlib.reload(from jax_cfd.ml.diego_train_functions import *)\n",
    "# importlib.reload(from jax_cfd.ml import nonlinearities)\n",
    "# importlib.reload(from jax_cfd.ml.diego_cnn_bcs import *)"
   ]
  },
  {
   "cell_type": "code",
   "execution_count": 2,
   "metadata": {},
   "outputs": [],
   "source": [
    "# import data\n",
    "file_name = '256x64_150_seconds_inner_1'\n",
    "data = xarray.open_dataset(f'../../creating_dataset/datasets/'+ file_name +'.nc', chunks={'time': '100MB'})"
   ]
  },
  {
   "cell_type": "code",
   "execution_count": 5,
   "metadata": {},
   "outputs": [],
   "source": [
    "# split by timestamps\n",
    "x_shape = len(data.x)\n",
    "y_shape = len(data.y)\n",
    "high_def = []\n",
    "for i in range(int(len(data.time))):\n",
    "    this_time = np.dstack([\n",
    "        jnp.array([data.u.isel(time = i)]).reshape(x_shape,y_shape),\n",
    "        jnp.array([data.v.isel(time = i)]).reshape(x_shape,y_shape)\n",
    "    ])\n",
    "    high_def.append(this_time)"
   ]
  },
  {
   "cell_type": "code",
   "execution_count": 6,
   "metadata": {},
   "outputs": [
    {
     "name": "stdout",
     "output_type": "stream",
     "text": [
      "dt: \t\t0.015625\n",
      "outer_steps: \t9600\n",
      "inner_steps: \t1.0\n",
      "total_sim_time: 150.0\n",
      "removed points: 960\n",
      "\n",
      "\n",
      "step = 100\n",
      "Training dataset shape: \n",
      "\t(87, 256, 64, 2)\n"
     ]
    }
   ],
   "source": [
    "#warm up time (may want to discard initial stages of simulation since not really representative of turbulent flow?)\n",
    "dt = float(data.time[0].values)\n",
    "\n",
    "outer_steps = len(data.time.values)\n",
    "\n",
    "inner_steps = (data.time[1].values-data.time[0].values)/dt\n",
    "\n",
    "total_sim_time = outer_steps*inner_steps*dt\n",
    "print(\"dt: \\t\\t\" + str(dt))\n",
    "print(\"outer_steps: \\t\" + str(outer_steps))\n",
    "print(\"inner_steps: \\t\" + str(inner_steps))\n",
    "print(\"total_sim_time: \" + str(total_sim_time))\n",
    "\n",
    "warm_up = 15 #seconds\n",
    "warm_index = int(warm_up/total_sim_time * outer_steps // 1)\n",
    "print(\"removed points: \" + str(warm_index))\n",
    "high_def = high_def[warm_index:]\n",
    "\n",
    "print(\"\\n\")\n",
    "step = 100\n",
    "high_def = high_def[0::step]\n",
    "print(\"step = \" + str(step))\n",
    "print(\"Training dataset shape: \") # (frames, x, y, input channels)\n",
    "print(\"\\t\" + str(np.shape(high_def)))"
   ]
  },
  {
   "cell_type": "code",
   "execution_count": 7,
   "metadata": {},
   "outputs": [],
   "source": [
    "def convect(v):  # pylint: disable=function-redefined\n",
    "      return tuple(\n",
    "          advection.advect_van_leer(u, v, dt) for u in v)\n",
    "    \n",
    "convection = cfd.equations._wrap_term_as_vector(convect, name='convection')"
   ]
  },
  {
   "cell_type": "code",
   "execution_count": 61,
   "metadata": {},
   "outputs": [],
   "source": [
    "def reshapeForAdvection(v):\n",
    "    mygrid = (grids.GridVariable(array = grids.GridArray(data = v[:,:,0], \n",
    "                                            offset = (1.0, 0.5), \n",
    "                                            grid=grids.Grid(\n",
    "                                                shape=(256, 64),  \n",
    "                                                domain=((0.0, 8.0), (0.0, 2.0)) ) ),\n",
    "#                        bc=cfd.boundaries.channel_flow_boundary_conditions(ndim=2)\n",
    "                        bc = cfd.boundaries.periodic_boundary_conditions(2)\n",
    "                   ),\n",
    "             grids.GridVariable(array = grids.GridArray(data = v[:,:,1], \n",
    "                                            offset = (0.5, 1.0),\n",
    "                                            grid=grids.Grid(\n",
    "                                                shape=(256, 64),  \n",
    "                                                domain=((0.0, 8.0), (0.0, 2.0)) ) ),\n",
    "#                        bc=cfd.boundaries.channel_flow_boundary_conditions(ndim=2)\n",
    "                        bc = cfd.boundaries.periodic_boundary_conditions(2)\n",
    "                   )\n",
    "           )\n",
    "    return tree_math.Vector(mygrid)"
   ]
  },
  {
   "cell_type": "code",
   "execution_count": 99,
   "metadata": {},
   "outputs": [],
   "source": [
    "all_advected = []\n",
    "for field in high_def:\n",
    "    advected = convection(reshapeForAdvection(field))\n",
    "    vel = 0\n",
    "    uadv = advected.tree_flatten()[0][0][vel].data\n",
    "    vel = 1\n",
    "    vadv = advected.tree_flatten()[0][0][vel].data\n",
    "    this_time = jnp.dstack([\n",
    "            jnp.array(uadv),\n",
    "            jnp.array(vadv)\n",
    "        ])\n",
    "    all_advected.append(this_time)"
   ]
  },
  {
   "cell_type": "code",
   "execution_count": null,
   "metadata": {},
   "outputs": [],
   "source": []
  },
  {
   "cell_type": "code",
   "execution_count": null,
   "metadata": {},
   "outputs": [],
   "source": []
  }
 ],
 "metadata": {
  "kernelspec": {
   "display_name": "Python [conda env:PNAS_codes]",
   "language": "python",
   "name": "conda-env-PNAS_codes-py"
  },
  "language_info": {
   "codemirror_mode": {
    "name": "ipython",
    "version": 3
   },
   "file_extension": ".py",
   "mimetype": "text/x-python",
   "name": "python",
   "nbconvert_exporter": "python",
   "pygments_lexer": "ipython3",
   "version": "3.10.8"
  }
 },
 "nbformat": 4,
 "nbformat_minor": 2
}

{
 "cells": [
  {
   "cell_type": "markdown",
   "metadata": {},
   "source": [
    "## Training to velocities, 1st derivatives and laplacians"
   ]
  },
  {
   "cell_type": "code",
   "execution_count": 2,
   "metadata": {},
   "outputs": [],
   "source": [
    "#imports\n",
    "import jax\n",
    "import jax.numpy as jnp\n",
    "\n",
    "import jax_cfd.base as cfd\n",
    "from jax_cfd.ml import towers\n",
    "import jax_cfd.ml.train_utils as train_utils\n",
    "from jax_cfd.base import finite_differences as fd\n",
    "from jax_cfd.base import grids\n",
    "\n",
    "import haiku as hk\n",
    "import numpy as np\n",
    "import xarray\n",
    "import random\n",
    "\n",
    "import pickle\n",
    "# from jax_cfd.ml.diego_model_utils import SaveObject, forward_pass_module\n",
    "from jax_cfd.ml.diego_preprocessing import *\n",
    "from jax_cfd.ml.diego_train_functions import *\n",
    "from jax_cfd.ml import nonlinearities\n",
    "from jax_cfd.ml.diego_cnn_bcs import *\n",
    "\n",
    "from jax_cfd.ml.newSaveObject import *\n",
    "from jax_cfd.ml.diego_towers import *\n",
    "\n",
    "import matplotlib.pyplot as plt\n",
    "import seaborn\n",
    "\n",
    "import time"
   ]
  },
  {
   "cell_type": "code",
   "execution_count": 3,
   "metadata": {},
   "outputs": [],
   "source": [
    "# import data (fine grid)\n",
    "# create X_data via mean pooling\n",
    "# create Y_data by calculating everything for each frame and stacking them along the channel dimension"
   ]
  },
  {
   "cell_type": "code",
   "execution_count": null,
   "metadata": {},
   "outputs": [],
   "source": []
  },
  {
   "cell_type": "code",
   "execution_count": null,
   "metadata": {},
   "outputs": [],
   "source": []
  },
  {
   "cell_type": "code",
   "execution_count": 4,
   "metadata": {},
   "outputs": [],
   "source": [
    "# import data\n",
    "file_name = '256x64_150_seconds_inner_1'\n",
    "data = xarray.open_dataset(f'../../creating_dataset/datasets/'+ file_name +'.nc', chunks={'time': '100MB'})"
   ]
  },
  {
   "cell_type": "code",
   "execution_count": 5,
   "metadata": {},
   "outputs": [
    {
     "name": "stderr",
     "output_type": "stream",
     "text": [
      "WARNING:jax._src.lib.xla_bridge:No GPU/TPU found, falling back to CPU. (Set TF_CPP_MIN_LOG_LEVEL=0 and rerun for more info.)\n"
     ]
    }
   ],
   "source": [
    "# split by timestamps\n",
    "x_shape = len(data.x)\n",
    "y_shape = len(data.y)\n",
    "high_def = []\n",
    "for i in range(int(len(data.time))):\n",
    "    this_time = np.dstack([\n",
    "        jnp.array([data.u.isel(time = i)]).reshape(x_shape,y_shape).T,\n",
    "        jnp.array([data.v.isel(time = i)]).reshape(x_shape,y_shape).T\n",
    "    ])\n",
    "    high_def.append(this_time)"
   ]
  },
  {
   "cell_type": "code",
   "execution_count": 6,
   "metadata": {},
   "outputs": [
    {
     "name": "stdout",
     "output_type": "stream",
     "text": [
      "dt: \t\t0.015625\n",
      "outer_steps: \t9600\n",
      "inner_steps: \t1.0\n",
      "total_sim_time: 150.0\n",
      "removed points: 960\n",
      "\n",
      "\n",
      "step = 10\n",
      "Training dataset shape: \n",
      "\t(864, 64, 256, 2)\n"
     ]
    }
   ],
   "source": [
    "#warm up time (may want to discard initial stages of simulation since not really representative of turbulent flow?)\n",
    "dt = float(data.time[0].values)\n",
    "\n",
    "outer_steps = len(data.time.values)\n",
    "\n",
    "inner_steps = (data.time[1].values-data.time[0].values)/dt\n",
    "\n",
    "total_sim_time = outer_steps*inner_steps*dt\n",
    "print(\"dt: \\t\\t\" + str(dt))\n",
    "print(\"outer_steps: \\t\" + str(outer_steps))\n",
    "print(\"inner_steps: \\t\" + str(inner_steps))\n",
    "print(\"total_sim_time: \" + str(total_sim_time))\n",
    "\n",
    "warm_up = 15 #seconds\n",
    "warm_index = int(warm_up/total_sim_time * outer_steps // 1)\n",
    "print(\"removed points: \" + str(warm_index))\n",
    "high_def = high_def[warm_index:]\n",
    "\n",
    "print(\"\\n\")\n",
    "step = 10\n",
    "high_def = high_def[0::step]\n",
    "print(\"step = \" + str(step))\n",
    "print(\"Training dataset shape: \") # (frames, x, y, input channels)\n",
    "print(\"\\t\" + str(np.shape(high_def)))"
   ]
  },
  {
   "cell_type": "code",
   "execution_count": 7,
   "metadata": {},
   "outputs": [
    {
     "name": "stdout",
     "output_type": "stream",
     "text": [
      "CPU times: user 79.5 ms, sys: 10.5 ms, total: 90 ms\n",
      "Wall time: 90.2 ms\n"
     ]
    }
   ],
   "source": [
    "%time high_def_norm,ogMean,ogStdDev = normalisingDataset(high_def)"
   ]
  },
  {
   "cell_type": "markdown",
   "metadata": {},
   "source": [
    "## Defining what we are training towards"
   ]
  },
  {
   "cell_type": "code",
   "execution_count": 8,
   "metadata": {},
   "outputs": [],
   "source": [
    "which_outputs = {\n",
    "        \"u\" : False,\n",
    "        \"du\" : False,\n",
    "        \"lapu\" : True,\n",
    "        \n",
    "        \"v\" : False,\n",
    "        \"dv\" : False,\n",
    "        \"lapv\" : True\n",
    "    }\n",
    "\n",
    "conditions = [\n",
    "#             [0,0],#u\n",
    "#             [0,0],#dudx\n",
    "#             [0,0],#dudy\n",
    "            [0,0],#lapu\n",
    "\n",
    "#             [0,0],#v\n",
    "#             [0,0],#dvdx\n",
    "#             [0,0],#dvdy\n",
    "            [0,0]#lapv\n",
    "        ]"
   ]
  },
  {
   "cell_type": "code",
   "execution_count": 9,
   "metadata": {},
   "outputs": [
    {
     "name": "stdout",
     "output_type": "stream",
     "text": [
      "Create X dataset: \n",
      "CPU times: user 18.9 s, sys: 28 ms, total: 18.9 s\n",
      "Wall time: 18.9 s\n",
      "\n",
      "Create Y dataset: \n",
      "CPU times: user 1.32 s, sys: 7.89 ms, total: 1.32 s\n",
      "Wall time: 1.33 s\n",
      "\n",
      "Padding all datasets: \n",
      "CPU times: user 13.7 s, sys: 16.3 ms, total: 13.7 s\n",
      "Wall time: 13.7 s\n",
      "CPU times: user 13.4 s, sys: 11.5 ms, total: 13.4 s\n",
      "Wall time: 13.4 s\n",
      "CPU times: user 3.35 s, sys: 1.87 ms, total: 3.35 s\n",
      "Wall time: 3.36 s\n",
      "CPU times: user 3.35 s, sys: 2.86 ms, total: 3.35 s\n",
      "Wall time: 3.36 s\n",
      "\n",
      "Shapes of all datasets\n",
      "(691, 18, 66, 2)\n",
      "(691, 18, 66, 2)\n",
      "(173, 18, 66, 2)\n",
      "(173, 18, 66, 2)\n"
     ]
    }
   ],
   "source": [
    "#split into train and test\n",
    "\n",
    "split = 0.8\n",
    "split = int(len(high_def)*split//1)\n",
    "random.shuffle(high_def)\n",
    "\n",
    "factor = 4\n",
    "\n",
    "print(\"Create X dataset: \")\n",
    "%time X_dataset = creatingDataset(high_def_norm,mean_pooling,factor)\n",
    "\n",
    "print(\"\\nCreate Y dataset: \")\n",
    "%time Y_dataset = createDatasetDerivatives(high_def_norm,sampling,factor,which_outputs)\n",
    "\n",
    "# %time Y_dataset = calculateResiduals(X_dataset,Y_dataset)\n",
    "\n",
    "\n",
    "X_train = X_dataset[:split]\n",
    "Y_train = Y_dataset[:split]\n",
    "\n",
    "X_test = X_dataset[split:]\n",
    "Y_test = Y_dataset[split:]\n",
    "\n",
    "# NOTE: padding conditions can be specified via the \"conditions\" input to the padYDataset function below\n",
    "# the padXDataset only pads u and v for channel flow conditions, so hard coded for impermeability and no-slip conditions (0,0)\n",
    "print(\"\\nPadding all datasets: \")\n",
    "padding = [1,1] #this is for a 3 by 3 kernel, find a better way to define this (so not redifined when creating CNN)\n",
    "%time X_train = padXDataset(X_train,padding)\n",
    "%time Y_train = padYDataset(Y_train,padding,conditions)\n",
    "\n",
    "%time X_test = padXDataset(X_test,padding)\n",
    "%time Y_test = padYDataset(Y_test,padding,conditions)\n",
    "\n",
    "print(\"\\nShapes of all datasets\")\n",
    "printAllShapes(X_train,Y_train, X_test,Y_test)"
   ]
  },
  {
   "cell_type": "code",
   "execution_count": null,
   "metadata": {},
   "outputs": [],
   "source": []
  },
  {
   "cell_type": "markdown",
   "metadata": {},
   "source": [
    "## Defining model shape"
   ]
  },
  {
   "cell_type": "code",
   "execution_count": 74,
   "metadata": {},
   "outputs": [],
   "source": [
    "def ConvNet(x):\n",
    "    cnn = CNN(CNN_specs)\n",
    "    return cnn(x)\n",
    "\n",
    "CNN_specs = {\n",
    "    \"hidden_channels\" : 10,\n",
    "    \"hidden_layers\" : 6,\n",
    "    \"nonlinearity\" : \"relu\",\n",
    "    \"num_output_channels\" : 2\n",
    "}\n",
    "input_channels = 2\n",
    "\n",
    "# CNN_specs = None"
   ]
  },
  {
   "cell_type": "code",
   "execution_count": null,
   "metadata": {},
   "outputs": [],
   "source": []
  },
  {
   "cell_type": "code",
   "execution_count": 75,
   "metadata": {},
   "outputs": [],
   "source": [
    "forward_pass = hk.without_apply_rng(hk.transform(ConvNet))"
   ]
  },
  {
   "cell_type": "code",
   "execution_count": 76,
   "metadata": {},
   "outputs": [],
   "source": [
    "import numpy as np\n",
    "import jax.numpy as jnp\n",
    "\n",
    "import jax\n",
    "from jax import value_and_grad\n",
    "\n",
    "import jax_cfd.base as cfd\n",
    "from jax_cfd.base import grids\n",
    "\n",
    "import time\n",
    "\n",
    "def printAllShapes(*things):\n",
    "    for thing in things:\n",
    "        print(np.shape(thing))\n",
    "\n",
    "def staggeredLearningRate(*args):\n",
    "    \"\"\"\n",
    "    accepts tuples with the following info:\n",
    "    (number of epochs, learning rate)\n",
    "\n",
    "    example usage: \n",
    "    learning_rates = staggeredLearningRate((50,0.005),(50,0.001))\n",
    "    \"\"\"\n",
    "    learning_rates = []\n",
    "    for arg in args:\n",
    "        for i in range(arg[0]):\n",
    "            learning_rates.append(jnp.array(arg[1]))\n",
    "    return learning_rates\n",
    "\n",
    "\n",
    "\n",
    "        \n",
    "class MyTraining():\n",
    "    def __init__(self,X_train,Y_train,X_test,Y_test,rng_key,input_channels,epochs,learning_rates,batch_size = None,validateEvery=1,printEvery=5,params=None,forward_pass=None,tol = 1e-5):\n",
    "        \n",
    "        self.X_train = X_train\n",
    "        self.Y_train = Y_train\n",
    "        self.X_test = X_test\n",
    "        self.Y_test = Y_test\n",
    "        \n",
    "        self.rng_key = rng_key\n",
    "        self.input_channels = input_channels\n",
    "        self.epochs = epochs\n",
    "        \n",
    "        \n",
    "        self.batch_size = batch_size\n",
    "        self.validateEvery = validateEvery\n",
    "       \n",
    "        self.printEvery = printEvery\n",
    "        self.params = params\n",
    "        self.forward_pass = forward_pass\n",
    "        self.tol = tol\n",
    "        \n",
    "        self.losses = []\n",
    "        self.val_losses = []\n",
    "        \n",
    "        self.learning_rates = learning_rates\n",
    "        self.learning_rate = self.learning_rates[0]\n",
    "    \n",
    "    \n",
    "    # Loss functions\n",
    "    def MeanSquaredErrorLoss(self, params,input_data, actual):\n",
    "        preds,truth = self.computePredAndTruth(params,input_data,actual)\n",
    "        \n",
    "        return jnp.power(jnp.array(truth) - jnp.array(preds), 2).mean()\n",
    "    # MeanSquaredErrorLoss = jax.jit(MeanSquaredErrorLoss)\n",
    "\n",
    "\n",
    "#     def MeanSquaredErrorLossWithDivergence(self,params, input_data, actual):\n",
    "#         preds,truth = self.computePredAndTruth(input_data,actual)\n",
    "#         mse = jnp.power(jnp.array(truth) - jnp.array(preds), 2).mean()\n",
    "#         div = divergence(v0)\n",
    "#         h = 1\n",
    "#         return mse + h * div\n",
    "\n",
    "    def absErrorLoss(self,input_data,actual):\n",
    "        preds,truth = computePredAndTruth(input_data,actual)\n",
    "        return ((jnp.array(truth) - jnp.array(preds))).mean()\n",
    "\n",
    "    #reference:\n",
    "    # https://goodboychan.github.io/python/deep_learning/vision/tensorflow-keras/2020/10/13/01-Super-Resolution-CNN.html#Build-SR-CNN-Model\n",
    "    def mse(self,target, ref):\n",
    "        target_data = target.astype(np.float32)\n",
    "        ref_data = ref.astype(np.float32)\n",
    "        err = np.sum((target_data - ref_data) ** 2)\n",
    "\n",
    "        err /= float(target_data.shape[0] * target_data.shape[1])\n",
    "        return err\n",
    "\n",
    "    def my_mse(self,pred,actual):\n",
    "        err = (jnp.array(pred)-jnp.array(actual))**2\n",
    "        return err.mean()\n",
    "\n",
    "    def percentageError(self,approx, truth):\n",
    "        return (approx-truth)/truth\n",
    "\n",
    "    def absPercentageError(self,approx,truth):\n",
    "        return abs(percentageError(approx,truth))\n",
    "\n",
    "    def mape(self,approx, truth):\n",
    "        return jnp.mean(abs(percentageError(approx,truth)))\n",
    "\n",
    "\n",
    "\n",
    "\n",
    "\n",
    "    # Training functions\n",
    "\n",
    "\n",
    "\n",
    "    def computePredAndTruth(self,params,input_data,actual):\n",
    "        preds = []\n",
    "        truth = []\n",
    "        for i in range(len(input_data)):\n",
    "            preds.append(self.forward_pass.apply(params, input_data[i]))\n",
    "            truth.append(actual[i])\n",
    "\n",
    "        return preds,truth\n",
    "    \n",
    "    \n",
    "\n",
    "\n",
    "    def train_step(self):\n",
    "        loss, param_grads = value_and_grad(self.MeanSquaredErrorLoss)(self.params,self.X_train, self.Y_train)\n",
    "        val_loss = self.MeanSquaredErrorLoss(self.params,self.X_test,self.Y_test)\n",
    "        \n",
    "#         return jax.tree_map(self.UpdateWeights, param_grads), loss, val_loss\n",
    "        return jax.tree_map(lambda p,g: p-self.learning_rate*g, self.params, param_grads), loss, val_loss\n",
    "\n",
    "    def train_stepNoValidation(self,X_train_batch,Y_train_batch):\n",
    "            loss, param_grads = value_and_grad(self.MeanSquaredErrorLoss)(self.params,self.X_train, self.Y_train)\n",
    "\n",
    "\n",
    "            return jax.tree_map(self.UpdateWeights,self.params,param_grads), loss\n",
    "#             return jax.tree_map(lambda p,g: p-self.learning_rate*g, self.params, param_grads), loss\n",
    "\n",
    "    def eval_validation(self):\n",
    "        return self.MeanSquaredErrorLoss(self.params,self.X_test,self.Y_test)\n",
    "\n",
    "    def UpdateWeights(self,params,gradients):\n",
    "        return params - self.learning_rate * gradients\n",
    "\n",
    "    \n",
    "\n",
    "    \n",
    "    def train(self):\n",
    "        \"\"\"\n",
    "        Input parameter 'params' allows us to keep training a network that has already undergone some \n",
    "        training, without having to retrain from scratch\n",
    "        \"\"\"\n",
    "        \n",
    "        \n",
    "            \n",
    "        shapes = np.shape(self.X_train)\n",
    "        if self.input_channels != shapes[3]:\n",
    "            print(self.input_channels,shapes[3])\n",
    "            raise(AssertionError(\"Non-compatible input shape and input channels\"))\n",
    "\n",
    "        sample_x = jax.random.uniform(self.rng_key, (shapes[1],shapes[2],self.input_channels))\n",
    "\n",
    "        batch_size = 1\n",
    "        if self.params == None:\n",
    "            self.params = self.forward_pass.init(self.rng_key, sample_x)\n",
    "\n",
    "\n",
    "        print(\"Shapes of all datasets\")\n",
    "        printAllShapes(self.X_train,self.Y_train,self.X_test,self.Y_test)\n",
    "        print(\"\\n\")\n",
    "\n",
    "\n",
    "        \n",
    "        start_time = time.time()\n",
    "        start_time_local = time.localtime(start_time)\n",
    "        print(\"\\nStart time: {:d}:{:02d}:{:02d}\".format(start_time_local.tm_hour, start_time_local.tm_min, start_time_local.tm_sec))\n",
    "        \n",
    "        num_batches = len(self.X_train)//self.batch_size+1\n",
    "        \n",
    "        \n",
    "        for i in range(1, self.epochs+1):\n",
    "            if i%self.printEvery == 0 or i == 1: #every n epochs\n",
    "                print(\"Epoch {:.0f}/{:.0f}\".format(i,self.epochs))\n",
    "\n",
    "            \n",
    "            \n",
    "\n",
    "\n",
    "            #TODO: using test as validation, change this!\n",
    "            for batch in range(num_batches):\n",
    "                self.learning_rate = self.learning_rates[i-1]\n",
    "                if batch != num_batches-1:\n",
    "                    start, end = int(batch*self.batch_size), int(batch*self.batch_size+self.batch_size)\n",
    "                else:\n",
    "                    start, end = int(batch*self.batch_size), None\n",
    "                \n",
    "                X_batch, Y_batch = self.X_train[start:end], self.Y_train[start:end]\n",
    "                \n",
    "                self.params,loss = self.train_stepNoValidation(X_batch,Y_batch)\n",
    "                self.losses.append(loss)\n",
    "            \n",
    "#             if i%self.validateEvery == 0 or i == 1:\n",
    "            val_loss = self.eval_validation()\n",
    "            self.val_losses.append(val_loss)\n",
    "\n",
    "            print(\"\\tmse : {:.6f}\\t\".format(self.losses[-1]), end='')\n",
    "            print(\"\\tval mse : {:.6f}\".format(self.val_losses[-1]), end='')\n",
    "            time_now = time.time()\n",
    "            time_taken = time_now - start_time\n",
    "            time_per_epoch = time_taken/(i+1)\n",
    "            epochs_remaining = self.epochs+1-(i+1)\n",
    "            time_remaining = epochs_remaining*time_per_epoch\n",
    "            end_time = time.localtime(time_now + time_remaining)\n",
    "            print(\"\\tEstimated end time: {:d}:{:02d}:{:02d}\".format(end_time.tm_hour, end_time.tm_min, end_time.tm_sec))\n",
    "            print(\"\\n\")\n",
    "            \n",
    "#             if i%self.printEvery == 0 or i == 1: #every n epochs\n",
    "                \n",
    "#                 print(\"\\tmse : {:.6f}\\t\".format(self.losses[-1]), end='')\n",
    "#                 if len(self.val_losses) > 0:\n",
    "#                     print(\"\\tval mse : {:.6f}\".format(self.val_losses[-1]), end='')\n",
    "#                 time_now = time.time()\n",
    "#                 time_taken = time_now - start_time\n",
    "#                 time_per_epoch = time_taken/(i+1)\n",
    "#                 epochs_remaining = self.epochs+1-(i+1)\n",
    "#                 time_remaining = epochs_remaining*time_per_epoch\n",
    "#                 end_time = time.localtime(time_now + time_remaining)\n",
    "#                 print(\"\\tEstimated end time: {:d}:{:02d}:{:02d}\".format(end_time.tm_hour, end_time.tm_min, end_time.tm_sec))\n",
    "#                 print(\"\\n\")\n",
    "            \n",
    "            \n",
    "\n",
    "#             if i != 1:\n",
    "#                 if abs(self.losses[-2]-self.losses[-1])<self.tol:\n",
    "#                     print(\"\\nConvergence reached at epoch {:.0f}\".format(i))\n",
    "#                     print(\"\\tmse : {:.6f}\\t\".format(self.losses[-1]), end='')\n",
    "#                     if self.val_loss[-1] is not None:\n",
    "#                         print(\"\\tval mse : {:.6f}\".format(self.val_loss[-1]), end='')\n",
    "#                     print(\"\\n\")\n",
    "#                     break\n",
    "\n",
    "        if i == self.epochs:\n",
    "            print(\"\\nFinished training at max epochs\\n\")\n",
    "\n",
    "    \n",
    "        \n",
    "\n",
    "\n",
    "\n",
    "def reshapeData(mydata,mygrid,\n",
    "                offsets=[(1.0,0.5),\n",
    "                         (0,5,1.0)],\n",
    "                bcs = [cfd.boundaries.channel_flow_boundary_conditions(ndim=2),\n",
    "                      cfd.boundaries.channel_flow_boundary_conditions(ndim=2)]):\n",
    "    \"\"\"defaults to channel flow settings\"\"\"\n",
    "    return (grids.GridVariable(array = grids.GridArray(data = mydata[:,:,0],offset=offsets[0],grid=mygrid),bc=bcs[0]),\n",
    "          grids.GridVariable(array = grids.GridArray(data = mydata[:,:,1],offset=offsets[1],grid=mygrid),bc=bcs[1]))"
   ]
  },
  {
   "cell_type": "code",
   "execution_count": null,
   "metadata": {},
   "outputs": [
    {
     "name": "stdout",
     "output_type": "stream",
     "text": [
      "Shapes of all datasets\n",
      "(691, 18, 66, 2)\n",
      "(691, 18, 66, 2)\n",
      "(173, 18, 66, 2)\n",
      "(173, 18, 66, 2)\n",
      "\n",
      "\n",
      "\n",
      "Start time: 4:37:35\n",
      "Epoch 1/10\n",
      "\tmse : 0.003993\t\tval mse : 0.003512\tEstimated end time: 4:43:24\n",
      "\n",
      "\n",
      "Epoch 2/10\n",
      "\tmse : 0.003157\t\tval mse : 0.002954\tEstimated end time: 4:45:19\n",
      "\n",
      "\n",
      "Epoch 3/10\n",
      "\tmse : 0.002774\t\tval mse : 0.002681\tEstimated end time: 4:46:19\n",
      "\n",
      "\n",
      "Epoch 4/10\n",
      "\tmse : 0.002577\t\tval mse : 0.002534\tEstimated end time: 4:46:51\n",
      "\n",
      "\n",
      "Epoch 5/10\n",
      "\tmse : 0.002466\t\tval mse : 0.002447\tEstimated end time: 4:47:13\n",
      "\n",
      "\n",
      "Epoch 6/10\n",
      "\tmse : 0.002397\t\tval mse : 0.002391\tEstimated end time: 4:47:29\n",
      "\n",
      "\n",
      "Epoch 7/10\n",
      "\tmse : 0.002351\t\tval mse : 0.002351\tEstimated end time: 4:47:40\n",
      "\n",
      "\n",
      "Epoch 8/10\n",
      "\tmse : 0.002317\t\tval mse : 0.002321\tEstimated end time: 4:47:49\n",
      "\n",
      "\n",
      "Epoch 9/10\n"
     ]
    }
   ],
   "source": [
    "instance = MyTraining(X_train,Y_train,X_test,Y_test,\n",
    "                      jax.random.PRNGKey(42), #rng_key\n",
    "                      input_channels=2,\n",
    "                      epochs = 10,\n",
    "                      printEvery=1,#epochs\n",
    "                      learning_rates=staggeredLearningRate((50,0.1),(20,0.01),(11,0.001)), #iterated over batches\n",
    "                      batch_size=len(X_train)//2+1, # number or len(X_train)\n",
    "                      validateEvery=1,\n",
    "                      params=None,\n",
    "                      forward_pass=forward_pass,\n",
    "                      tol = 1e-10)\n",
    "\n",
    "%time instance.train()"
   ]
  },
  {
   "cell_type": "code",
   "execution_count": null,
   "metadata": {},
   "outputs": [],
   "source": []
  },
  {
   "cell_type": "code",
   "execution_count": 73,
   "metadata": {},
   "outputs": [
    {
     "data": {
      "text/plain": [
       "<matplotlib.legend.Legend at 0x144936db5d50>"
      ]
     },
     "execution_count": 73,
     "metadata": {},
     "output_type": "execute_result"
    },
    {
     "data": {
      "image/png": "[encoded data removed]",
      "text/plain": [
       "<Figure size 640x480 with 1 Axes>"
      ]
     },
     "metadata": {},
     "output_type": "display_data"
    }
   ],
   "source": [
    "\n",
    "batches = np.arange(len(instance.losses))\n",
    "val_step = len(instance.losses)//len(instance.val_losses)\n",
    "\n",
    "batches_val = batches[::val_step]+val_step\n",
    "plt.plot(batches+1,instance.losses, label=\"training\")\n",
    "plt.plot(batches_val,instance.val_losses,label=\"validation\")\n",
    "plt.ylabel(\"mse\")\n",
    "plt.xlabel(\"batches\")\n",
    "# plt.yscale(\"log\")\n",
    "plt.legend()"
   ]
  },
  {
   "cell_type": "code",
   "execution_count": null,
   "metadata": {},
   "outputs": [],
   "source": []
  },
  {
   "cell_type": "code",
   "execution_count": 54,
   "metadata": {},
   "outputs": [],
   "source": [
    "description = \"10 min training, 0.1 learning rate\""
   ]
  },
  {
   "cell_type": "code",
   "execution_count": 55,
   "metadata": {},
   "outputs": [],
   "source": [
    "toSave = newSaveObject(instance.params,instance.losses,instance.val_losses,description,CNN_specs)"
   ]
  },
  {
   "cell_type": "code",
   "execution_count": 56,
   "metadata": {},
   "outputs": [],
   "source": [
    "save_path = \"./../models/correctors/laplacian_correctors/third_laplacian.pickle\""
   ]
  },
  {
   "cell_type": "code",
   "execution_count": 57,
   "metadata": {},
   "outputs": [],
   "source": [
    "with open(save_path,\"wb\") as f:\n",
    "    pickle.dump(toSave,f)"
   ]
  },
  {
   "cell_type": "markdown",
   "metadata": {},
   "source": [
    "## Loading model"
   ]
  },
  {
   "cell_type": "code",
   "execution_count": 58,
   "metadata": {},
   "outputs": [],
   "source": [
    "with open(save_path,'rb',) as pickle_file:\n",
    "    loaded = pickle.load(pickle_file)\n",
    "    CNN_specs = loaded.CNN_specs\n",
    "    loaded.forward_pass = hk.without_apply_rng(hk.transform(ConvNet))"
   ]
  },
  {
   "cell_type": "code",
   "execution_count": 59,
   "metadata": {},
   "outputs": [
    {
     "data": {
      "text/plain": [
       "'10 min training, 0.1 learning rate'"
      ]
     },
     "execution_count": 59,
     "metadata": {},
     "output_type": "execute_result"
    }
   ],
   "source": [
    "loaded.description"
   ]
  },
  {
   "cell_type": "markdown",
   "metadata": {},
   "source": [
    "## Evaluating the model "
   ]
  },
  {
   "cell_type": "code",
   "execution_count": 60,
   "metadata": {},
   "outputs": [],
   "source": [
    "# loss_eval = mse\n",
    "def loss_eval(in1,in2):\n",
    "    return abs(in1-in2)"
   ]
  },
  {
   "cell_type": "code",
   "execution_count": 61,
   "metadata": {},
   "outputs": [],
   "source": [
    "# Make predictions for every slice in X_test\n",
    "predictions = []\n",
    "for mySlice in X_test:\n",
    "    predictions.append(loaded.forward_pass.apply(loaded.params,mySlice))"
   ]
  },
  {
   "cell_type": "code",
   "execution_count": 62,
   "metadata": {},
   "outputs": [],
   "source": [
    "# Compute error predictions vs Y_test\n",
    "errors = []\n",
    "for j in range(len(predictions)):\n",
    "    partial = []\n",
    "    partial.append(loss_eval(predictions[j],Y_test[j]))\n",
    "#     partial.append(mape(predictions[j],Y_test[j]))\n",
    "    errors.append(partial)"
   ]
  },
  {
   "cell_type": "code",
   "execution_count": 63,
   "metadata": {},
   "outputs": [],
   "source": [
    "# Compute what would have been obtained from input without the CNN (to see if there is an improvement)"
   ]
  },
  {
   "cell_type": "code",
   "execution_count": 64,
   "metadata": {},
   "outputs": [],
   "source": [
    "# calculate laplacians for input\n",
    "inputLaps = []\n",
    "for j in range(len(X_test)):\n",
    "    inputLaps.append(npLaplacian(X_test[j]))"
   ]
  },
  {
   "cell_type": "code",
   "execution_count": 65,
   "metadata": {},
   "outputs": [],
   "source": [
    "# Compute error computed laps for input vs true laps\n",
    "errorsLaps = []\n",
    "for j in range(len(predictions)):\n",
    "    partial = []\n",
    "    partial.append(loss_eval(inputLaps[j],Y_test[j]))\n",
    "#     partial.append(mape(predictions[j],Y_test[j]))\n",
    "    errorsLaps.append(partial)"
   ]
  },
  {
   "cell_type": "code",
   "execution_count": 66,
   "metadata": {},
   "outputs": [
    {
     "name": "stdout",
     "output_type": "stream",
     "text": [
      "Test error for NN\n",
      "\tError : 0.027913\n",
      "\tError/mean(||truth||) : 1.105330\n",
      "\n",
      "Error if no NN used\n",
      "\tError : 0.241736\n",
      "\tError/mean(||truth||) : 9.572564\n"
     ]
    }
   ],
   "source": [
    "print(\"Test error for NN\")\n",
    "print(\"\\tError : {:.6f}\".format(np.mean(errors)))\n",
    "print(\"\\tError/mean(||truth||) : {:.6f}\".format(np.mean(errors) / np.mean(np.abs(Y_test))))\n",
    "\n",
    "print(\"\\nError if no NN used\")\n",
    "print(\"\\tError : {:.6f}\".format(np.mean(errorsLaps)))\n",
    "print(\"\\tError/mean(||truth||) : {:.6f}\".format(np.mean(errorsLaps) / np.mean(np.abs(Y_test))))"
   ]
  },
  {
   "cell_type": "code",
   "execution_count": null,
   "metadata": {},
   "outputs": [],
   "source": []
  },
  {
   "cell_type": "code",
   "execution_count": null,
   "metadata": {},
   "outputs": [],
   "source": []
  },
  {
   "cell_type": "code",
   "execution_count": null,
   "metadata": {},
   "outputs": [],
   "source": []
  }
 ],
 "metadata": {
  "kernelspec": {
   "display_name": "Python [conda env:PNAS_codes]",
   "language": "python",
   "name": "conda-env-PNAS_codes-py"
  },
  "language_info": {
   "codemirror_mode": {
    "name": "ipython",
    "version": 3
   },
   "file_extension": ".py",
   "mimetype": "text/x-python",
   "name": "python",
   "nbconvert_exporter": "python",
   "pygments_lexer": "ipython3",
   "version": "3.10.8"
  }
 },
 "nbformat": 4,
 "nbformat_minor": 2
}

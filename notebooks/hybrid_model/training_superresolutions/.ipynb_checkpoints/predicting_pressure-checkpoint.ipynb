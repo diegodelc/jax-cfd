{
 "cells": [
  {
   "cell_type": "markdown",
   "metadata": {},
   "source": [
    "## Predicting pressure field"
   ]
  },
  {
   "cell_type": "code",
   "execution_count": null,
   "metadata": {},
   "outputs": [],
   "source": [
    "# This does not work, have not found a way to calculate the pressure field for a velocity field (other than incompressible bernoulli)\n",
    "\n",
    "# Also, not sure why this would be useful"
   ]
  },
  {
   "cell_type": "code",
   "execution_count": 53,
   "metadata": {},
   "outputs": [],
   "source": [
    "#imports\n",
    "import jax\n",
    "import jax.numpy as jnp\n",
    "from jax import value_and_grad\n",
    "\n",
    "from jax_cfd.ml import towers\n",
    "import jax_cfd.ml.train_utils as train_utils\n",
    "from jax_cfd.base.finite_differences import divergence\n",
    "import jax_cfd.base as cfd\n",
    "import jax_cfd.base.grids as grids\n",
    "\n",
    "import haiku as hk\n",
    "import gin\n",
    "import numpy as np\n",
    "import xarray\n",
    "import random\n",
    "\n",
    "import pickle\n",
    "from diego_model_utils import SaveObject, forward_pass_module\n",
    "\n",
    "import matplotlib.pyplot as plt\n",
    "import seaborn"
   ]
  },
  {
   "cell_type": "code",
   "execution_count": 13,
   "metadata": {},
   "outputs": [],
   "source": [
    "# import data\n",
    "file_name = '256x64_150_seconds_inner_1'\n",
    "data = xarray.open_dataset(f'../../creating_dataset/datasets/'+ file_name +'.nc', chunks={'time': '100MB'})"
   ]
  },
  {
   "cell_type": "code",
   "execution_count": 14,
   "metadata": {},
   "outputs": [
    {
     "name": "stderr",
     "output_type": "stream",
     "text": [
      "WARNING:jax._src.lib.xla_bridge:No GPU/TPU found, falling back to CPU. (Set TF_CPP_MIN_LOG_LEVEL=0 and rerun for more info.)\n"
     ]
    }
   ],
   "source": [
    "# split by timestamps\n",
    "x_shape = len(data.x)\n",
    "y_shape = len(data.y)\n",
    "high_def = []\n",
    "for i in range(int(len(data.time))):\n",
    "    this_time = jnp.dstack([\n",
    "        jnp.array([data.u.isel(time = i)]).reshape(x_shape, y_shape),\n",
    "        jnp.array([data.v.isel(time = i)]).reshape(x_shape, y_shape)\n",
    "    ])\n",
    "    high_def.append(this_time)"
   ]
  },
  {
   "cell_type": "code",
   "execution_count": 15,
   "metadata": {},
   "outputs": [
    {
     "name": "stdout",
     "output_type": "stream",
     "text": [
      "dt: \t\t0.015625\n",
      "outer_steps: \t9600\n",
      "inner_steps: \t1.0\n",
      "total_sim_time: 150.0\n",
      "removed points: 960\n"
     ]
    }
   ],
   "source": [
    "#warm up time (may want to discard initial stages of simulation since not really representative of turbulent flow?)\n",
    "dt = float(data.time[0].values)\n",
    "\n",
    "outer_steps = len(data.time.values)\n",
    "\n",
    "inner_steps = (data.time[1].values-data.time[0].values)/dt\n",
    "\n",
    "total_sim_time = outer_steps*inner_steps*dt\n",
    "print(\"dt: \\t\\t\" + str(dt))\n",
    "print(\"outer_steps: \\t\" + str(outer_steps))\n",
    "print(\"inner_steps: \\t\" + str(inner_steps))\n",
    "print(\"total_sim_time: \" + str(total_sim_time))\n",
    "\n",
    "warm_up = 15 #seconds\n",
    "warm_index = int(warm_up/total_sim_time * outer_steps // 1)\n",
    "print(\"removed points: \" + str(warm_index))\n",
    "high_def = high_def[warm_index:]"
   ]
  },
  {
   "cell_type": "code",
   "execution_count": 16,
   "metadata": {},
   "outputs": [],
   "source": [
    "high_def = high_def[0::20]"
   ]
  },
  {
   "cell_type": "code",
   "execution_count": 17,
   "metadata": {},
   "outputs": [
    {
     "data": {
      "text/plain": [
       "(432, 256, 64, 2)"
      ]
     },
     "execution_count": 17,
     "metadata": {},
     "output_type": "execute_result"
    }
   ],
   "source": [
    "np.shape(high_def)"
   ]
  },
  {
   "cell_type": "code",
   "execution_count": 18,
   "metadata": {},
   "outputs": [
    {
     "name": "stdout",
     "output_type": "stream",
     "text": [
      "Training dataset shape: \n",
      "\t(432, 256, 64, 2)\n"
     ]
    }
   ],
   "source": [
    "print(\"Training dataset shape: \")#(frames, x, y, input channels)\n",
    "print(\"\\t\" + str(np.shape(high_def)))\n",
    "\n"
   ]
  },
  {
   "cell_type": "code",
   "execution_count": 19,
   "metadata": {},
   "outputs": [
    {
     "name": "stdout",
     "output_type": "stream",
     "text": [
      "-0.77263814 1.0149648\n"
     ]
    }
   ],
   "source": [
    "originalMax = np.max(high_def)\n",
    "originalMin = (np.min(high_def))\n",
    "print(originalMin,originalMax)"
   ]
  },
  {
   "cell_type": "code",
   "execution_count": 20,
   "metadata": {},
   "outputs": [],
   "source": [
    "# scale velocities to beetween zero and one\n",
    "def scale(input, min=0, max=1):\n",
    "    \n",
    "    if min>max:\n",
    "        raise(ValueError(\"Min and max may be the wrong way around\"))\n",
    "    \n",
    "    if min<0:\n",
    "        og_min = min\n",
    "        max += -min\n",
    "        min = 0\n",
    "\n",
    "    \n",
    "    input += (min-np.min(input))\n",
    "    input /= (np.max(input)/max)\n",
    "    \n",
    "    try:\n",
    "        input += og_min\n",
    "    except:\n",
    "        pass\n",
    "    return input\n",
    "\n",
    "\n",
    "def scaleAllVelocities(high_def,allVels=False):\n",
    "    \n",
    "    scaled = []\n",
    "    for vels in high_def:\n",
    "        both_vels = []\n",
    "        for vel in vels:\n",
    "            vel = scale(vel,min=0,max=1)\n",
    "            both_vels.append(vel)\n",
    "        scaled.append(both_vels)\n",
    "    return scaled"
   ]
  },
  {
   "cell_type": "code",
   "execution_count": 21,
   "metadata": {},
   "outputs": [],
   "source": [
    "def scaleAllTimes(data):\n",
    "    out = []\n",
    "    for i in range(len(data)):\n",
    "        this_time = jnp.dstack([\n",
    "            scale(data[i][:,:,0]),\n",
    "            scale(data[i][:,:,1])\n",
    "        ])\n",
    "        \n",
    "        \n",
    "        out.append(this_time)\n",
    "    return out"
   ]
  },
  {
   "cell_type": "code",
   "execution_count": 22,
   "metadata": {},
   "outputs": [],
   "source": [
    "# scaled_high_def = scaleAllVelocities(high_def,allVels=True) #scales each frame from 0 to 1\n",
    "scaled_high_def = scaleAllTimes(high_def) #scales all timesteps to same max and min"
   ]
  },
  {
   "cell_type": "code",
   "execution_count": 23,
   "metadata": {},
   "outputs": [],
   "source": [
    "def increaseSize(input, factor):\n",
    "    w,h = np.shape(input)\n",
    "    output = np.zeros((w*factor,h*factor))\n",
    "    \n",
    "    for width in range(w*factor):\n",
    "        for height in range(h*factor):\n",
    "            output[width][height] = input[width//factor][height//factor]\n",
    "    return output\n",
    "\n",
    "\n",
    "def decreaseSize(input,factor):\n",
    "    w,h = np.shape(input)\n",
    "    if w%factor != 0 or h%factor != 0:\n",
    "        raise(AssertionError(\"Non-compatible input shape and downsample factor\"))\n",
    "    \n",
    "    output = np.zeros((int(w/factor),int(h/factor)))\n",
    "    \n",
    "    for width in range(w):\n",
    "        for height in range(h):\n",
    "            output[width//factor][height//factor] += input[width][height]\n",
    "    output /= factor**len(np.shape(output))\n",
    "    return output\n",
    "\n",
    "def downsampleHighDefVels(high_def,factor):\n",
    "    low_def = []\n",
    "    for vels in high_def:\n",
    "        both_vels = []\n",
    "        for vel in vels:\n",
    "            vel = decreaseSize(vel,factor)\n",
    "\n",
    "            vel = increaseSize(vel,factor)\n",
    "            both_vels.append(vel)\n",
    "        low_def.append(both_vels)\n",
    "    return low_def\n",
    "\n",
    "def downsampleHighDefVelsNumpy(high_def,factor):\n",
    "    \"\"\"\n",
    "    Same as downsampleHighDefVels but running the resizings on numpy arrays\n",
    "    due to performance issues with these funcitions and DeviceArrays\n",
    "    \"\"\"\n",
    "    low_def = []\n",
    "    for vels in high_def:\n",
    "        \n",
    "        u = decreaseSize(np.array(vels[:,:,0]),factor) #output is a np.array\n",
    "        u = jnp.array(increaseSize(u,factor)) #output is a DeviceArray\n",
    "        \n",
    "        v = decreaseSize(np.array(vels[:,:,1]),factor) #output is a np.array\n",
    "        v = jnp.array(increaseSize(v,factor)) #output is a DeviceArray\n",
    "        \n",
    "        low_def.append(jnp.dstack([\n",
    "            u,\n",
    "            v\n",
    "        ]))\n",
    "    return low_def"
   ]
  },
  {
   "cell_type": "code",
   "execution_count": 24,
   "metadata": {},
   "outputs": [],
   "source": [
    "#converting lists of images to DeviceArray with correct shape\n",
    "\n",
    "def convertListToDeviceArray(list):\n",
    "    new_list = []\n",
    "    for i in range(len(list)):\n",
    "\n",
    "        new_list.append(\n",
    "            jnp.dstack([\n",
    "                jnp.array(list[i][0]),\n",
    "                jnp.array(list[i][1])]\n",
    "            )\n",
    "        )\n",
    "    return jnp.array(new_list)\n",
    "\n"
   ]
  },
  {
   "cell_type": "code",
   "execution_count": 25,
   "metadata": {},
   "outputs": [
    {
     "name": "stdout",
     "output_type": "stream",
     "text": [
      "CPU times: user 16.3 s, sys: 19.6 ms, total: 16.3 s\n",
      "Wall time: 16.4 s\n"
     ]
    }
   ],
   "source": [
    "#split into train and test\n",
    "\n",
    "split = 0.8\n",
    "split = int(len(scaled_high_def)*split//1)\n",
    "random.shuffle(high_def)\n",
    "\n",
    "factor = 4\n",
    "\n",
    "\n",
    "\n",
    "%time scaled_low_def = downsampleHighDefVelsNumpy(scaled_high_def,factor)\n",
    "#conv_scaled_high_def = convertListToDeviceArray(scaled_high_def)\n",
    "#conv_scaled_low_def = convertListToDeviceArray(scaled_low_def)\n",
    "\n",
    "conv_scaled_high_def = scaled_high_def\n",
    "conv_scaled_low_def = scaled_low_def\n",
    "\n",
    "X_train = conv_scaled_low_def[:split]\n",
    "Y_train = conv_scaled_high_def[:split]\n",
    "\n",
    "X_test = conv_scaled_low_def[split:]\n",
    "Y_test = conv_scaled_high_def[split:]\n",
    "\n"
   ]
  },
  {
   "cell_type": "code",
   "execution_count": 38,
   "metadata": {},
   "outputs": [
    {
     "name": "stdout",
     "output_type": "stream",
     "text": [
      "(345, 256, 64, 2)\n",
      "(345, 256, 64, 2)\n",
      "(87, 256, 64, 2)\n",
      "(87, 256, 64, 2)\n"
     ]
    }
   ],
   "source": [
    "def printAllShapes(*things):\n",
    "    for thing in things:\n",
    "        print(np.shape(thing))\n",
    "\n",
    "printAllShapes(X_train,Y_train, X_test,Y_test)"
   ]
  },
  {
   "cell_type": "code",
   "execution_count": 85,
   "metadata": {},
   "outputs": [],
   "source": [
    "test_data = X_train[0]\n",
    "size = (256,64)\n",
    "domain = ((0, 8), (0, 2))\n",
    "\n",
    "\n",
    "\n",
    "grid = grids.Grid(size, domain = domain)\n"
   ]
  },
  {
   "cell_type": "code",
   "execution_count": 96,
   "metadata": {},
   "outputs": [
    {
     "data": {
      "text/plain": [
       "Grid(shape=(256, 64), step=(0.03125, 0.03125), domain=((0.0, 8.0), (0.0, 2.0)))"
      ]
     },
     "execution_count": 96,
     "metadata": {},
     "output_type": "execute_result"
    }
   ],
   "source": [
    "grid"
   ]
  },
  {
   "cell_type": "code",
   "execution_count": 116,
   "metadata": {},
   "outputs": [],
   "source": [
    "shape = grid.shape\n",
    "step= grid.step\n",
    "domain = grid.domain\n",
    "\n",
    "factor = 4\n",
    "mylist = []\n",
    "for i in range(len(shape)):\n",
    "    mylist.append(np.arange(domain[i][0],domain[i][1],step[i]*factor))"
   ]
  },
  {
   "cell_type": "code",
   "execution_count": 117,
   "metadata": {},
   "outputs": [
    {
     "data": {
      "text/plain": [
       "(16,)"
      ]
     },
     "execution_count": 117,
     "metadata": {},
     "output_type": "execute_result"
    }
   ],
   "source": [
    "np.shape(mylist[1])"
   ]
  },
  {
   "cell_type": "code",
   "execution_count": 118,
   "metadata": {},
   "outputs": [],
   "source": [
    "v_test = (base.grids.GridVariable(array = base.grids.GridArray(data = test_data[:,:,0],offset=(1.0, 0.5),grid=grid),\n",
    "                                    bc = cfd.boundaries.channel_flow_boundary_conditions(ndim=1),\n",
    "                                    \n",
    "                                ),\n",
    "          base.grids.GridVariable(array = base.grids.GridArray(data = test_data[:,:,1],offset=(0.5,1.0),grid=grid),\n",
    "                                    bc = cfd.boundaries.channel_flow_boundary_conditions(ndim=1),\n",
    "                                    \n",
    "                                )\n",
    "         )\n"
   ]
  },
  {
   "cell_type": "code",
   "execution_count": 119,
   "metadata": {},
   "outputs": [],
   "source": [
    "result = base.pressure.projection(v_test)"
   ]
  },
  {
   "cell_type": "code",
   "execution_count": null,
   "metadata": {},
   "outputs": [],
   "source": [
    "\n",
    "\n",
    "\n"
   ]
  },
  {
   "cell_type": "code",
   "execution_count": 113,
   "metadata": {},
   "outputs": [
    {
     "data": {
      "text/plain": [
       "(2, 256, 64)"
      ]
     },
     "execution_count": 113,
     "metadata": {},
     "output_type": "execute_result"
    }
   ],
   "source": []
  },
  {
   "cell_type": "code",
   "execution_count": 115,
   "metadata": {},
   "outputs": [
    {
     "data": {
      "text/plain": [
       "<AxesSubplot: >"
      ]
     },
     "execution_count": 115,
     "metadata": {},
     "output_type": "execute_result"
    },
    {
     "data": {
      "image/png": "[encoded data removed]",
      "text/plain": [
       "<Figure size 640x480 with 2 Axes>"
      ]
     },
     "metadata": {},
     "output_type": "display_data"
    }
   ],
   "source": [
    "seaborn.heatmap(gradient[1])"
   ]
  },
  {
   "cell_type": "code",
   "execution_count": 90,
   "metadata": {},
   "outputs": [
    {
     "data": {
      "text/plain": [
       "<AxesSubplot: >"
      ]
     },
     "execution_count": 90,
     "metadata": {},
     "output_type": "execute_result"
    },
    {
     "data": {
      "image/png": "[encoded data removed]",
      "text/plain": [
       "<Figure size 640x480 with 2 Axes>"
      ]
     },
     "metadata": {},
     "output_type": "display_data"
    }
   ],
   "source": [
    "seaborn.heatmap(X_train[0][:,:,0])"
   ]
  },
  {
   "cell_type": "code",
   "execution_count": null,
   "metadata": {},
   "outputs": [],
   "source": []
  }
 ],
 "metadata": {
  "kernelspec": {
   "display_name": "Python [conda env:PNAS_codes]",
   "language": "python",
   "name": "conda-env-PNAS_codes-py"
  },
  "language_info": {
   "codemirror_mode": {
    "name": "ipython",
    "version": 3
   },
   "file_extension": ".py",
   "mimetype": "text/x-python",
   "name": "python",
   "nbconvert_exporter": "python",
   "pygments_lexer": "ipython3",
   "version": "3.10.8"
  }
 },
 "nbformat": 4,
 "nbformat_minor": 2
}

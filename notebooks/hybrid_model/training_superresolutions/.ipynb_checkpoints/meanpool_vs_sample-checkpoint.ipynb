{
 "cells": [
  {
   "cell_type": "markdown",
   "metadata": {},
   "source": [
    "## Changing training paradigm to create a velocity corrector"
   ]
  },
  {
   "cell_type": "code",
   "execution_count": 153,
   "metadata": {},
   "outputs": [],
   "source": [
    "# How they are created from high-fidelity data:\n",
    "    # before:\n",
    "        # X_train: mean pooling, then Nearest Neighbours interpolation\n",
    "        # Y_train: n/a\n",
    "    # now: \n",
    "        # X_train: mean pooling\n",
    "        # Y_train: sampling (reduces size to network input size)"
   ]
  },
  {
   "cell_type": "code",
   "execution_count": 1,
   "metadata": {},
   "outputs": [],
   "source": [
    "#imports\n",
    "import jax\n",
    "import jax.numpy as jnp\n",
    "\n",
    "import jax_cfd.base as cfd\n",
    "from jax_cfd.ml import towers\n",
    "import jax_cfd.ml.train_utils as train_utils\n",
    "from jax_cfd.base import finite_differences as fd\n",
    "from jax_cfd.base import grids\n",
    "\n",
    "import haiku as hk\n",
    "import numpy as np\n",
    "import xarray\n",
    "import random\n",
    "\n",
    "import pickle\n",
    "from diego_model_utils import SaveObject, forward_pass_module\n",
    "from diego_preprocessing import *\n",
    "from diego_train_functions import *\n",
    "\n",
    "import matplotlib.pyplot as plt\n",
    "import seaborn\n",
    "\n",
    "import time"
   ]
  },
  {
   "cell_type": "code",
   "execution_count": 2,
   "metadata": {},
   "outputs": [],
   "source": [
    "# import data\n",
    "file_name = '256x64_150_seconds_inner_1'\n",
    "data = xarray.open_dataset(f'../../creating_dataset/datasets/'+ file_name +'.nc', chunks={'time': '100MB'})"
   ]
  },
  {
   "cell_type": "code",
   "execution_count": 3,
   "metadata": {},
   "outputs": [
    {
     "name": "stderr",
     "output_type": "stream",
     "text": [
      "WARNING:jax._src.lib.xla_bridge:No GPU/TPU found, falling back to CPU. (Set TF_CPP_MIN_LOG_LEVEL=0 and rerun for more info.)\n"
     ]
    }
   ],
   "source": [
    "# split by timestamps\n",
    "x_shape = len(data.x)\n",
    "y_shape = len(data.y)\n",
    "high_def = []\n",
    "for i in range(int(len(data.time))):\n",
    "    this_time = jnp.dstack([\n",
    "        jnp.array([data.u.isel(time = i)]).reshape(x_shape, y_shape),\n",
    "        jnp.array([data.v.isel(time = i)]).reshape(x_shape, y_shape)\n",
    "    ])\n",
    "    high_def.append(this_time)"
   ]
  },
  {
   "cell_type": "code",
   "execution_count": 4,
   "metadata": {},
   "outputs": [
    {
     "name": "stdout",
     "output_type": "stream",
     "text": [
      "dt: \t\t0.015625\n",
      "outer_steps: \t9600\n",
      "inner_steps: \t1.0\n",
      "total_sim_time: 150.0\n",
      "removed points: 960\n",
      "\n",
      "\n",
      "step = 10\n",
      "Training dataset shape: \n",
      "\t(864, 256, 64, 2)\n"
     ]
    }
   ],
   "source": [
    "#warm up time (may want to discard initial stages of simulation since not really representative of turbulent flow?)\n",
    "dt = float(data.time[0].values)\n",
    "\n",
    "outer_steps = len(data.time.values)\n",
    "\n",
    "inner_steps = (data.time[1].values-data.time[0].values)/dt\n",
    "\n",
    "total_sim_time = outer_steps*inner_steps*dt\n",
    "print(\"dt: \\t\\t\" + str(dt))\n",
    "print(\"outer_steps: \\t\" + str(outer_steps))\n",
    "print(\"inner_steps: \\t\" + str(inner_steps))\n",
    "print(\"total_sim_time: \" + str(total_sim_time))\n",
    "\n",
    "warm_up = 15 #seconds\n",
    "warm_index = int(warm_up/total_sim_time * outer_steps // 1)\n",
    "print(\"removed points: \" + str(warm_index))\n",
    "high_def = high_def[warm_index:]\n",
    "\n",
    "print(\"\\n\")\n",
    "step = 10\n",
    "high_def = high_def[0::step]\n",
    "print(\"step = \" + str(step))\n",
    "print(\"Training dataset shape: \") # (frames, x, y, input channels)\n",
    "print(\"\\t\" + str(np.shape(high_def)))"
   ]
  },
  {
   "cell_type": "code",
   "execution_count": 5,
   "metadata": {},
   "outputs": [],
   "source": [
    "high_def_norm,ogMean,ogStdDev = normalisingDataset(high_def)"
   ]
  },
  {
   "cell_type": "code",
   "execution_count": 6,
   "metadata": {},
   "outputs": [
    {
     "name": "stdout",
     "output_type": "stream",
     "text": [
      "CPU times: user 20.7 s, sys: 16 ms, total: 20.7 s\n",
      "Wall time: 20.8 s\n",
      "CPU times: user 1.86 s, sys: 13.5 ms, total: 1.87 s\n",
      "Wall time: 1.88 s\n",
      "CPU times: user 20.3 ms, sys: 1.85 ms, total: 22.1 ms\n",
      "Wall time: 22.2 ms\n"
     ]
    }
   ],
   "source": [
    "#split into train and test\n",
    "\n",
    "split = 0.8\n",
    "split = int(len(high_def)*split//1)\n",
    "random.shuffle(high_def)\n",
    "\n",
    "factor = 4\n",
    "\n",
    "\n",
    "%time X_dataset = creatingDataset(high_def_norm,mean_pooling,factor)\n",
    "%time Y_dataset = creatingDataset(high_def_norm,sampling,factor)\n",
    "\n",
    "%time Y_dataset = calculateResiduals(X_dataset,Y_dataset)\n",
    "\n",
    "\n",
    "X_train = X_dataset[:split]\n",
    "Y_train = Y_dataset[:split]\n",
    "\n",
    "X_test = X_dataset[split:]\n",
    "Y_test = Y_dataset[split:]"
   ]
  },
  {
   "cell_type": "code",
   "execution_count": 7,
   "metadata": {},
   "outputs": [
    {
     "name": "stdout",
     "output_type": "stream",
     "text": [
      "(691, 64, 16, 2)\n",
      "(691, 64, 16, 2)\n",
      "(173, 64, 16, 2)\n",
      "(173, 64, 16, 2)\n"
     ]
    }
   ],
   "source": [
    "printAllShapes(X_train,Y_train, X_test,Y_test)"
   ]
  },
  {
   "cell_type": "markdown",
   "metadata": {},
   "source": [
    "## Defining model shape"
   ]
  },
  {
   "cell_type": "code",
   "execution_count": 8,
   "metadata": {},
   "outputs": [],
   "source": [
    "tower_module = towers.forward_tower_factory #add scaling here"
   ]
  },
  {
   "cell_type": "code",
   "execution_count": 9,
   "metadata": {},
   "outputs": [],
   "source": [
    "num_output_channels = 2\n",
    "# spatial_size = 17\n",
    "ndim = 2\n",
    "input_channels = 2\n",
    "\n",
    "rng_key = jax.random.PRNGKey(42)\n",
    "\n",
    "\n",
    "forward_pass = forward_pass_module(num_output_channels = num_output_channels, \n",
    "                                    ndim = ndim,\n",
    "                                    tower_module = tower_module)\n",
    "                                \n",
    "\n",
    "forward_pass = hk.without_apply_rng(hk.transform(forward_pass))"
   ]
  },
  {
   "cell_type": "markdown",
   "metadata": {},
   "source": [
    "## Training model"
   ]
  },
  {
   "cell_type": "code",
   "execution_count": 12,
   "metadata": {},
   "outputs": [
    {
     "name": "stdout",
     "output_type": "stream",
     "text": [
      "Shapes of all datasets\n",
      "(691, 64, 16, 2)\n",
      "(691, 64, 16, 2)\n",
      "(173, 64, 16, 2)\n",
      "(173, 64, 16, 2)\n",
      "\n",
      "\n",
      "Epoch 10/200\n",
      "\tmse : 0.024027\t\tval mse : 0.023924\tEstimated end time: 1:36:14\n",
      "\n",
      "\n",
      "Epoch 20/200\n",
      "\tmse : 0.017762\t\tval mse : 0.017675\tEstimated end time: 1:38:25\n",
      "\n",
      "\n",
      "Epoch 30/200\n",
      "\tmse : 0.014952\t\tval mse : 0.014819\tEstimated end time: 1:39:10\n",
      "\n",
      "\n",
      "Epoch 40/200\n",
      "\tmse : 0.013389\t\tval mse : 0.013217\tEstimated end time: 1:39:33\n",
      "\n",
      "\n",
      "Epoch 50/200\n",
      "\tmse : 0.012379\t\tval mse : 0.012178\tEstimated end time: 1:39:45\n",
      "\n",
      "\n",
      "Epoch 60/200\n",
      "\tmse : 0.012225\t\tval mse : 0.012019\tEstimated end time: 1:39:56\n",
      "\n",
      "\n",
      "Epoch 70/200\n",
      "\tmse : 0.012148\t\tval mse : 0.011940\tEstimated end time: 1:40:03\n",
      "\n",
      "\n",
      "Epoch 80/200\n",
      "\tmse : 0.012072\t\tval mse : 0.011862\tEstimated end time: 1:40:10\n",
      "\n",
      "\n",
      "Epoch 90/200\n",
      "\tmse : 0.012000\t\tval mse : 0.011787\tEstimated end time: 1:40:14\n",
      "\n",
      "\n",
      "Epoch 100/200\n",
      "\tmse : 0.011929\t\tval mse : 0.011715\tEstimated end time: 1:40:18\n",
      "\n",
      "\n",
      "Epoch 110/200\n",
      "\tmse : 0.011860\t\tval mse : 0.011644\tEstimated end time: 1:40:21\n",
      "\n",
      "\n",
      "Epoch 120/200\n",
      "\tmse : 0.011793\t\tval mse : 0.011575\tEstimated end time: 1:40:24\n",
      "\n",
      "\n",
      "Epoch 130/200\n",
      "\tmse : 0.011756\t\tval mse : 0.011538\tEstimated end time: 1:40:26\n",
      "\n",
      "\n",
      "Epoch 140/200\n",
      "\tmse : 0.011724\t\tval mse : 0.011504\tEstimated end time: 1:40:28\n",
      "\n",
      "\n",
      "Epoch 150/200\n",
      "\tmse : 0.011692\t\tval mse : 0.011471\tEstimated end time: 1:40:29\n",
      "\n",
      "\n",
      "Epoch 160/200\n",
      "\tmse : 0.011660\t\tval mse : 0.011439\tEstimated end time: 1:40:31\n",
      "\n",
      "\n",
      "Epoch 170/200\n",
      "\tmse : 0.011629\t\tval mse : 0.011407\tEstimated end time: 1:40:30\n",
      "\n",
      "\n",
      "Epoch 180/200\n",
      "\tmse : 0.011621\t\tval mse : 0.011398\tEstimated end time: 1:40:31\n",
      "\n",
      "\n",
      "Epoch 190/200\n",
      "\tmse : 0.011614\t\tval mse : 0.011392\tEstimated end time: 1:40:32\n",
      "\n",
      "\n",
      "Epoch 200/200\n",
      "\tmse : 0.011608\t\tval mse : 0.011385\tEstimated end time: 1:40:34\n",
      "\n",
      "\n",
      "\n",
      "Finished training at max epochs\n",
      "\n",
      "CPU times: user 1h 4min 10s, sys: 51.5 s, total: 1h 5min 2s\n",
      "Wall time: 52min 48s\n"
     ]
    }
   ],
   "source": [
    "epochs = 200\n",
    "learning_rates = staggeredLearningRate((50,0.1),(70,0.01),(50,0.005),(50,0.001))\n",
    "printEvery=10\n",
    "%time losses,val_losses,params = train(X_train,Y_train,X_test,Y_test,rng_key,input_channels,epochs,printEvery=printEvery,learning_rates=learning_rates,params=None,forward_pass=forward_pass,tol = 1e-10)"
   ]
  },
  {
   "cell_type": "code",
   "execution_count": 13,
   "metadata": {},
   "outputs": [
    {
     "data": {
      "text/plain": [
       "<matplotlib.legend.Legend at 0x150ad01c8a30>"
      ]
     },
     "execution_count": 13,
     "metadata": {},
     "output_type": "execute_result"
    },
    {
     "data": {
      "image/png": "[encoded data removed]",
      "text/plain": [
       "<Figure size 640x480 with 1 Axes>"
      ]
     },
     "metadata": {},
     "output_type": "display_data"
    }
   ],
   "source": [
    "step = 1\n",
    "\n",
    "plt.plot(losses[::step], label=\"training\")\n",
    "plt.plot(val_losses[::step],label=\"validation\")\n",
    "plt.ylabel(\"mse\")\n",
    "plt.xlabel(\"epochs\")\n",
    "# plt.yscale(\"log\")\n",
    "plt.legend()"
   ]
  },
  {
   "cell_type": "markdown",
   "metadata": {},
   "source": [
    "## Saving model"
   ]
  },
  {
   "cell_type": "code",
   "execution_count": 14,
   "metadata": {},
   "outputs": [],
   "source": [
    "toSave = SaveObject()\n",
    "toSave.save_params(params)\n",
    "toSave.save_forward_pass_params(num_output_channels,ndim,tower_module)"
   ]
  },
  {
   "cell_type": "code",
   "execution_count": 10,
   "metadata": {},
   "outputs": [],
   "source": [
    "save_path = \"./../models/velocity_correctors/first_normalised_model.pickle\""
   ]
  },
  {
   "cell_type": "code",
   "execution_count": 16,
   "metadata": {},
   "outputs": [],
   "source": [
    "with open(save_path,\"wb\") as f:\n",
    "    pickle.dump(toSave,f)"
   ]
  },
  {
   "cell_type": "markdown",
   "metadata": {},
   "source": [
    "## Loading model"
   ]
  },
  {
   "cell_type": "code",
   "execution_count": 11,
   "metadata": {},
   "outputs": [],
   "source": [
    "with open(save_path,'rb',) as pickle_file:\n",
    "    loaded = pickle.load(pickle_file)\n",
    "    loaded.make_forward_pass()\n",
    "    loaded.preprocess()"
   ]
  },
  {
   "cell_type": "markdown",
   "metadata": {},
   "source": [
    "## Predicting with loaded model"
   ]
  },
  {
   "cell_type": "code",
   "execution_count": 42,
   "metadata": {},
   "outputs": [],
   "source": [
    "num =  100 #int(np.random.rand()*np.shape(X_test)[0]//1)\n",
    "vel = 1      # 0 is u, 1 is v\n",
    "\n",
    "\n",
    "scaledInput,xMean,xStdDev = normalisingDataset([X_test[num]])\n",
    "scaledInput = scaledInput[0]\n",
    "\n",
    "scaledTarget = (Y_test[num]-xMean)/xStdDev\n",
    "scaledTarget = scaledTarget\n"
   ]
  },
  {
   "cell_type": "code",
   "execution_count": 43,
   "metadata": {},
   "outputs": [],
   "source": [
    "pred = loaded.forward_pass.apply(loaded.params,scaledInput)"
   ]
  },
  {
   "cell_type": "code",
   "execution_count": 44,
   "metadata": {},
   "outputs": [],
   "source": [
    "def vorticity(u,v):\n",
    "    #dvdx - dudy\n",
    "    return np.gradient(v,axis = 0) -np.gradient(u,axis = 1)"
   ]
  },
  {
   "cell_type": "code",
   "execution_count": 53,
   "metadata": {},
   "outputs": [
    {
     "data": {
      "text/plain": [
       "(64, 16, 2)"
      ]
     },
     "execution_count": 53,
     "metadata": {},
     "output_type": "execute_result"
    }
   ],
   "source": [
    "np.shape(scaledTarget)"
   ]
  },
  {
   "cell_type": "code",
   "execution_count": 46,
   "metadata": {},
   "outputs": [],
   "source": [
    "vel = 1 #0 = u, 1 = v\n"
   ]
  },
  {
   "cell_type": "code",
   "execution_count": 54,
   "metadata": {},
   "outputs": [
    {
     "data": {
      "image/png": "[encoded data removed]",
      "text/plain": [
       "<Figure size 1500x1000 with 12 Axes>"
      ]
     },
     "metadata": {},
     "output_type": "display_data"
    }
   ],
   "source": [
    "fig, axs = plt.subplots(2,3, facecolor='w', edgecolor='k',figsize=(15,10))\n",
    "# fig.subplots_adjust(hspace = .5, wspace=.1)\n",
    "axs = axs.ravel()\n",
    "\n",
    "im = seaborn.heatmap(scaledInput[:,:,vel],ax = axs[0])\n",
    "axs[0].title.set_text(\"Input\")\n",
    "im = seaborn.heatmap(scaledTarget[:,:,vel],ax = axs[1])\n",
    "axs[1].title.set_text(\"Target\")\n",
    "im = seaborn.heatmap(pred[:,:,vel],ax = axs[2])\n",
    "axs[2].title.set_text(\"Result\")\n",
    "\n",
    "\n",
    "\n",
    "recPred = scaledInput+pred\n",
    "redPred = (recPred*xStdDev)+xMean\n",
    "\n",
    "recTarget = scaledTarget+scaledInput\n",
    "recTarget = (recTarget*xStdDev)+xMean\n",
    "\n",
    "recInput = (scaledInput*xStdDev)+xMean\n",
    "\n",
    "im = seaborn.heatmap(recInput[:,:,vel],ax = axs[3])\n",
    "axs[3].title.set_text(\"Input\")\n",
    "im = seaborn.heatmap(recTarget[:,:,vel],ax = axs[4])\n",
    "axs[4].title.set_text(\"Reconstructed target\")\n",
    "im = seaborn.heatmap(recPred[:,:,vel],ax = axs[5])\n",
    "axs[5].title.set_text(\"Reconstructed prediction\")"
   ]
  },
  {
   "cell_type": "code",
   "execution_count": 61,
   "metadata": {},
   "outputs": [],
   "source": [
    "#recTarget,recInput,recPred\n",
    "\n",
    "def reshapeData(mydata,mygrid,\n",
    "                offsets=[(1.0,0.5),\n",
    "                         (0,5,1.0)],\n",
    "                bcs = [cfd.boundaries.channel_flow_boundary_conditions(ndim=2),\n",
    "                      cfd.boundaries.channel_flow_boundary_conditions(ndim=2)]):\n",
    "    \"\"\"defaults to channel flow settings\"\"\"\n",
    "    return (grids.GridVariable(array = grids.GridArray(data = mydata[:,:,0],offset=offsets[0],grid=mygrid),bc=bcs[0]),\n",
    "          grids.GridVariable(array = grids.GridArray(data = mydata[:,:,1],offset=offsets[1],grid=mygrid),bc=bcs[1]))\n"
   ]
  },
  {
   "cell_type": "code",
   "execution_count": 101,
   "metadata": {},
   "outputs": [
    {
     "data": {
      "text/plain": [
       "DeviceArray(4.2096624, dtype=float32)"
      ]
     },
     "execution_count": 101,
     "metadata": {},
     "output_type": "execute_result"
    }
   ],
   "source": [
    "a = fd.laplacian(reshapeData(recTarget,mygrid)[0]).data\n",
    "b = fd.laplacian(reshapeData(recInput,mygrid)[0]).data\n",
    "\n",
    "mape(a,b)"
   ]
  },
  {
   "cell_type": "code",
   "execution_count": 119,
   "metadata": {},
   "outputs": [
    {
     "name": "stdout",
     "output_type": "stream",
     "text": [
      "\n",
      "x-vel\n",
      "Initial: 0.072035\n",
      "Final: 0.023302\n",
      "Error reduced\n",
      "\n",
      "y-vel\n",
      "Initial: 0.036174\n",
      "Final: 0.008697\n",
      "Error reduced\n",
      "\n",
      "dudx\n",
      "Initial: 10.945553\n",
      "Final: 8.691748\n",
      "Error reduced\n",
      "\n",
      "dudy\n",
      "Initial: 507.863953\n",
      "Final: 515.648499\n",
      "WARNING: Error increased\n",
      "\n",
      "dvdx\n",
      "Initial: 128.525513\n",
      "Final: 122.696060\n",
      "Error reduced\n",
      "\n",
      "dvdy\n",
      "Initial: 173.666931\n",
      "Final: 168.144562\n",
      "Error reduced\n",
      "\n",
      "x-lap\n",
      "Initial: 278064.625000\n",
      "Final: 219011.296875\n",
      "Error reduced\n",
      "\n",
      "y-lap\n",
      "Initial: 58094.554688\n",
      "Final: 59232.621094\n",
      "WARNING: Error increased\n"
     ]
    }
   ],
   "source": [
    "def calcErrors(func,truth,initial,final):\n",
    "    initialE = func(initial,truth)\n",
    "    finalE = func(final,truth)\n",
    "    print(\"Initial: {:0.6f}\".format(initialE))\n",
    "    print(\"Final: {:0.6f}\".format(finalE))\n",
    "    \n",
    "    if finalE < initialE:\n",
    "        print(\"Error reduced\")\n",
    "    else:\n",
    "        print(\"WARNING: Error increased\")\n",
    "    \n",
    "\n",
    "error_fun = mse\n",
    "    \n",
    "print(\"\\nx-vel\")\n",
    "calcErrors(error_fun,reshapeData(recTarget,mygrid)[0].data,\n",
    "              reshapeData(recInput,mygrid)[0].data,\n",
    "              reshapeData(recPred,mygrid)[0].data)\n",
    "print(\"\\ny-vel\")\n",
    "calcErrors(error_fun,reshapeData(recTarget,mygrid)[1].data,\n",
    "              reshapeData(recInput,mygrid)[1].data,\n",
    "              reshapeData(recPred,mygrid)[1].data)\n",
    "\n",
    "print(\"\\ndudx\")\n",
    "num = 0\n",
    "denom = 0\n",
    "calcErrors(error_fun,fd.forward_difference(reshapeData(recTarget,mygrid)[denom])[0].data,\n",
    "           fd.forward_difference(reshapeData(recInput,mygrid)[num])[denom].data,\n",
    "           fd.forward_difference(reshapeData(recPred,mygrid)[num])[denom].data)\n",
    "\n",
    "print(\"\\ndudy\")\n",
    "num = 0\n",
    "denom = 1\n",
    "calcErrors(error_fun,fd.forward_difference(reshapeData(recTarget,mygrid)[denom])[0].data,\n",
    "           fd.forward_difference(reshapeData(recInput,mygrid)[num])[denom].data,\n",
    "           fd.forward_difference(reshapeData(recPred,mygrid)[num])[denom].data)\n",
    "\n",
    "print(\"\\ndvdx\")\n",
    "num = 1\n",
    "denom = 0\n",
    "calcErrors(error_fun,fd.forward_difference(reshapeData(recTarget,mygrid)[denom])[0].data,\n",
    "           fd.forward_difference(reshapeData(recInput,mygrid)[num])[denom].data,\n",
    "           fd.forward_difference(reshapeData(recPred,mygrid)[num])[denom].data)\n",
    "\n",
    "print(\"\\ndvdy\")\n",
    "num = 1\n",
    "denom = 1\n",
    "calcErrors(error_fun,fd.forward_difference(reshapeData(recTarget,mygrid)[denom])[0].data,\n",
    "           fd.forward_difference(reshapeData(recInput,mygrid)[num])[denom].data,\n",
    "           fd.forward_difference(reshapeData(recPred,mygrid)[num])[denom].data)\n",
    "\n",
    "\n",
    "print(\"\\nx-lap\")\n",
    "calcErrors(error_fun,fd.laplacian(reshapeData(recTarget,mygrid)[0]).data,\n",
    "           fd.laplacian(reshapeData(recInput,mygrid)[0]).data,\n",
    "           fd.laplacian(reshapeData(recPred,mygrid)[0]).data)\n",
    "print(\"\\ny-lap\")\n",
    "calcErrors(error_fun,fd.laplacian(reshapeData(recTarget,mygrid)[1]).data,\n",
    "           fd.laplacian(reshapeData(recInput,mygrid)[1]).data,\n",
    "           fd.laplacian(reshapeData(recPred,mygrid)[1]).data)"
   ]
  },
  {
   "cell_type": "code",
   "execution_count": 96,
   "metadata": {},
   "outputs": [
    {
     "data": {
      "text/plain": [
       "DeviceArray(1.2588899, dtype=float32)"
      ]
     },
     "execution_count": 96,
     "metadata": {},
     "output_type": "execute_result"
    }
   ],
   "source": [
    "mape(fd.laplacian(reshapeData(recInput,mygrid)[0]).data,fd.laplacian(reshapeData(recPred,mygrid)[0]).data)"
   ]
  },
  {
   "cell_type": "code",
   "execution_count": 66,
   "metadata": {},
   "outputs": [
    {
     "data": {
      "text/plain": [
       "GridArray(data=DeviceArray([[ 4177.964   ,   -95.77905 ,   240.32104 , ...,\n",
       "                576.8396  ,   567.6493  , -1008.053   ],\n",
       "             [ 3971.4102  ,  -101.2478  ,   310.44824 , ...,\n",
       "                693.32745 ,   694.9514  , -2099.1277  ],\n",
       "             [ 3591.0874  ,  -130.6101  ,   344.0276  , ...,\n",
       "               1123.0164  ,   564.2213  , -2835.357   ],\n",
       "             ...,\n",
       "             [ 3418.294   ,   188.823   ,   -46.950928, ...,\n",
       "                932.1129  ,  -532.59924 ,   893.86    ],\n",
       "             [ 3958.0493  ,   -34.23877 ,   104.84033 , ...,\n",
       "                378.32532 ,   370.57574 ,   288.98175 ],\n",
       "             [ 4182.65    ,   -90.31543 ,   172.93652 , ...,\n",
       "                -57.3656  ,   610.2304  ,  -214.3262  ]], dtype=float32), offset=(1.0, 0.5), grid=Grid(shape=(256, 64), step=(0.03125, 0.03125), domain=((0.0, 8.0), (0.0, 2.0))))"
      ]
     },
     "execution_count": 66,
     "metadata": {},
     "output_type": "execute_result"
    }
   ],
   "source": [
    "fd.laplacian(reshapeData(recTarget,mygrid)[0])"
   ]
  },
  {
   "cell_type": "code",
   "execution_count": 49,
   "metadata": {},
   "outputs": [
    {
     "data": {
      "text/plain": [
       "DeviceArray(1.8615203, dtype=float32)"
      ]
     },
     "execution_count": 49,
     "metadata": {},
     "output_type": "execute_result"
    }
   ],
   "source": [
    "target = Y_test[num][:,:,vel]\n",
    "prediction = pred[:,:,vel]\n",
    "np.mean(percentageError(target,prediction))"
   ]
  },
  {
   "cell_type": "code",
   "execution_count": 50,
   "metadata": {},
   "outputs": [
    {
     "data": {
      "text/plain": [
       "DeviceArray(0.01556672, dtype=float32)"
      ]
     },
     "execution_count": 50,
     "metadata": {},
     "output_type": "execute_result"
    }
   ],
   "source": [
    "rec_pred = X_test[num][:,:,vel]+pred[:,:,vel]\n",
    "inp = X_test[num][:,:,vel]\n",
    "\n",
    "mse(inp,rec_pred)"
   ]
  },
  {
   "cell_type": "code",
   "execution_count": 51,
   "metadata": {},
   "outputs": [
    {
     "name": "stdout",
     "output_type": "stream",
     "text": [
      "Error before correction: 0.036174133\n",
      "Error after correction: 0.008697327\n",
      "Error reduced by network, nice\n"
     ]
    }
   ],
   "source": [
    "#err_before = mse(X_test[num][:,:,vel],Y_test[num][:,:,vel]+X_test[num][:,:,vel])\n",
    "#err_after = mse(rec_pred,inp)\n",
    "\n",
    "err_before = mse(recInput,recTarget)\n",
    "err_after = mse(recPred,recTarget)\n",
    "\n",
    "print(\"Error before correction: \" + str(err_before))\n",
    "print(\"Error after correction: \" + str(err_after))\n",
    "\n",
    "if err_after<err_before:\n",
    "    print(\"Error reduced by network, nice\")\n",
    "else:\n",
    "    print(\"WARNING: error increased by network\")"
   ]
  },
  {
   "cell_type": "markdown",
   "metadata": {},
   "source": [
    "## Calculating accuracy of model"
   ]
  },
  {
   "cell_type": "code",
   "execution_count": 65,
   "metadata": {},
   "outputs": [],
   "source": [
    "X_test_norm,_,_ = normalisingDataset(X_test)\n",
    "Y_test_norm,_,_ = normalisingDataset(Y_test)"
   ]
  },
  {
   "cell_type": "code",
   "execution_count": 66,
   "metadata": {},
   "outputs": [],
   "source": [
    "predictions = []\n",
    "for slice in X_test:\n",
    "    predictions.append(loaded.forward_pass.apply(loaded.params,slice))"
   ]
  },
  {
   "cell_type": "code",
   "execution_count": 67,
   "metadata": {},
   "outputs": [],
   "source": [
    "for i in range(len(predictions)):\n",
    "    predictions[i] += Y_test_norm[i]"
   ]
  },
  {
   "cell_type": "code",
   "execution_count": 111,
   "metadata": {},
   "outputs": [
    {
     "data": {
      "text/plain": [
       "DeviceArray(9.090909, dtype=float32)"
      ]
     },
     "execution_count": 111,
     "metadata": {},
     "output_type": "execute_result"
    }
   ],
   "source": [
    "mape(10,11)*100"
   ]
  },
  {
   "cell_type": "code",
   "execution_count": 112,
   "metadata": {},
   "outputs": [],
   "source": [
    "mse_errors = []\n",
    "mape_errors = []\n",
    "for i in range(len(predictions)):\n",
    "    mse_errors.append(mse(predictions[i]+X_test_norm[i],Y_test_norm[i]+X_test_norm[i]))\n",
    "    mape_errors.append(mape(predictions[i]+X_test_norm[i],Y_test_norm[i]+X_test_norm[i])*100)\n",
    "\n",
    "mse_errors_pre = []\n",
    "mape_errors_pre = []\n",
    "for i in range(len(predictions)):\n",
    "    mse_errors_pre.append(mse(X_test_norm[i],Y_test_norm[i]+X_test_norm[i]))\n",
    "    mape_errors_pre.append(mape(X_test_norm[i],Y_test_norm[i]+X_test_norm[i])*100)"
   ]
  },
  {
   "cell_type": "code",
   "execution_count": 117,
   "metadata": {},
   "outputs": [
    {
     "name": "stdout",
     "output_type": "stream",
     "text": [
      "Testing dataset\n",
      "\n",
      "\n",
      "\t\tMEAN\t\t\tMAX\t\t\tMIN\t\t\tStDev\n",
      "before:\n",
      "\t\tmse: 2.000000\t\t3.604019\t\t1.052191\t\t0.586664\n",
      "\t\tmape: 406.200\t\t4095.843\t\t155.067\t\t\t418.256\n",
      "after:\n",
      "\t\tmse: 0.062587\t\t0.106604\t\t0.034003\t\t0.016636\n",
      "\t\tmape: 82.737\t\t1363.584\t\t31.495\t\t\t113.033\n"
     ]
    }
   ],
   "source": [
    "print(\"Testing dataset\")\n",
    "print(\"\\n\")\n",
    "\n",
    "print(\"\\t\\tMEAN\\t\\t\\tMAX\\t\\t\\tMIN\\t\\t\\tStDev\")\n",
    "\n",
    "print(\"before:\")\n",
    "print(\"\\t\\tmse: {:06f}\\t\\t{:0.6f}\\t\\t{:0.6f}\\t\\t{:0.6f}\".format(np.mean(mse_errors_pre),np.max(mse_errors_pre),np.min(mse_errors_pre),np.std(mse_errors_pre)))\n",
    "print(\"\\t\\tmape: {:0.3f}\\t\\t{:0.3f}\\t\\t{:0.3f}\\t\\t\\t{:0.3f}\".format(np.mean(mape_errors_pre),np.max(mape_errors_pre),np.min(mape_errors_pre),np.std(mape_errors_pre)))\n",
    "\n",
    "\n",
    "print(\"after:\")\n",
    "print(\"\\t\\tmse: {:06f}\\t\\t{:0.6f}\\t\\t{:0.6f}\\t\\t{:0.6f}\".format(np.mean(mse_errors),np.max(mse_errors),np.min(mse_errors),np.std(mse_errors)))\n",
    "print(\"\\t\\tmape: {:0.3f}\\t\\t{:0.3f}\\t\\t{:0.3f}\\t\\t\\t{:0.3f}\".format(np.mean(mape_errors),np.max(mape_errors),np.min(mape_errors),np.std(mape_errors)))\n",
    "\n"
   ]
  }
 ],
 "metadata": {
  "kernelspec": {
   "display_name": "Python [conda env:PNAS_codes]",
   "language": "python",
   "name": "conda-env-PNAS_codes-py"
  },
  "language_info": {
   "codemirror_mode": {
    "name": "ipython",
    "version": 3
   },
   "file_extension": ".py",
   "mimetype": "text/x-python",
   "name": "python",
   "nbconvert_exporter": "python",
   "pygments_lexer": "ipython3",
   "version": "3.10.8"
  }
 },
 "nbformat": 4,
 "nbformat_minor": 2
}

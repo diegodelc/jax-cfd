{
 "cells": [
  {
   "cell_type": "markdown",
   "metadata": {},
   "source": [
    "## Training to velocities, 1st derivatives and laplacians"
   ]
  },
  {
   "cell_type": "code",
   "execution_count": 1,
   "metadata": {},
   "outputs": [],
   "source": [
    "from jax_cfd.ml.diego_cnn_bcs import *\n",
    "\n",
    "#imports\n",
    "import jax\n",
    "import jax.numpy as jnp\n",
    "\n",
    "import jax_cfd.base as cfd\n",
    "from jax_cfd.ml import towers\n",
    "import jax_cfd.ml.train_utils as train_utils\n",
    "from jax_cfd.base import finite_differences as fd\n",
    "from jax_cfd.base import grids\n",
    "\n",
    "import haiku as hk\n",
    "import numpy as np\n",
    "import xarray\n",
    "import random\n",
    "\n",
    "import pickle\n",
    "# from jax_cfd.ml.diego_model_utils import SaveObject, forward_pass_module\n",
    "from jax_cfd.ml.diego_preprocessing import *\n",
    "from jax_cfd.ml.diego_train_functions import *\n",
    "from jax_cfd.ml import nonlinearities\n",
    "\n",
    "from jax_cfd.ml.newSaveObject import *\n",
    "from jax_cfd.ml.diego_towers import *\n",
    "\n",
    "import matplotlib.pyplot as plt\n",
    "import seaborn\n",
    "\n",
    "import time"
   ]
  },
  {
   "cell_type": "code",
   "execution_count": 2,
   "metadata": {},
   "outputs": [],
   "source": [
    "# import data (fine grid)\n",
    "# create X_data via mean pooling\n",
    "# create Y_data by calculating everything for each frame and stacking them along the channel dimension"
   ]
  },
  {
   "cell_type": "code",
   "execution_count": null,
   "metadata": {},
   "outputs": [],
   "source": []
  },
  {
   "cell_type": "code",
   "execution_count": null,
   "metadata": {},
   "outputs": [],
   "source": []
  },
  {
   "cell_type": "code",
   "execution_count": 3,
   "metadata": {},
   "outputs": [],
   "source": [
    "# import data\n",
    "file_name = '256x64_150_seconds_inner_1'\n",
    "data = xarray.open_dataset(f'../../creating_dataset/datasets/'+ file_name +'.nc', chunks={'time': '100MB'})"
   ]
  },
  {
   "cell_type": "code",
   "execution_count": 4,
   "metadata": {},
   "outputs": [
    {
     "name": "stderr",
     "output_type": "stream",
     "text": [
      "WARNING:jax._src.lib.xla_bridge:No GPU/TPU found, falling back to CPU. (Set TF_CPP_MIN_LOG_LEVEL=0 and rerun for more info.)\n"
     ]
    }
   ],
   "source": [
    "# split by timestamps\n",
    "x_shape = len(data.x)\n",
    "y_shape = len(data.y)\n",
    "high_def = []\n",
    "for i in range(int(len(data.time))):\n",
    "    this_time = np.dstack([\n",
    "        jnp.array([data.u.isel(time = i)]).reshape(x_shape,y_shape).T,\n",
    "        jnp.array([data.v.isel(time = i)]).reshape(x_shape,y_shape).T\n",
    "    ])\n",
    "    high_def.append(this_time)"
   ]
  },
  {
   "cell_type": "code",
   "execution_count": 5,
   "metadata": {},
   "outputs": [
    {
     "name": "stdout",
     "output_type": "stream",
     "text": [
      "dt: \t\t0.015625\n",
      "outer_steps: \t9600\n",
      "inner_steps: \t1.0\n",
      "total_sim_time: 150.0\n",
      "removed points: 960\n",
      "\n",
      "\n",
      "step = 10\n",
      "Training dataset shape: \n",
      "\t(864, 64, 256, 2)\n"
     ]
    }
   ],
   "source": [
    "#warm up time (may want to discard initial stages of simulation since not really representative of turbulent flow?)\n",
    "dt = float(data.time[0].values)\n",
    "\n",
    "outer_steps = len(data.time.values)\n",
    "\n",
    "inner_steps = (data.time[1].values-data.time[0].values)/dt\n",
    "\n",
    "total_sim_time = outer_steps*inner_steps*dt\n",
    "print(\"dt: \\t\\t\" + str(dt))\n",
    "print(\"outer_steps: \\t\" + str(outer_steps))\n",
    "print(\"inner_steps: \\t\" + str(inner_steps))\n",
    "print(\"total_sim_time: \" + str(total_sim_time))\n",
    "\n",
    "warm_up = 15 #seconds\n",
    "warm_index = int(warm_up/total_sim_time * outer_steps // 1)\n",
    "print(\"removed points: \" + str(warm_index))\n",
    "high_def = high_def[warm_index:]\n",
    "\n",
    "print(\"\\n\")\n",
    "step = 10\n",
    "high_def = high_def[0::step]\n",
    "print(\"step = \" + str(step))\n",
    "print(\"Training dataset shape: \") # (frames, x, y, input channels)\n",
    "print(\"\\t\" + str(np.shape(high_def)))"
   ]
  },
  {
   "cell_type": "code",
   "execution_count": 6,
   "metadata": {},
   "outputs": [
    {
     "name": "stdout",
     "output_type": "stream",
     "text": [
      "CPU times: user 79.3 ms, sys: 14.9 ms, total: 94.2 ms\n",
      "Wall time: 94.3 ms\n"
     ]
    }
   ],
   "source": [
    "%time high_def_norm,ogMean,ogStdDev = normalisingDataset(high_def)"
   ]
  },
  {
   "cell_type": "markdown",
   "metadata": {},
   "source": [
    "## Defining what we are training towards"
   ]
  },
  {
   "cell_type": "code",
   "execution_count": 7,
   "metadata": {},
   "outputs": [],
   "source": [
    "which_outputs = {\n",
    "        \"u\" : False,\n",
    "        \"du\" : False,\n",
    "        \"lapu\" : True,\n",
    "        \n",
    "        \"v\" : False,\n",
    "        \"dv\" : False,\n",
    "        \"lapv\" : True\n",
    "    }\n",
    "\n",
    "conditions = [\n",
    "#             [0,0],#u\n",
    "#             [0,0],#dudx\n",
    "#             [0,0],#dudy\n",
    "            [0,0],#lapu\n",
    "\n",
    "#             [0,0],#v\n",
    "#             [0,0],#dvdx\n",
    "#             [0,0],#dvdy\n",
    "            [0,0]#lapv\n",
    "        ]"
   ]
  },
  {
   "cell_type": "code",
   "execution_count": 8,
   "metadata": {},
   "outputs": [
    {
     "name": "stdout",
     "output_type": "stream",
     "text": [
      "Create X dataset: \n",
      "CPU times: user 19.6 s, sys: 18.8 ms, total: 19.6 s\n",
      "Wall time: 19.7 s\n",
      "\n",
      "Create Y dataset: \n",
      "CPU times: user 1.36 s, sys: 12.8 ms, total: 1.38 s\n",
      "Wall time: 1.38 s\n",
      "\n",
      "Padding all datasets: \n",
      "CPU times: user 13.7 s, sys: 16.5 ms, total: 13.7 s\n",
      "Wall time: 13.8 s\n",
      "CPU times: user 13.6 s, sys: 14.3 ms, total: 13.6 s\n",
      "Wall time: 13.7 s\n",
      "CPU times: user 3.37 s, sys: 841 µs, total: 3.37 s\n",
      "Wall time: 3.39 s\n",
      "CPU times: user 3.41 s, sys: 17 µs, total: 3.41 s\n",
      "Wall time: 3.43 s\n",
      "\n",
      "Shapes of all datasets\n",
      "(691, 18, 66, 2)\n",
      "(691, 18, 66, 2)\n",
      "(173, 18, 66, 2)\n",
      "(173, 18, 66, 2)\n"
     ]
    }
   ],
   "source": [
    "#split into train and test\n",
    "\n",
    "split = 0.8\n",
    "split = int(len(high_def)*split//1)\n",
    "random.shuffle(high_def)\n",
    "\n",
    "factor = 4\n",
    "\n",
    "print(\"Create X dataset: \")\n",
    "%time X_dataset = creatingDataset(high_def_norm,mean_pooling,factor)\n",
    "\n",
    "print(\"\\nCreate Y dataset: \")\n",
    "%time Y_dataset = createDatasetDerivatives(high_def_norm,sampling,factor,which_outputs)\n",
    "\n",
    "# %time Y_dataset = calculateResiduals(X_dataset,Y_dataset)\n",
    "\n",
    "\n",
    "X_train = X_dataset[:split]\n",
    "Y_train = Y_dataset[:split]\n",
    "\n",
    "X_test = X_dataset[split:]\n",
    "Y_test = Y_dataset[split:]\n",
    "\n",
    "# NOTE: padding conditions can be specified via the \"conditions\" input to the padYDataset function below\n",
    "# the padXDataset only pads u and v for channel flow conditions, so hard coded for impermeability and no-slip conditions (0,0)\n",
    "print(\"\\nPadding all datasets: \")\n",
    "padding = [1,1] #this is for a 3 by 3 kernel, find a better way to define this (so not redifined when creating CNN)\n",
    "%time X_train = padXDataset(X_train,padding)\n",
    "%time Y_train = padYDataset(Y_train,padding,conditions)\n",
    "\n",
    "%time X_test = padXDataset(X_test,padding)\n",
    "%time Y_test = padYDataset(Y_test,padding,conditions)\n",
    "\n",
    "print(\"\\nShapes of all datasets\")\n",
    "printAllShapes(X_train,Y_train, X_test,Y_test)"
   ]
  },
  {
   "cell_type": "markdown",
   "metadata": {},
   "source": [
    "## Defining model shape"
   ]
  },
  {
   "cell_type": "code",
   "execution_count": 9,
   "metadata": {},
   "outputs": [],
   "source": [
    "def ConvNet(x):\n",
    "    cnn = CNN(CNN_specs)\n",
    "    return cnn(x)\n",
    "\n",
    "CNN_specs = {\n",
    "    \"hidden_channels\" : 16,\n",
    "    \"hidden_layers\" : 3,\n",
    "    \"nonlinearity\" : \"relu\",\n",
    "    \"num_output_channels\" : 2\n",
    "}\n",
    "input_channels = 2\n",
    "\n",
    "# CNN_specs = None"
   ]
  },
  {
   "cell_type": "code",
   "execution_count": null,
   "metadata": {},
   "outputs": [],
   "source": []
  },
  {
   "cell_type": "code",
   "execution_count": 10,
   "metadata": {},
   "outputs": [],
   "source": [
    "forward_pass = hk.without_apply_rng(hk.transform(ConvNet))"
   ]
  },
  {
   "cell_type": "code",
   "execution_count": null,
   "metadata": {},
   "outputs": [],
   "source": []
  },
  {
   "cell_type": "code",
   "execution_count": 11,
   "metadata": {},
   "outputs": [
    {
     "name": "stdout",
     "output_type": "stream",
     "text": [
      "Shapes of all datasets\n",
      "(691, 18, 66, 2)\n",
      "(691, 18, 66, 2)\n",
      "(173, 18, 66, 2)\n",
      "(173, 18, 66, 2)\n",
      "\n",
      "\n",
      "\n",
      "Start time: 1:27:00\n",
      "Epoch 1/10\n",
      "\tmse : 0.034951\t\tval mse : 0.035731\tEstimated end time: 1:28:40\n",
      "\n",
      "\n",
      "Epoch 2/10\n",
      "\tmse : 0.030257\t\tval mse : 0.030917\tEstimated end time: 1:29:10\n",
      "\n",
      "\n",
      "Epoch 3/10\n",
      "\tmse : 0.026496\t\tval mse : 0.027062\tEstimated end time: 1:29:24\n",
      "\n",
      "\n",
      "Epoch 4/10\n",
      "\tmse : 0.023434\t\tval mse : 0.023923\tEstimated end time: 1:29:32\n",
      "\n",
      "\n",
      "Epoch 5/10\n",
      "\tmse : 0.020907\t\tval mse : 0.021333\tEstimated end time: 1:29:38\n",
      "\n",
      "\n",
      "Epoch 6/10\n",
      "\tmse : 0.018797\t\tval mse : 0.019170\tEstimated end time: 1:29:42\n",
      "\n",
      "\n",
      "Epoch 7/10\n",
      "\tmse : 0.017019\t\tval mse : 0.017346\tEstimated end time: 1:29:45\n",
      "\n",
      "\n",
      "Epoch 8/10\n",
      "\tmse : 0.015506\t\tval mse : 0.015796\tEstimated end time: 1:29:48\n",
      "\n",
      "\n",
      "Epoch 9/10\n",
      "\tmse : 0.014211\t\tval mse : 0.014468\tEstimated end time: 1:29:49\n",
      "\n",
      "\n",
      "Epoch 10/10\n",
      "\tmse : 0.013094\t\tval mse : 0.013323\tEstimated end time: 1:29:51\n",
      "\n",
      "\n",
      "\n",
      "Finished training at max epochs\n",
      "\n",
      "CPU times: user 3min 59s, sys: 4.3 s, total: 4min 3s\n",
      "Wall time: 2min 51s\n"
     ]
    }
   ],
   "source": [
    "instance = MyTraining(X_train,Y_train,X_test,Y_test,\n",
    "                      jax.random.PRNGKey(42), #rng_key\n",
    "                      input_channels=2,\n",
    "                      epochs = 10,\n",
    "                      printEvery=1,\n",
    "                      learning_rates=staggeredLearningRate((120,0.01),(70,0.001)),\n",
    "                      params=None,\n",
    "                      forward_pass=forward_pass,\n",
    "                      tol = 1e-10)\n",
    "\n",
    "%time instance.train()"
   ]
  },
  {
   "cell_type": "code",
   "execution_count": null,
   "metadata": {},
   "outputs": [],
   "source": []
  },
  {
   "cell_type": "code",
   "execution_count": null,
   "metadata": {},
   "outputs": [],
   "source": []
  },
  {
   "cell_type": "code",
   "execution_count": 12,
   "metadata": {},
   "outputs": [
    {
     "data": {
      "text/plain": [
       "<matplotlib.legend.Legend at 0x148ce0107460>"
      ]
     },
     "execution_count": 12,
     "metadata": {},
     "output_type": "execute_result"
    },
    {
     "data": {
      "image/png": "[encoded data removed]",
      "text/plain": [
       "<Figure size 640x480 with 1 Axes>"
      ]
     },
     "metadata": {},
     "output_type": "display_data"
    }
   ],
   "source": [
    "step = 1\n",
    "\n",
    "plt.plot(instance.losses[::step], label=\"training\")\n",
    "plt.plot(instance.val_losses[::step],label=\"validation\")\n",
    "plt.ylabel(\"mse\")\n",
    "plt.xlabel(\"epochs\")\n",
    "# plt.yscale(\"log\")\n",
    "plt.legend()"
   ]
  },
  {
   "cell_type": "code",
   "execution_count": null,
   "metadata": {},
   "outputs": [],
   "source": []
  },
  {
   "cell_type": "code",
   "execution_count": null,
   "metadata": {},
   "outputs": [],
   "source": []
  },
  {
   "cell_type": "code",
   "execution_count": null,
   "metadata": {},
   "outputs": [],
   "source": []
  },
  {
   "cell_type": "code",
   "execution_count": null,
   "metadata": {},
   "outputs": [],
   "source": []
  },
  {
   "cell_type": "code",
   "execution_count": null,
   "metadata": {},
   "outputs": [],
   "source": []
  },
  {
   "cell_type": "code",
   "execution_count": 13,
   "metadata": {},
   "outputs": [],
   "source": [
    "description = \"\""
   ]
  },
  {
   "cell_type": "code",
   "execution_count": 14,
   "metadata": {},
   "outputs": [],
   "source": [
    "toSave = newSaveObject(instance.params,instance.losses,instance.val_losses,description,CNN_specs)"
   ]
  },
  {
   "cell_type": "code",
   "execution_count": 28,
   "metadata": {},
   "outputs": [],
   "source": [
    "save_path = \"./../models/correctors/laplacian_correctors/first_laplacians.pickle\""
   ]
  },
  {
   "cell_type": "code",
   "execution_count": 16,
   "metadata": {},
   "outputs": [],
   "source": [
    "with open(save_path,\"wb\") as f:\n",
    "    pickle.dump(toSave,f)"
   ]
  },
  {
   "cell_type": "markdown",
   "metadata": {},
   "source": [
    "## Loading model"
   ]
  },
  {
   "cell_type": "code",
   "execution_count": 29,
   "metadata": {},
   "outputs": [],
   "source": [
    "with open(save_path,'rb',) as pickle_file:\n",
    "    loaded = pickle.load(pickle_file)\n",
    "    CNN_specs = loaded.CNN_specs\n",
    "    loaded.forward_pass = hk.without_apply_rng(hk.transform(ConvNet))"
   ]
  },
  {
   "cell_type": "code",
   "execution_count": 30,
   "metadata": {},
   "outputs": [
    {
     "data": {
      "text/plain": [
       "'57 min CPU time, learning_rates = ((120,0.01),(30,0.001)), 150 epochs'"
      ]
     },
     "execution_count": 30,
     "metadata": {},
     "output_type": "execute_result"
    }
   ],
   "source": [
    "loaded.description"
   ]
  },
  {
   "cell_type": "markdown",
   "metadata": {},
   "source": [
    "## Evaluating the model "
   ]
  },
  {
   "cell_type": "code",
   "execution_count": 31,
   "metadata": {},
   "outputs": [],
   "source": [
    "# loss_eval = mse\n",
    "def loss_eval(in1,in2):\n",
    "    return abs(in1-in2)"
   ]
  },
  {
   "cell_type": "code",
   "execution_count": 32,
   "metadata": {},
   "outputs": [],
   "source": [
    "# Make predictions for every slice in X_test\n",
    "predictions = []\n",
    "for mySlice in X_test:\n",
    "    predictions.append(loaded.forward_pass.apply(loaded.params,mySlice))"
   ]
  },
  {
   "cell_type": "code",
   "execution_count": 33,
   "metadata": {},
   "outputs": [],
   "source": [
    "# Compute error predictions vs Y_test\n",
    "errors = []\n",
    "for j in range(len(predictions)):\n",
    "    partial = []\n",
    "    partial.append(loss_eval(predictions[j],Y_test[j]))\n",
    "#     partial.append(mape(predictions[j],Y_test[j]))\n",
    "    errors.append(partial)"
   ]
  },
  {
   "cell_type": "code",
   "execution_count": 34,
   "metadata": {},
   "outputs": [],
   "source": [
    "# Compute what would have been obtained from input without the CNN (to see if there is an improvement)"
   ]
  },
  {
   "cell_type": "code",
   "execution_count": 35,
   "metadata": {},
   "outputs": [],
   "source": [
    "# calculate laplacians for input\n",
    "inputLaps = []\n",
    "for j in range(len(X_test)):\n",
    "    inputLaps.append(npLaplacian(X_test[j]))"
   ]
  },
  {
   "cell_type": "code",
   "execution_count": 36,
   "metadata": {},
   "outputs": [],
   "source": [
    "# Compute error computed laps for input vs true laps\n",
    "errorsLaps = []\n",
    "for j in range(len(predictions)):\n",
    "    partial = []\n",
    "    partial.append(loss_eval(inputLaps[j],Y_test[j]))\n",
    "#     partial.append(mape(predictions[j],Y_test[j]))\n",
    "    errorsLaps.append(partial)"
   ]
  },
  {
   "cell_type": "code",
   "execution_count": 37,
   "metadata": {},
   "outputs": [
    {
     "name": "stdout",
     "output_type": "stream",
     "text": [
      "Test error for NN\n",
      "\tError : 0.042474\n",
      "\tError/mean(||truth||) : 1.699393\n",
      "\n",
      "Error if no NN used\n",
      "\tError : 0.242677\n",
      "\tError/mean(||truth||) : 9.709582\n"
     ]
    }
   ],
   "source": [
    "print(\"Test error for NN\")\n",
    "print(\"\\tError : {:.6f}\".format(np.mean(errors)))\n",
    "print(\"\\tError/mean(||truth||) : {:.6f}\".format(np.mean(errors) / np.mean(np.abs(Y_test))))\n",
    "\n",
    "print(\"\\nError if no NN used\")\n",
    "print(\"\\tError : {:.6f}\".format(np.mean(errorsLaps)))\n",
    "print(\"\\tError/mean(||truth||) : {:.6f}\".format(np.mean(errorsLaps) / np.mean(np.abs(Y_test))))"
   ]
  },
  {
   "cell_type": "code",
   "execution_count": null,
   "metadata": {},
   "outputs": [],
   "source": []
  },
  {
   "cell_type": "code",
   "execution_count": null,
   "metadata": {},
   "outputs": [],
   "source": []
  },
  {
   "cell_type": "code",
   "execution_count": null,
   "metadata": {},
   "outputs": [],
   "source": []
  }
 ],
 "metadata": {
  "kernelspec": {
   "display_name": "Python [conda env:PNAS_codes]",
   "language": "python",
   "name": "conda-env-PNAS_codes-py"
  },
  "language_info": {
   "codemirror_mode": {
    "name": "ipython",
    "version": 3
   },
   "file_extension": ".py",
   "mimetype": "text/x-python",
   "name": "python",
   "nbconvert_exporter": "python",
   "pygments_lexer": "ipython3",
   "version": "3.10.8"
  }
 },
 "nbformat": 4,
 "nbformat_minor": 2
}

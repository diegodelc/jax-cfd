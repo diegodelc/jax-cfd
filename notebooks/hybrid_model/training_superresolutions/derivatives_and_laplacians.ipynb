{
 "cells": [
  {
   "cell_type": "markdown",
   "metadata": {},
   "source": [
    "## Training to velocities, 1st derivatives and laplacians"
   ]
  },
  {
   "cell_type": "code",
   "execution_count": 5,
   "metadata": {},
   "outputs": [
    {
     "name": "stdout",
     "output_type": "stream",
     "text": [
      "Number of parameters: 2562\n",
      "Bits: 81984\n",
      "Bytes: 10248\n"
     ]
    }
   ],
   "source": [
    "n_params = 0\n",
    "\n",
    "\n",
    "l=2\n",
    "filt = 3\n",
    "k=16\n",
    "\n",
    "n_params += (l*filt+1)*k\n",
    "\n",
    "for i in range(3):\n",
    "    l=16\n",
    "    n_params += (l*filt+1)*k\n",
    "    \n",
    "l=16\n",
    "k=2\n",
    "n_params += (l*filt+1)*k\n",
    "\n",
    "print(\"Number of parameters: \" + str(n_params))\n",
    "\n",
    "bits = n_params*32\n",
    "\n",
    "print(\"Bits: \" + str(bits))\n",
    "\n",
    "print(\"Bytes: \" + str(int(bits/8)))"
   ]
  },
  {
   "cell_type": "code",
   "execution_count": 7,
   "metadata": {},
   "outputs": [
    {
     "data": {
      "text/plain": [
       "160000000"
      ]
     },
     "execution_count": 7,
     "metadata": {},
     "output_type": "execute_result"
    }
   ],
   "source": [
    "10_000_000*4*4"
   ]
  },
  {
   "cell_type": "code",
   "execution_count": 1,
   "metadata": {},
   "outputs": [],
   "source": [
    "#imports\n",
    "import jax\n",
    "import jax.numpy as jnp\n",
    "\n",
    "import jax_cfd.base as cfd\n",
    "from jax_cfd.ml import towers\n",
    "import jax_cfd.ml.train_utils as train_utils\n",
    "from jax_cfd.base import finite_differences as fd\n",
    "from jax_cfd.base import grids\n",
    "\n",
    "import haiku as hk\n",
    "import numpy as np\n",
    "import xarray\n",
    "import random\n",
    "\n",
    "import pickle\n",
    "# from jax_cfd.ml.diego_model_utils import SaveObject, forward_pass_module\n",
    "import jax_cfd.ml.diego_preprocessing as preprocessing\n",
    "import jax_cfd.ml.diego_train_functions as training\n",
    "from jax_cfd.ml import nonlinearities\n",
    "import jax_cfd.ml.diego_cnn_bcs as bcs\n",
    "\n",
    "import jax_cfd.ml.newSaveObject as saving\n",
    "import jax_cfd.ml.diego_towers as mytowers\n",
    "\n",
    "import matplotlib.pyplot as plt\n",
    "import seaborn\n",
    "\n",
    "import time"
   ]
  },
  {
   "cell_type": "code",
   "execution_count": 2,
   "metadata": {},
   "outputs": [
    {
     "data": {
      "text/plain": [
       "<module 'jax_cfd.ml.diego_preprocessing' from '/rds/general/user/dd519/home/FYP/forked_jax/jax-cfd/jax_cfd/ml/diego_preprocessing.py'>"
      ]
     },
     "execution_count": 2,
     "metadata": {},
     "output_type": "execute_result"
    }
   ],
   "source": [
    "# this allows me to reload a module without having to interrupt the kernel\n",
    "import importlib\n",
    "importlib.reload(preprocessing)\n",
    "# importlib.reload(from jax_cfd.ml.diego_train_functions import *)\n",
    "# importlib.reload(from jax_cfd.ml import nonlinearities)\n",
    "# importlib.reload(from jax_cfd.ml.diego_cnn_bcs import *)"
   ]
  },
  {
   "cell_type": "code",
   "execution_count": 3,
   "metadata": {},
   "outputs": [],
   "source": [
    "# import data (fine grid)\n",
    "# create X_data via mean pooling\n",
    "# create Y_data by calculating everything for each frame and stacking them along the channel dimension"
   ]
  },
  {
   "cell_type": "code",
   "execution_count": null,
   "metadata": {},
   "outputs": [],
   "source": []
  },
  {
   "cell_type": "code",
   "execution_count": null,
   "metadata": {},
   "outputs": [],
   "source": []
  },
  {
   "cell_type": "code",
   "execution_count": 4,
   "metadata": {},
   "outputs": [],
   "source": [
    "# import data\n",
    "file_name = '1080x256_150_seconds_inner_1'\n",
    "data = xarray.open_dataset(f'../../creating_dataset/datasets/'+ file_name +'.nc', chunks={'time': '100MB'})"
   ]
  },
  {
   "cell_type": "code",
   "execution_count": 5,
   "metadata": {},
   "outputs": [
    {
     "name": "stderr",
     "output_type": "stream",
     "text": [
      "No GPU/TPU found, falling back to CPU. (Set TF_CPP_MIN_LOG_LEVEL=0 and rerun for more info.)\n"
     ]
    }
   ],
   "source": [
    "# split by timestamps\n",
    "x_shape = len(data.x)\n",
    "y_shape = len(data.y)\n",
    "high_def = []\n",
    "for i in range(int(len(data.time))):\n",
    "    this_time = np.dstack([\n",
    "        jnp.array([data.u.isel(time = i)]).reshape(x_shape,y_shape),\n",
    "        jnp.array([data.v.isel(time = i)]).reshape(x_shape,y_shape)\n",
    "    ])\n",
    "    high_def.append(this_time)"
   ]
  },
  {
   "cell_type": "code",
   "execution_count": 6,
   "metadata": {},
   "outputs": [
    {
     "name": "stdout",
     "output_type": "stream",
     "text": [
      "dt: \t\t0.003703703703703704\n",
      "outer_steps: \t40499\n",
      "inner_steps: \t1.0\n",
      "total_sim_time: 149.9962962962963\n",
      "removed points: 1350\n",
      "\n",
      "\n",
      "step = 50\n",
      "Training dataset shape: \n",
      "\t(783, 1080, 256, 2)\n"
     ]
    }
   ],
   "source": [
    "#warm up time (may want to discard initial stages of simulation since not really representative of turbulent flow?)\n",
    "dt = float(data.time[0].values)\n",
    "\n",
    "outer_steps = len(data.time.values)\n",
    "\n",
    "inner_steps = (data.time[1].values-data.time[0].values)/dt\n",
    "\n",
    "total_sim_time = outer_steps*inner_steps*dt\n",
    "print(\"dt: \\t\\t\" + str(dt))\n",
    "print(\"outer_steps: \\t\" + str(outer_steps))\n",
    "print(\"inner_steps: \\t\" + str(inner_steps))\n",
    "print(\"total_sim_time: \" + str(total_sim_time))\n",
    "\n",
    "warm_up = 5 #seconds\n",
    "warm_index = int(warm_up/total_sim_time * outer_steps // 1)\n",
    "print(\"removed points: \" + str(warm_index))\n",
    "high_def = high_def[warm_index:]\n",
    "\n",
    "print(\"\\n\")\n",
    "step = 50\n",
    "high_def = high_def[0::step]\n",
    "print(\"step = \" + str(step))\n",
    "print(\"Training dataset shape: \") # (frames, x, y, input channels)\n",
    "print(\"\\t\" + str(np.shape(high_def)))"
   ]
  },
  {
   "cell_type": "code",
   "execution_count": 7,
   "metadata": {},
   "outputs": [],
   "source": [
    "# %time high_def_norm,ogMean,ogStdDev = preprocessing.normalisingDataset(high_def)\n",
    "high_def_norm = high_def"
   ]
  },
  {
   "cell_type": "markdown",
   "metadata": {},
   "source": [
    "## Defining what we are training towards"
   ]
  },
  {
   "cell_type": "code",
   "execution_count": 8,
   "metadata": {},
   "outputs": [],
   "source": [
    "which_outputs = {\n",
    "        \"vels\" : False,\n",
    "        \"derivatives\" : False,\n",
    "        \"laplacians\" : True\n",
    "    }"
   ]
  },
  {
   "cell_type": "code",
   "execution_count": 12,
   "metadata": {},
   "outputs": [
    {
     "name": "stdout",
     "output_type": "stream",
     "text": [
      "Create X dataset: \n",
      "CPU times: user 183 ms, sys: 1.92 ms, total: 185 ms\n",
      "Wall time: 185 ms\n",
      "\n",
      "Create Y dataset: \n",
      "CPU times: user 24.5 s, sys: 92.5 ms, total: 24.6 s\n",
      "Wall time: 24.7 s\n",
      "\n",
      "Shapes of all datasets\n",
      "(742, 64, 16, 2)\n",
      "(742, 64, 16, 2)\n",
      "(186, 64, 16, 2)\n",
      "(186, 64, 16, 2)\n"
     ]
    }
   ],
   "source": [
    "#split into train and test\n",
    "\n",
    "split = 0.8\n",
    "split = int(len(high_def)*split//1)\n",
    "random.shuffle(high_def)\n",
    "\n",
    "factor = 4\n",
    "\n",
    "print(\"Create X dataset: \")\n",
    "%time X_dataset = preprocessing.creatingDataset(high_def_norm,preprocessing.sampling,factor)\n",
    "\n",
    "print(\"\\nCreate Y dataset: \")\n",
    "padding = [1,1]\n",
    "%time Y_dataset = preprocessing.getYdata(high_def_norm,which_outputs,padding,preprocessing.sampling,factor) #does everything, returns unpadded data\n",
    "\n",
    "# %time Y_dataset = calculateResiduals(X_dataset,Y_dataset)\n",
    "\n",
    "\n",
    "X_train = X_dataset[:split]\n",
    "Y_train = Y_dataset[:split]\n",
    "\n",
    "X_test = X_dataset[split:]\n",
    "Y_test = Y_dataset[split:]\n",
    "\n",
    "\n",
    "\n",
    "# print(\"\\nPadding all datasets: \")\n",
    "# padding = [1,1] #this is for a 3 by 3 kernel, find a better way to define this (so not redifined when creating CNN)\n",
    "# %time X_train = padXDataset(X_train,padding)\n",
    "# %time Y_train = padYDatasetNew(Y_train,padding,conditions)\n",
    "\n",
    "# %time X_test = padXDataset(X_test,padding)\n",
    "# %time Y_test = padYDataset(Y_test,padding,conditions)\n",
    "\n",
    "print(\"\\nShapes of all datasets\")\n",
    "training.printAllShapes(X_train,Y_train, X_test,Y_test)"
   ]
  },
  {
   "cell_type": "markdown",
   "metadata": {},
   "source": [
    "## Defining model shape"
   ]
  },
  {
   "cell_type": "code",
   "execution_count": 13,
   "metadata": {},
   "outputs": [],
   "source": [
    "def ConvNet(x):\n",
    "    cnn = mytowers.CNN(CNN_specs)\n",
    "    return cnn(x)\n",
    "\n",
    "CNN_specs = {\n",
    "    \"hidden_channels\" : 10,\n",
    "    \"hidden_layers\" : 6,\n",
    "    \"nonlinearity\" : \"relu\",\n",
    "    \"num_output_channels\" : 2\n",
    "}\n",
    "input_channels = 2\n",
    "\n",
    "# CNN_specs = None"
   ]
  },
  {
   "cell_type": "code",
   "execution_count": 14,
   "metadata": {},
   "outputs": [],
   "source": [
    "forward_pass = hk.without_apply_rng(hk.transform(ConvNet))"
   ]
  },
  {
   "cell_type": "code",
   "execution_count": 15,
   "metadata": {},
   "outputs": [
    {
     "name": "stdout",
     "output_type": "stream",
     "text": [
      "Shapes of all datasets\n",
      "(742, 64, 16, 2)\n",
      "(742, 64, 16, 2)\n",
      "(186, 64, 16, 2)\n",
      "(186, 64, 16, 2)\n",
      "\n",
      "\n",
      "\n",
      "Start time: 19:12:07\n",
      "Epoch 1/25\n",
      "\tmse : 0.000800\t\tval mse : 0.000769\tEstimated end time: 19:26:33\n",
      "\n",
      "\n",
      "Epoch 2/25\n",
      "\tmse : 0.000751\t\tval mse : 0.000731\tEstimated end time: 19:31:07\n",
      "\n",
      "\n",
      "Epoch 3/25\n",
      "\tmse : 0.000721\t\tval mse : 0.000709\tEstimated end time: 19:33:20\n",
      "\n",
      "\n",
      "Epoch 4/25\n",
      "\tmse : 0.000703\t\tval mse : 0.000695\tEstimated end time: 19:34:44\n",
      "\n",
      "\n",
      "Epoch 5/25\n",
      "\tmse : 0.000692\t\tval mse : 0.000686\tEstimated end time: 19:35:35\n",
      "\n",
      "\n",
      "Epoch 6/25\n",
      "\tmse : 0.000685\t\tval mse : 0.000680\tEstimated end time: 19:36:14\n",
      "\n",
      "\n",
      "Epoch 7/25\n",
      "\tmse : 0.000681\t\tval mse : 0.000677\tEstimated end time: 19:36:41\n",
      "\n",
      "\n",
      "Epoch 8/25\n",
      "\tmse : 0.000678\t\tval mse : 0.000674\tEstimated end time: 19:37:05\n",
      "\n",
      "\n",
      "Epoch 9/25\n",
      "\tmse : 0.000675\t\tval mse : 0.000672\tEstimated end time: 19:37:23\n",
      "\n",
      "\n",
      "Epoch 10/25\n",
      "\tmse : 0.000674\t\tval mse : 0.000671\tEstimated end time: 19:37:38\n",
      "\n",
      "\n",
      "Epoch 11/25\n",
      "\tmse : 0.000672\t\tval mse : 0.000669\tEstimated end time: 19:37:50\n",
      "\n",
      "\n",
      "Epoch 12/25\n",
      "\tmse : 0.000671\t\tval mse : 0.000668\tEstimated end time: 19:37:59\n",
      "\n",
      "\n",
      "Epoch 13/25\n",
      "\tmse : 0.000670\t\tval mse : 0.000667\tEstimated end time: 19:38:07\n",
      "\n",
      "\n",
      "Epoch 14/25\n",
      "\tmse : 0.000669\t\tval mse : 0.000666\tEstimated end time: 19:38:14\n",
      "\n",
      "\n",
      "Epoch 15/25\n",
      "\tmse : 0.000668\t\tval mse : 0.000665\tEstimated end time: 19:38:20\n",
      "\n",
      "\n",
      "Epoch 16/25\n",
      "\tmse : 0.000667\t\tval mse : 0.000665\tEstimated end time: 19:38:26\n",
      "\n",
      "\n",
      "Epoch 17/25\n",
      "\tmse : 0.000666\t\tval mse : 0.000664\tEstimated end time: 19:38:31\n",
      "\n",
      "\n",
      "Epoch 18/25\n",
      "\tmse : 0.000666\t\tval mse : 0.000663\tEstimated end time: 19:38:36\n",
      "\n",
      "\n",
      "Epoch 19/25\n",
      "\tmse : 0.000665\t\tval mse : 0.000662\tEstimated end time: 19:38:42\n",
      "\n",
      "\n",
      "Epoch 20/25\n",
      "\tmse : 0.000664\t\tval mse : 0.000661\tEstimated end time: 19:38:46\n",
      "\n",
      "\n",
      "Epoch 21/25\n",
      "\tmse : 0.000663\t\tval mse : 0.000661\tEstimated end time: 19:38:51\n",
      "\n",
      "\n",
      "Epoch 22/25\n",
      "\tmse : 0.000663\t\tval mse : 0.000660\tEstimated end time: 19:38:55\n",
      "\n",
      "\n",
      "Epoch 23/25\n",
      "\tmse : 0.000662\t\tval mse : 0.000659\tEstimated end time: 19:39:00\n",
      "\n",
      "\n",
      "Epoch 24/25\n",
      "\tmse : 0.000661\t\tval mse : 0.000659\tEstimated end time: 19:39:04\n",
      "\n",
      "\n",
      "Epoch 25/25\n",
      "\tmse : 0.000660\t\tval mse : 0.000658\tEstimated end time: 19:39:06\n",
      "\n",
      "\n",
      "\n",
      "Finished training at max epochs\n",
      "\n",
      "CPU times: user 33min 8s, sys: 20.2 s, total: 33min 28s\n",
      "Wall time: 26min 59s\n"
     ]
    }
   ],
   "source": [
    "instance = training.MyTraining(X_train,Y_train,X_test,Y_test,\n",
    "                      jax.random.PRNGKey(42), #rng_key\n",
    "                      input_channels=2,\n",
    "                      epochs = 25,\n",
    "                      printEvery=1,#epochs\n",
    "                      learning_rates=training.staggeredLearningRate((50,0.1),(20,0.01),(11,0.001)), #iterated over batches\n",
    "                      batch_size=len(X_train)//2+1, # number or len(X_train)\n",
    "                      validateEvery=1,\n",
    "                      params=None,\n",
    "                      forward_pass=forward_pass,\n",
    "                      tol = 1e-10)\n",
    "\n",
    "%time instance.train()"
   ]
  },
  {
   "cell_type": "code",
   "execution_count": 16,
   "metadata": {},
   "outputs": [
    {
     "data": {
      "text/plain": [
       "<matplotlib.legend.Legend at 0x15452c10f880>"
      ]
     },
     "execution_count": 16,
     "metadata": {},
     "output_type": "execute_result"
    },
    {
     "data": {
      "image/png": "[encoded data removed]",
      "text/plain": [
       "<Figure size 640x480 with 1 Axes>"
      ]
     },
     "metadata": {},
     "output_type": "display_data"
    }
   ],
   "source": [
    "\n",
    "batches = np.arange(len(instance.losses))\n",
    "val_step = len(instance.losses)//len(instance.val_losses)\n",
    "\n",
    "batches_val = batches[::val_step]+val_step\n",
    "plt.plot(batches+1,instance.losses, label=\"training\")\n",
    "plt.plot(batches_val,instance.val_losses,label=\"validation\")\n",
    "plt.ylabel(\"mse\")\n",
    "plt.xlabel(\"batches\")\n",
    "# plt.yscale(\"log\")\n",
    "plt.legend()"
   ]
  },
  {
   "cell_type": "code",
   "execution_count": null,
   "metadata": {},
   "outputs": [],
   "source": []
  },
  {
   "cell_type": "code",
   "execution_count": 17,
   "metadata": {},
   "outputs": [],
   "source": [
    "description = \"27 mins, wide and deep network\""
   ]
  },
  {
   "cell_type": "code",
   "execution_count": 18,
   "metadata": {},
   "outputs": [],
   "source": [
    "toSave = saving.newSaveObject(instance.params,instance.losses,instance.val_losses,description,CNN_specs)"
   ]
  },
  {
   "cell_type": "code",
   "execution_count": 20,
   "metadata": {},
   "outputs": [],
   "source": [
    "with open(save_path,\"wb\") as f:\n",
    "    pickle.dump(toSave,f)\n",
    "\n",
    "del save_path"
   ]
  },
  {
   "cell_type": "code",
   "execution_count": 25,
   "metadata": {},
   "outputs": [],
   "source": [
    "del save_path"
   ]
  },
  {
   "cell_type": "code",
   "execution_count": 21,
   "metadata": {},
   "outputs": [],
   "source": [
    "save_path = \"./../models/correctors/laplacian_correctors/best_laplacian.pickle\""
   ]
  },
  {
   "cell_type": "markdown",
   "metadata": {},
   "source": [
    "## Loading model"
   ]
  },
  {
   "cell_type": "code",
   "execution_count": 22,
   "metadata": {},
   "outputs": [],
   "source": [
    "import pickle\n",
    "import jax_cfd.ml.newSaveObject as saving\n",
    "import haiku as hk"
   ]
  },
  {
   "cell_type": "code",
   "execution_count": 23,
   "metadata": {},
   "outputs": [],
   "source": [
    "with open(save_path,'rb',) as pickle_file:\n",
    "    loaded = pickle.load(pickle_file)\n",
    "    CNN_specs = loaded.CNN_specs\n",
    "    loaded.forward_pass = hk.without_apply_rng(hk.transform(ConvNet))"
   ]
  },
  {
   "cell_type": "code",
   "execution_count": 24,
   "metadata": {},
   "outputs": [
    {
     "data": {
      "text/plain": [
       "'27 mins, wide and deep network'"
      ]
     },
     "execution_count": 24,
     "metadata": {},
     "output_type": "execute_result"
    }
   ],
   "source": [
    "loaded.description"
   ]
  },
  {
   "cell_type": "markdown",
   "metadata": {},
   "source": [
    "## Evaluating the model "
   ]
  },
  {
   "cell_type": "code",
   "execution_count": 26,
   "metadata": {},
   "outputs": [],
   "source": [
    "# loss_eval = mse\n",
    "def loss_eval(in1,in2):\n",
    "    return abs(in1-in2)"
   ]
  },
  {
   "cell_type": "code",
   "execution_count": 27,
   "metadata": {},
   "outputs": [],
   "source": [
    "# Make predictions for every slice in X_test\n",
    "predictions = []\n",
    "for mySlice in X_test:\n",
    "    predictions.append(loaded.forward_pass.apply(loaded.params,mySlice))"
   ]
  },
  {
   "cell_type": "code",
   "execution_count": 28,
   "metadata": {},
   "outputs": [],
   "source": [
    "# Compute error predictions vs Y_test\n",
    "errors = []\n",
    "for j in range(len(predictions)):\n",
    "    partial = []\n",
    "    partial.append(loss_eval(predictions[j],Y_test[j]))\n",
    "#     partial.append(mape(predictions[j],Y_test[j]))\n",
    "    errors.append(partial)"
   ]
  },
  {
   "cell_type": "code",
   "execution_count": 29,
   "metadata": {},
   "outputs": [],
   "source": [
    "# Compute what would have been obtained from input without the CNN (to see if there is an improvement)"
   ]
  },
  {
   "cell_type": "code",
   "execution_count": 30,
   "metadata": {},
   "outputs": [],
   "source": [
    "# calculate laplacians for input\n",
    "inputLaps = []\n",
    "for j in range(len(X_test)):\n",
    "    inputLaps.append(preprocessing.npLaplacian(X_test[j]))"
   ]
  },
  {
   "cell_type": "code",
   "execution_count": 31,
   "metadata": {},
   "outputs": [],
   "source": [
    "# Compute error computed laps for input vs true laps\n",
    "errorsLaps = []\n",
    "for j in range(len(predictions)):\n",
    "    partial = []\n",
    "    partial.append(loss_eval(inputLaps[j],Y_test[j]))\n",
    "#     partial.append(mape(predictions[j],Y_test[j]))\n",
    "    errorsLaps.append(partial)"
   ]
  },
  {
   "cell_type": "code",
   "execution_count": 32,
   "metadata": {},
   "outputs": [
    {
     "name": "stdout",
     "output_type": "stream",
     "text": [
      "Test error for NN\n",
      "\tError : 0.012113\n",
      "\tError/mean(||truth||) : 1.285710\n",
      "\n",
      "Error if no NN used\n",
      "\tError : 0.050160\n",
      "\tError/mean(||truth||) : 5.324040\n"
     ]
    }
   ],
   "source": [
    "print(\"Test error for NN\")\n",
    "print(\"\\tError : {:.6f}\".format(np.mean(errors)))\n",
    "print(\"\\tError/mean(||truth||) : {:.6f}\".format(np.mean(errors) / np.mean(np.abs(Y_test))))\n",
    "\n",
    "print(\"\\nError if no NN used\")\n",
    "print(\"\\tError : {:.6f}\".format(np.mean(errorsLaps)))\n",
    "print(\"\\tError/mean(||truth||) : {:.6f}\".format(np.mean(errorsLaps) / np.mean(np.abs(Y_test))))"
   ]
  },
  {
   "cell_type": "code",
   "execution_count": null,
   "metadata": {},
   "outputs": [],
   "source": []
  },
  {
   "cell_type": "code",
   "execution_count": null,
   "metadata": {},
   "outputs": [],
   "source": []
  }
 ],
 "metadata": {
  "kernelspec": {
   "display_name": "Python [conda env:PNAS_codes]",
   "language": "python",
   "name": "conda-env-PNAS_codes-py"
  },
  "language_info": {
   "codemirror_mode": {
    "name": "ipython",
    "version": 3
   },
   "file_extension": ".py",
   "mimetype": "text/x-python",
   "name": "python",
   "nbconvert_exporter": "python",
   "pygments_lexer": "ipython3",
   "version": "3.10.8"
  }
 },
 "nbformat": 4,
 "nbformat_minor": 2
}

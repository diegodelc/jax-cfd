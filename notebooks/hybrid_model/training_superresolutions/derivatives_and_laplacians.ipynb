{
 "cells": [
  {
   "cell_type": "markdown",
   "metadata": {},
   "source": [
    "## Training to velocities, 1st derivatives and laplacians"
   ]
  },
  {
   "cell_type": "code",
   "execution_count": 1,
   "metadata": {},
   "outputs": [],
   "source": [
    "from jax_cfd.ml.diego_cnn_bcs import *\n",
    "\n",
    "#imports\n",
    "import jax\n",
    "import jax.numpy as jnp\n",
    "\n",
    "import jax_cfd.base as cfd\n",
    "from jax_cfd.ml import towers\n",
    "import jax_cfd.ml.train_utils as train_utils\n",
    "from jax_cfd.base import finite_differences as fd\n",
    "from jax_cfd.base import grids\n",
    "\n",
    "import haiku as hk\n",
    "import numpy as np\n",
    "import xarray\n",
    "import random\n",
    "\n",
    "import pickle\n",
    "# from jax_cfd.ml.diego_model_utils import SaveObject, forward_pass_module\n",
    "from jax_cfd.ml.diego_preprocessing import *\n",
    "from jax_cfd.ml.diego_train_functions import *\n",
    "from jax_cfd.ml import nonlinearities\n",
    "\n",
    "from jax_cfd.ml.newSaveObject import *\n",
    "from jax_cfd.ml.diego_towers import *\n",
    "\n",
    "import matplotlib.pyplot as plt\n",
    "import seaborn\n",
    "\n",
    "import time"
   ]
  },
  {
   "cell_type": "code",
   "execution_count": 2,
   "metadata": {},
   "outputs": [],
   "source": [
    "# import data (fine grid)\n",
    "# create X_data via mean pooling\n",
    "# create Y_data by calculating everything for each frame and stacking them along the channel dimension"
   ]
  },
  {
   "cell_type": "code",
   "execution_count": null,
   "metadata": {},
   "outputs": [],
   "source": []
  },
  {
   "cell_type": "code",
   "execution_count": 3,
   "metadata": {},
   "outputs": [],
   "source": [
    "# import data\n",
    "file_name = '256x64_150_seconds_inner_1'\n",
    "data = xarray.open_dataset(f'../../creating_dataset/datasets/'+ file_name +'.nc', chunks={'time': '100MB'})"
   ]
  },
  {
   "cell_type": "code",
   "execution_count": 14,
   "metadata": {},
   "outputs": [],
   "source": [
    "# split by timestamps\n",
    "x_shape = len(data.x)\n",
    "y_shape = len(data.y)\n",
    "high_def = []\n",
    "for i in range(int(len(data.time))):\n",
    "    this_time = np.dstack([\n",
    "        jnp.array([data.u.isel(time = i)]).reshape(x_shape,y_shape).T,\n",
    "        jnp.array([data.v.isel(time = i)]).reshape(x_shape,y_shape).T\n",
    "    ])\n",
    "    high_def.append(this_time)"
   ]
  },
  {
   "cell_type": "code",
   "execution_count": 15,
   "metadata": {},
   "outputs": [
    {
     "name": "stdout",
     "output_type": "stream",
     "text": [
      "dt: \t\t0.015625\n",
      "outer_steps: \t9600\n",
      "inner_steps: \t1.0\n",
      "total_sim_time: 150.0\n",
      "removed points: 960\n",
      "\n",
      "\n",
      "step = 10\n",
      "Training dataset shape: \n",
      "\t(864, 64, 256, 2)\n"
     ]
    }
   ],
   "source": [
    "#warm up time (may want to discard initial stages of simulation since not really representative of turbulent flow?)\n",
    "dt = float(data.time[0].values)\n",
    "\n",
    "outer_steps = len(data.time.values)\n",
    "\n",
    "inner_steps = (data.time[1].values-data.time[0].values)/dt\n",
    "\n",
    "total_sim_time = outer_steps*inner_steps*dt\n",
    "print(\"dt: \\t\\t\" + str(dt))\n",
    "print(\"outer_steps: \\t\" + str(outer_steps))\n",
    "print(\"inner_steps: \\t\" + str(inner_steps))\n",
    "print(\"total_sim_time: \" + str(total_sim_time))\n",
    "\n",
    "warm_up = 15 #seconds\n",
    "warm_index = int(warm_up/total_sim_time * outer_steps // 1)\n",
    "print(\"removed points: \" + str(warm_index))\n",
    "high_def = high_def[warm_index:]\n",
    "\n",
    "print(\"\\n\")\n",
    "step = 10\n",
    "high_def = high_def[0::step]\n",
    "print(\"step = \" + str(step))\n",
    "print(\"Training dataset shape: \") # (frames, x, y, input channels)\n",
    "print(\"\\t\" + str(np.shape(high_def)))"
   ]
  },
  {
   "cell_type": "code",
   "execution_count": 16,
   "metadata": {},
   "outputs": [
    {
     "name": "stdout",
     "output_type": "stream",
     "text": [
      "CPU times: user 83 ms, sys: 9.94 ms, total: 92.9 ms\n",
      "Wall time: 93.1 ms\n"
     ]
    }
   ],
   "source": [
    "%time high_def_norm,ogMean,ogStdDev = normalisingDataset(high_def)"
   ]
  },
  {
   "cell_type": "code",
   "execution_count": 17,
   "metadata": {},
   "outputs": [
    {
     "name": "stdout",
     "output_type": "stream",
     "text": [
      "Create X dataset: \n",
      "CPU times: user 19.5 s, sys: 6.73 ms, total: 19.5 s\n",
      "Wall time: 19.6 s\n",
      "\n",
      "Create Y dataset: \n",
      "CPU times: user 4.43 s, sys: 7.68 ms, total: 4.44 s\n",
      "Wall time: 4.45 s\n",
      "\n",
      "Padding all datasets: \n",
      "CPU times: user 13.9 s, sys: 8.12 ms, total: 13.9 s\n",
      "Wall time: 13.9 s\n",
      "CPU times: user 55.2 s, sys: 27.4 ms, total: 55.3 s\n",
      "Wall time: 55.5 s\n",
      "CPU times: user 3.47 s, sys: 2.82 ms, total: 3.48 s\n",
      "Wall time: 3.49 s\n",
      "CPU times: user 13.8 s, sys: 4.9 ms, total: 13.8 s\n",
      "Wall time: 13.9 s\n",
      "\n",
      "Shapes of all datasets\n",
      "(691, 18, 66, 2)\n",
      "(691, 18, 66, 8)\n",
      "(173, 18, 66, 2)\n",
      "(173, 18, 66, 8)\n"
     ]
    }
   ],
   "source": [
    "#split into train and test\n",
    "\n",
    "split = 0.8\n",
    "split = int(len(high_def)*split//1)\n",
    "random.shuffle(high_def)\n",
    "\n",
    "factor = 4\n",
    "\n",
    "print(\"Create X dataset: \")\n",
    "%time X_dataset = creatingDataset(high_def_norm,mean_pooling,factor)\n",
    "\n",
    "print(\"\\nCreate Y dataset: \")\n",
    "%time Y_dataset = createDatasetDerivatives(high_def_norm,sampling,factor)\n",
    "\n",
    "# %time Y_dataset = calculateResiduals(X_dataset,Y_dataset)\n",
    "\n",
    "\n",
    "X_train = X_dataset[:split]\n",
    "Y_train = Y_dataset[:split]\n",
    "\n",
    "X_test = X_dataset[split:]\n",
    "Y_test = Y_dataset[split:]\n",
    "\n",
    "# NOTE: padding conditions can be specified via the \"conditions\" input to the padYDataset function below\n",
    "# the padXDataset only pads u and v for channel flow conditions, so hard coded for impermeability and no-slip conditions (0,0)\n",
    "print(\"\\nPadding all datasets: \")\n",
    "padding = [1,1] #for a 3 by 3 kernel, find a better way to define this (so not redifined when creating CNN)\n",
    "%time X_train = padXDataset(X_train,padding)\n",
    "%time Y_train = padYDataset(Y_train,padding)\n",
    "\n",
    "%time X_test = padXDataset(X_test,padding)\n",
    "%time Y_test = padYDataset(Y_test,padding)\n",
    "\n",
    "print(\"\\nShapes of all datasets\")\n",
    "printAllShapes(X_train,Y_train, X_test,Y_test)"
   ]
  },
  {
   "cell_type": "code",
   "execution_count": 18,
   "metadata": {},
   "outputs": [],
   "source": [
    "padding = [1,1] # for a 3 by 3 kernel\n",
    "thing = createPaddedMesh(high_def[1][:,:,1],padding)\n",
    "thing = channelFlowPadding(thing,padding,0,0)"
   ]
  },
  {
   "cell_type": "code",
   "execution_count": null,
   "metadata": {},
   "outputs": [],
   "source": []
  },
  {
   "cell_type": "code",
   "execution_count": null,
   "metadata": {},
   "outputs": [],
   "source": []
  },
  {
   "cell_type": "markdown",
   "metadata": {},
   "source": [
    "## Defining model shape"
   ]
  },
  {
   "cell_type": "code",
   "execution_count": 19,
   "metadata": {},
   "outputs": [],
   "source": [
    "num_output_channels = 8\n",
    "# spatial_size = 17\n",
    "ndim = 2\n",
    "input_channels = 2\n",
    "\n",
    "rng_key = jax.random.PRNGKey(42)"
   ]
  },
  {
   "cell_type": "code",
   "execution_count": 26,
   "metadata": {},
   "outputs": [],
   "source": [
    "def ConvNet(x):\n",
    "    cnn = CNN(CNN_specs)\n",
    "    return cnn(x)\n",
    "\n",
    "CNN_specs = {\n",
    "    \"hidden_channels\" : 4,\n",
    "    \"hidden_layers\" : 2,\n",
    "    \"nonlinearity\" : \"relu\",\n",
    "    \"num_output_channels\" : 1\n",
    "}\n",
    "\n",
    "CNN_specs = None"
   ]
  },
  {
   "cell_type": "code",
   "execution_count": null,
   "metadata": {},
   "outputs": [],
   "source": []
  },
  {
   "cell_type": "code",
   "execution_count": 27,
   "metadata": {},
   "outputs": [],
   "source": [
    "forward_pass = hk.without_apply_rng(hk.transform(ConvNet))"
   ]
  },
  {
   "cell_type": "code",
   "execution_count": null,
   "metadata": {},
   "outputs": [],
   "source": []
  },
  {
   "cell_type": "code",
   "execution_count": null,
   "metadata": {},
   "outputs": [
    {
     "name": "stdout",
     "output_type": "stream",
     "text": [
      "Shapes of all datasets\n",
      "(691, 18, 66, 2)\n",
      "(691, 18, 66, 8)\n",
      "(173, 18, 66, 2)\n",
      "(173, 18, 66, 8)\n",
      "\n",
      "\n",
      "Epoch 25/150\n",
      "\tmse : 0.167654\t\tval mse : 0.168871\tEstimated end time: 18:17:51\n",
      "\n",
      "\n",
      "Epoch 50/150\n",
      "\tmse : 0.137960\t\tval mse : 0.139057\tEstimated end time: 18:18:24\n",
      "\n",
      "\n",
      "Epoch 75/150\n",
      "\tmse : 0.121603\t\tval mse : 0.122569\tEstimated end time: 18:18:34\n",
      "\n",
      "\n",
      "Epoch 100/150\n",
      "\tmse : 0.109953\t\tval mse : 0.110764\tEstimated end time: 18:18:41\n",
      "\n",
      "\n",
      "Epoch 125/150\n",
      "\tmse : 0.101178\t\tval mse : 0.101839\tEstimated end time: 18:18:45\n",
      "\n",
      "\n"
     ]
    }
   ],
   "source": [
    "epochs = 150\n",
    "learning_rates = staggeredLearningRate((120,0.01),(70,0.001))\n",
    "printEvery=25\n",
    "%time losses,val_losses,params = train(X_train,Y_train,X_test,Y_test,rng_key,input_channels,epochs,printEvery=printEvery,learning_rates=learning_rates,params=None,forward_pass=forward_pass,tol = 1e-10)"
   ]
  },
  {
   "cell_type": "code",
   "execution_count": 23,
   "metadata": {},
   "outputs": [
    {
     "data": {
      "text/plain": [
       "<matplotlib.legend.Legend at 0x1525281a9180>"
      ]
     },
     "execution_count": 23,
     "metadata": {},
     "output_type": "execute_result"
    },
    {
     "data": {
      "image/png": "[encoded data removed]",
      "text/plain": [
       "<Figure size 640x480 with 1 Axes>"
      ]
     },
     "metadata": {},
     "output_type": "display_data"
    }
   ],
   "source": [
    "step = 1\n",
    "\n",
    "plt.plot(losses[::step], label=\"training\")\n",
    "plt.plot(val_losses[::step],label=\"validation\")\n",
    "plt.ylabel(\"mse\")\n",
    "plt.xlabel(\"epochs\")\n",
    "# plt.yscale(\"log\")\n",
    "plt.legend()"
   ]
  },
  {
   "cell_type": "code",
   "execution_count": null,
   "metadata": {},
   "outputs": [],
   "source": []
  },
  {
   "cell_type": "code",
   "execution_count": 24,
   "metadata": {},
   "outputs": [],
   "source": [
    "toSave = newSaveObject(params,CNN_specs)"
   ]
  },
  {
   "cell_type": "code",
   "execution_count": 25,
   "metadata": {},
   "outputs": [],
   "source": [
    "save_path = \"./testing.pickle\""
   ]
  },
  {
   "cell_type": "code",
   "execution_count": 16,
   "metadata": {},
   "outputs": [],
   "source": [
    "with open(save_path,\"wb\") as f:\n",
    "    pickle.dump(toSave,f)"
   ]
  },
  {
   "cell_type": "markdown",
   "metadata": {},
   "source": [
    "## Loading model"
   ]
  },
  {
   "cell_type": "code",
   "execution_count": 17,
   "metadata": {},
   "outputs": [],
   "source": [
    "with open(save_path,'rb',) as pickle_file:\n",
    "    loaded = pickle.load(pickle_file)\n",
    "    CNN_specs = loaded.CNN_specs\n",
    "    loaded.forward_pass = hk.without_apply_rng(hk.transform(ConvNet))"
   ]
  },
  {
   "cell_type": "code",
   "execution_count": 23,
   "metadata": {},
   "outputs": [
    {
     "data": {
      "text/plain": [
       "DeviceArray([[[ 0.1777801 ],\n",
       "              [ 0.19024144],\n",
       "              [ 0.04433652],\n",
       "              ...,\n",
       "              [ 0.08330125],\n",
       "              [ 0.04082442],\n",
       "              [-0.12628213]],\n",
       "\n",
       "             [[ 0.47462916],\n",
       "              [ 0.55802727],\n",
       "              [ 0.54111874],\n",
       "              ...,\n",
       "              [ 0.43650928],\n",
       "              [ 0.414063  ],\n",
       "              [ 0.12940657]],\n",
       "\n",
       "             [[ 0.34967914],\n",
       "              [ 0.32608578],\n",
       "              [ 0.47966298],\n",
       "              ...,\n",
       "              [ 0.24396849],\n",
       "              [ 0.36153558],\n",
       "              [ 0.3045997 ]],\n",
       "\n",
       "             ...,\n",
       "\n",
       "             [[ 0.04370436],\n",
       "              [ 0.09268199],\n",
       "              [ 0.0933281 ],\n",
       "              ...,\n",
       "              [ 0.08271316],\n",
       "              [ 0.04360718],\n",
       "              [ 0.00422545]],\n",
       "\n",
       "             [[ 0.02303383],\n",
       "              [ 0.0256235 ],\n",
       "              [-0.0147077 ],\n",
       "              ...,\n",
       "              [ 0.09880973],\n",
       "              [ 0.05944401],\n",
       "              [ 0.02394831]],\n",
       "\n",
       "             [[ 0.09584953],\n",
       "              [ 0.17506495],\n",
       "              [ 0.21212572],\n",
       "              ...,\n",
       "              [ 0.02647849],\n",
       "              [ 0.03891186],\n",
       "              [-0.00602347]]], dtype=float32)"
      ]
     },
     "execution_count": 23,
     "metadata": {},
     "output_type": "execute_result"
    }
   ],
   "source": [
    "loaded.forward_pass.apply(loaded.params,X_test[0])"
   ]
  }
 ],
 "metadata": {
  "kernelspec": {
   "display_name": "Python [conda env:PNAS_codes]",
   "language": "python",
   "name": "conda-env-PNAS_codes-py"
  },
  "language_info": {
   "codemirror_mode": {
    "name": "ipython",
    "version": 3
   },
   "file_extension": ".py",
   "mimetype": "text/x-python",
   "name": "python",
   "nbconvert_exporter": "python",
   "pygments_lexer": "ipython3",
   "version": "3.10.8"
  }
 },
 "nbformat": 4,
 "nbformat_minor": 2
}

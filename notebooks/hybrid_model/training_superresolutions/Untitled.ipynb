{
 "cells": [
  {
   "cell_type": "markdown",
   "metadata": {},
   "source": [
    "## Designing implementation of superresolution-based hybrid model"
   ]
  },
  {
   "cell_type": "code",
   "execution_count": 2,
   "metadata": {},
   "outputs": [],
   "source": [
    "import numpy as np\n",
    "import jax.numpy as jnp"
   ]
  },
  {
   "cell_type": "code",
   "execution_count": 34,
   "metadata": {},
   "outputs": [],
   "source": [
    "dim= 10\n",
    "u = np.arange(dim**2).reshape(dim,dim)\n",
    "v = np.arange(dim**2).reshape(dim,dim)*0.1"
   ]
  },
  {
   "cell_type": "code",
   "execution_count": 35,
   "metadata": {},
   "outputs": [],
   "source": [
    "[dudy,dudx] = np.gradient(u)\n",
    "[dvdy,dvdx] = np.gradient(v)\n",
    "lapu = np.gradient(dudx,axis=1) + np.gradient(dudy,axis=0)\n",
    "lapv = np.gradient(dvdx,axis=1) + np.gradient(dvdy,axis=0)\n",
    "laps = jnp.dstack([\n",
    "    lapu,\n",
    "    lapv\n",
    "])\n",
    "convection = jnp.dstack([\n",
    "    u*dudx + u*dudy,\n",
    "    v*dvdx + v*dvdy\n",
    "])"
   ]
  },
  {
   "cell_type": "code",
   "execution_count": 42,
   "metadata": {},
   "outputs": [],
   "source": [
    "def sampling(data,factor):\n",
    "    return data[0::factor,0::factor,:]\n",
    "\n",
    "factor = 2\n",
    "coarse_laps = sampling(laps,factor)\n",
    "coarse_convection = sampling(convection,factor)"
   ]
  },
  {
   "cell_type": "code",
   "execution_count": null,
   "metadata": {},
   "outputs": [],
   "source": []
  },
  {
   "cell_type": "code",
   "execution_count": null,
   "metadata": {},
   "outputs": [],
   "source": []
  }
 ],
 "metadata": {
  "kernelspec": {
   "display_name": "Python [conda env:PNAS_codes]",
   "language": "python",
   "name": "conda-env-PNAS_codes-py"
  },
  "language_info": {
   "codemirror_mode": {
    "name": "ipython",
    "version": 3
   },
   "file_extension": ".py",
   "mimetype": "text/x-python",
   "name": "python",
   "nbconvert_exporter": "python",
   "pygments_lexer": "ipython3",
   "version": "3.10.8"
  }
 },
 "nbformat": 4,
 "nbformat_minor": 2
}

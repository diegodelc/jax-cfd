{
 "cells": [
  {
   "cell_type": "markdown",
   "metadata": {},
   "source": [
    "## Testing interpolatoin modules"
   ]
  },
  {
   "cell_type": "code",
   "execution_count": 1,
   "metadata": {},
   "outputs": [],
   "source": [
    "#imports\n",
    "import jax\n",
    "import jax.numpy as jnp\n",
    "from jax import value_and_grad\n",
    "\n",
    "from jax_cfd.ml import towers\n",
    "from jax_cfd.ml import networks\n",
    "from jax_cfd.ml import physics_specifications\n",
    "from jax_cfd.ml import train_utils\n",
    "\n",
    "\n",
    "from jax_cfd.base.finite_differences import divergence\n",
    "from jax_cfd.base import grids\n",
    "\n",
    "import haiku as hk\n",
    "import gin\n",
    "import numpy as np\n",
    "import xarray\n",
    "import random\n",
    "\n",
    "import pickle\n",
    "from diego_model_utils import SaveObject, forward_pass_module\n",
    "\n",
    "import matplotlib.pyplot as plt\n",
    "import seaborn"
   ]
  },
  {
   "cell_type": "code",
   "execution_count": 2,
   "metadata": {},
   "outputs": [],
   "source": [
    "# import data\n",
    "file_name = '256x64_150_seconds_inner_1'\n",
    "data = xarray.open_dataset(f'../creating_dataset/datasets/'+ file_name +'.nc', chunks={'time': '100MB'})"
   ]
  },
  {
   "cell_type": "code",
   "execution_count": 3,
   "metadata": {},
   "outputs": [],
   "source": [
    "xlen = len(data.x.values)\n",
    "ylen = len(data.y.values)"
   ]
  },
  {
   "cell_type": "code",
   "execution_count": 4,
   "metadata": {},
   "outputs": [],
   "source": [
    "dt = data.time.values[0]\n",
    "\n",
    "domain = ((0, 8), (0, 2))\n",
    "grid = grids.Grid((xlen,ylen), domain=domain)"
   ]
  },
  {
   "cell_type": "code",
   "execution_count": 5,
   "metadata": {},
   "outputs": [
    {
     "name": "stderr",
     "output_type": "stream",
     "text": [
      "WARNING:jax._src.lib.xla_bridge:No GPU/TPU found, falling back to CPU. (Set TF_CPP_MIN_LOG_LEVEL=0 and rerun for more info.)\n"
     ]
    }
   ],
   "source": [
    "# velocity correction is same as normal CNN with the following preprocess and postprocess functions:\n",
    "#       pre_process_module = stack_aligned_field\n",
    "#       post_process_module = split_to_aligned_field\n",
    "\n",
    "num_output_channels = 2\n",
    "# spatial_size = 17\n",
    "ndim = 2\n",
    "input_channels = 2\n",
    "\n",
    "rng_key = jax.random.PRNGKey(42)\n",
    "tower_module = towers.forward_tower_factory #add scaling here\n",
    "#     inputs_scale_fn: ScaleFn = lambda x, axes: x,\n",
    "#     output_scale_fn: ScaleFn = lambda x, axes: x,\n",
    "\n",
    "\n",
    "\n",
    "# forward_pass = hk.without_apply_rng(hk.transform(forward_pass))"
   ]
  },
  {
   "cell_type": "code",
   "execution_count": 9,
   "metadata": {},
   "outputs": [],
   "source": [
    "def thing():\n",
    "    return networks.velocity_corrector_network(\n",
    "                                   grid,\n",
    "                                   dt,\n",
    "                                   tower_factory = hk.transform(towers.forward_tower_factory),\n",
    "                                   physics_specs = physics_specifications.BasePhysicsSpecs,)\n",
    "test = hk.without_apply_rng(hk.transform(thing))"
   ]
  },
  {
   "cell_type": "code",
   "execution_count": 10,
   "metadata": {},
   "outputs": [
    {
     "data": {
      "text/plain": [
       "Transformed(init=<function without_state.<locals>.init_fn at 0x146f8c178700>, apply=<function without_apply_rng.<locals>.apply_fn at 0x146f8c178820>)"
      ]
     },
     "execution_count": 10,
     "metadata": {},
     "output_type": "execute_result"
    }
   ],
   "source": [
    "test"
   ]
  }
 ],
 "metadata": {
  "kernelspec": {
   "display_name": "Python [conda env:PNAS_codes]",
   "language": "python",
   "name": "conda-env-PNAS_codes-py"
  },
  "language_info": {
   "codemirror_mode": {
    "name": "ipython",
    "version": 3
   },
   "file_extension": ".py",
   "mimetype": "text/x-python",
   "name": "python",
   "nbconvert_exporter": "python",
   "pygments_lexer": "ipython3",
   "version": "3.10.8"
  }
 },
 "nbformat": 4,
 "nbformat_minor": 2
}

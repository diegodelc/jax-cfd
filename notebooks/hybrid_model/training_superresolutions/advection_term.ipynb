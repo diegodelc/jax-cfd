{
 "cells": [
  {
   "cell_type": "markdown",
   "metadata": {},
   "source": [
    "## Training to advection terms"
   ]
  },
  {
   "cell_type": "code",
   "execution_count": 1,
   "metadata": {},
   "outputs": [],
   "source": [
    "#imports\n",
    "import jax\n",
    "import jax.numpy as jnp\n",
    "\n",
    "import jax_cfd.base as cfd\n",
    "from jax_cfd.base import advection\n",
    "from jax_cfd.ml import towers\n",
    "import jax_cfd.ml.train_utils as train_utils\n",
    "from jax_cfd.base import finite_differences as fd\n",
    "from jax_cfd.base import grids\n",
    "\n",
    "import haiku as hk\n",
    "import numpy as np\n",
    "import xarray\n",
    "import random\n",
    "\n",
    "import pickle\n",
    "# from jax_cfd.ml.diego_model_utils import SaveObject, forward_pass_module\n",
    "import jax_cfd.ml.diego_preprocessing as preprocessing\n",
    "import jax_cfd.ml.diego_train_functions as training\n",
    "from jax_cfd.ml import nonlinearities\n",
    "import jax_cfd.ml.diego_cnn_bcs as bcs\n",
    "\n",
    "import jax_cfd.ml.newSaveObject as saving\n",
    "import jax_cfd.ml.diego_towers as mytowers\n",
    "\n",
    "import matplotlib.pyplot as plt\n",
    "import seaborn\n",
    "\n",
    "import time\n",
    "\n",
    "import tree_math"
   ]
  },
  {
   "cell_type": "code",
   "execution_count": 2,
   "metadata": {},
   "outputs": [
    {
     "data": {
      "text/plain": [
       "<module 'jax_cfd.ml.diego_towers' from '/rds/general/user/dd519/home/FYP/forked_jax/jax-cfd/jax_cfd/ml/diego_towers.py'>"
      ]
     },
     "execution_count": 2,
     "metadata": {},
     "output_type": "execute_result"
    }
   ],
   "source": [
    "# this allows me to reload a module without having to interrupt the kernel\n",
    "import importlib\n",
    "importlib.reload(mytowers)\n",
    "# importlib.reload(from jax_cfd.ml.diego_train_functions import *)\n",
    "# importlib.reload(from jax_cfd.ml import nonlinearities)\n",
    "# importlib.reload(from jax_cfd.ml.diego_cnn_bcs import *)"
   ]
  },
  {
   "cell_type": "code",
   "execution_count": 3,
   "metadata": {},
   "outputs": [],
   "source": [
    "# import data\n",
    "file_name = '256x64_150_seconds_inner_1'\n",
    "data = xarray.open_dataset(f'../../creating_dataset/datasets/'+ file_name +'.nc', chunks={'time': '100MB'})"
   ]
  },
  {
   "cell_type": "code",
   "execution_count": 4,
   "metadata": {},
   "outputs": [
    {
     "name": "stderr",
     "output_type": "stream",
     "text": [
      "No GPU/TPU found, falling back to CPU. (Set TF_CPP_MIN_LOG_LEVEL=0 and rerun for more info.)\n"
     ]
    }
   ],
   "source": [
    "# split by timestamps\n",
    "x_shape = len(data.x)\n",
    "y_shape = len(data.y)\n",
    "high_def = []\n",
    "for i in range(int(len(data.time))):\n",
    "    this_time = np.dstack([\n",
    "        jnp.array([data.u.isel(time = i)]).reshape(x_shape,y_shape),\n",
    "        jnp.array([data.v.isel(time = i)]).reshape(x_shape,y_shape)\n",
    "    ])\n",
    "    high_def.append(this_time)"
   ]
  },
  {
   "cell_type": "code",
   "execution_count": 5,
   "metadata": {},
   "outputs": [
    {
     "name": "stdout",
     "output_type": "stream",
     "text": [
      "dt: \t\t0.015625\n",
      "outer_steps: \t9600\n",
      "inner_steps: \t1.0\n",
      "total_sim_time: 150.0\n",
      "removed points: 960\n",
      "\n",
      "\n",
      "step = 10\n",
      "Training dataset shape: \n",
      "\t(864, 256, 64, 2)\n"
     ]
    }
   ],
   "source": [
    "#warm up time (may want to discard initial stages of simulation since not really representative of turbulent flow?)\n",
    "dt = float(data.time[0].values)\n",
    "\n",
    "outer_steps = len(data.time.values)\n",
    "\n",
    "inner_steps = (data.time[1].values-data.time[0].values)/dt\n",
    "\n",
    "total_sim_time = outer_steps*inner_steps*dt\n",
    "print(\"dt: \\t\\t\" + str(dt))\n",
    "print(\"outer_steps: \\t\" + str(outer_steps))\n",
    "print(\"inner_steps: \\t\" + str(inner_steps))\n",
    "print(\"total_sim_time: \" + str(total_sim_time))\n",
    "\n",
    "warm_up = 15 #seconds\n",
    "warm_index = int(warm_up/total_sim_time * outer_steps // 1)\n",
    "print(\"removed points: \" + str(warm_index))\n",
    "high_def = high_def[warm_index:]\n",
    "\n",
    "print(\"\\n\")\n",
    "step = 10\n",
    "high_def = high_def[0::step]\n",
    "print(\"step = \" + str(step))\n",
    "print(\"Training dataset shape: \") # (frames, x, y, input channels)\n",
    "print(\"\\t\" + str(np.shape(high_def)))"
   ]
  },
  {
   "cell_type": "code",
   "execution_count": 6,
   "metadata": {},
   "outputs": [],
   "source": [
    "def convect(v):  # pylint: disable=function-redefined\n",
    "      return tuple(\n",
    "          advection.advect_van_leer(u, v, dt) for u in v)\n",
    "    \n",
    "convection = cfd.equations._wrap_term_as_vector(convect, name='convection')"
   ]
  },
  {
   "cell_type": "code",
   "execution_count": 7,
   "metadata": {},
   "outputs": [
    {
     "data": {
      "text/plain": [
       "(5, 5, 2)"
      ]
     },
     "execution_count": 7,
     "metadata": {},
     "output_type": "execute_result"
    }
   ],
   "source": [
    "dim = 5\n",
    "u = np.arange(dim**2).reshape(dim,dim)\n",
    "v = np.arange(dim**2).reshape(dim,dim)*0.1\n",
    "\n",
    "velField = jnp.dstack([u,v])\n",
    "np.shape(velField)"
   ]
  },
  {
   "cell_type": "code",
   "execution_count": 8,
   "metadata": {},
   "outputs": [],
   "source": [
    "def reshapeForAdvection(v):\n",
    "    mygrid = (grids.GridVariable(array = grids.GridArray(data = v[:,:,0], \n",
    "                                            offset = (1.0, 0.5), \n",
    "                                            grid=grids.Grid(\n",
    "                                                shape=(256, 64),  \n",
    "                                                domain=((0.0, 8.0), (0.0, 2.0)) ) ),\n",
    "#                        bc=cfd.boundaries.channel_flow_boundary_conditions(ndim=2)\n",
    "                        bc = cfd.boundaries.periodic_boundary_conditions(2)\n",
    "                   ),\n",
    "             grids.GridVariable(array = grids.GridArray(data = v[:,:,1], \n",
    "                                            offset = (0.5, 1.0),\n",
    "                                            grid=grids.Grid(\n",
    "                                                shape=(256, 64),  \n",
    "                                                domain=((0.0, 8.0), (0.0, 2.0)) ) ),\n",
    "#                        bc=cfd.boundaries.channel_flow_boundary_conditions(ndim=2)\n",
    "                        bc = cfd.boundaries.periodic_boundary_conditions(2)\n",
    "                   )\n",
    "           )\n",
    "    return tree_math.Vector(mygrid)"
   ]
  },
  {
   "cell_type": "code",
   "execution_count": 9,
   "metadata": {},
   "outputs": [
    {
     "data": {
      "text/plain": [
       "tree_math.Vector((GridVariable(array=GridArray(data=Array([[ 0.,  1.,  2.,  3.,  4.],\n",
       "       [ 5.,  6.,  7.,  8.,  9.],\n",
       "       [10., 11., 12., 13., 14.],\n",
       "       [15., 16., 17., 18., 19.],\n",
       "       [20., 21., 22., 23., 24.]], dtype=float32), offset=(1.0, 0.5), grid=Grid(shape=(256, 64), step=(0.03125, 0.03125), domain=((0.0, 8.0), (0.0, 2.0)))), bc=HomogeneousBoundaryConditions(types=(('periodic', 'periodic'), ('periodic', 'periodic')), bc_values=((0.0, 0.0), (0.0, 0.0)))), GridVariable(array=GridArray(data=Array([[0. , 0.1, 0.2, 0.3, 0.4],\n",
       "       [0.5, 0.6, 0.7, 0.8, 0.9],\n",
       "       [1. , 1.1, 1.2, 1.3, 1.4],\n",
       "       [1.5, 1.6, 1.7, 1.8, 1.9],\n",
       "       [2. , 2.1, 2.2, 2.3, 2.4]], dtype=float32), offset=(0.5, 1.0), grid=Grid(shape=(256, 64), step=(0.03125, 0.03125), domain=((0.0, 8.0), (0.0, 2.0)))), bc=HomogeneousBoundaryConditions(types=(('periodic', 'periodic'), ('periodic', 'periodic')), bc_values=((0.0, 0.0), (0.0, 0.0))))))"
      ]
     },
     "execution_count": 9,
     "metadata": {},
     "output_type": "execute_result"
    }
   ],
   "source": [
    "diego = reshapeForAdvection(velField)\n",
    "diego"
   ]
  },
  {
   "cell_type": "code",
   "execution_count": 23,
   "metadata": {},
   "outputs": [
    {
     "data": {
      "text/plain": [
       "Array([[ 0.,  1.,  2.,  3.,  4.],\n",
       "       [ 5.,  6.,  7.,  8.,  9.],\n",
       "       [10., 11., 12., 13., 14.],\n",
       "       [15., 16., 17., 18., 19.],\n",
       "       [20., 21., 22., 23., 24.]], dtype=float32)"
      ]
     },
     "execution_count": 23,
     "metadata": {},
     "output_type": "execute_result"
    }
   ],
   "source": [
    "flat = diego.tree_flatten()[0][0]\n",
    "u = flat[0].array.data\n",
    "v = flat[1].array.data\n",
    "\n",
    "flat[0]."
   ]
  },
  {
   "cell_type": "code",
   "execution_count": 8,
   "metadata": {},
   "outputs": [],
   "source": [
    "all_advected = []\n",
    "for field in high_def:\n",
    "    advected = convection(reshapeForAdvection(field))\n",
    "    vel = 0\n",
    "    uadv = advected.tree_flatten()[0][0][vel].data\n",
    "    vel = 1\n",
    "    vadv = advected.tree_flatten()[0][0][vel].data\n",
    "    this_time = jnp.dstack([\n",
    "            jnp.array(uadv),\n",
    "            jnp.array(vadv)\n",
    "        ])\n",
    "    all_advected.append(this_time)"
   ]
  },
  {
   "cell_type": "code",
   "execution_count": 9,
   "metadata": {},
   "outputs": [
    {
     "name": "stdout",
     "output_type": "stream",
     "text": [
      "Create X dataset: \n",
      "CPU times: user 179 ms, sys: 10.9 ms, total: 190 ms\n",
      "Wall time: 190 ms\n",
      "\n",
      "Create Y dataset: \n",
      "CPU times: user 871 ms, sys: 11.9 ms, total: 883 ms\n",
      "Wall time: 887 ms\n",
      "\n",
      "Shapes of all datasets\n",
      "(691, 64, 16, 2)\n",
      "(691, 64, 16, 2)\n",
      "(173, 64, 16, 2)\n",
      "(173, 64, 16, 2)\n"
     ]
    }
   ],
   "source": [
    "#split into train and test\n",
    "\n",
    "split = 0.8\n",
    "split = int(len(high_def)*split//1)\n",
    "random.shuffle(high_def)\n",
    "\n",
    "factor = 4\n",
    "\n",
    "print(\"Create X dataset: \")\n",
    "%time X_dataset = preprocessing.creatingDataset(high_def,preprocessing.sampling,factor)\n",
    "\n",
    "print(\"\\nCreate Y dataset: \")\n",
    "padding = [1,1]\n",
    "%time Y_dataset = preprocessing.creatingDataset(all_advected,preprocessing.sampling,factor)\n",
    "\n",
    "# %time Y_dataset = calculateResiduals(X_dataset,Y_dataset)\n",
    "\n",
    "\n",
    "X_train = X_dataset[:split]\n",
    "Y_train = Y_dataset[:split]\n",
    "\n",
    "X_test = X_dataset[split:]\n",
    "Y_test = Y_dataset[split:]\n",
    "\n",
    "\n",
    "\n",
    "# print(\"\\nPadding all datasets: \")\n",
    "# padding = [1,1] #this is for a 3 by 3 kernel, find a better way to define this (so not redifined when creating CNN)\n",
    "# %time X_train = padXDataset(X_train,padding)\n",
    "# %time Y_train = padYDatasetNew(Y_train,padding,conditions)\n",
    "\n",
    "# %time X_test = padXDataset(X_test,padding)\n",
    "# %time Y_test = padYDataset(Y_test,padding,conditions)\n",
    "\n",
    "print(\"\\nShapes of all datasets\")\n",
    "training.printAllShapes(X_train,Y_train, X_test,Y_test)"
   ]
  },
  {
   "cell_type": "code",
   "execution_count": 4,
   "metadata": {},
   "outputs": [],
   "source": [
    "def ConvNet(x):\n",
    "    cnn = mytowers.CNN_Dropout(CNN_specs)\n",
    "    return cnn(x)\n",
    "\n",
    "CNN_specs = {\n",
    "    \"hidden_channels\" : 5,\n",
    "    \"hidden_layers\" : 10,\n",
    "    \"nonlinearity\" : \"relu\",\n",
    "    \"num_output_channels\" : 2\n",
    "}\n",
    "input_channels = 2\n",
    "\n",
    "# CNN_specs = None"
   ]
  },
  {
   "cell_type": "code",
   "execution_count": 11,
   "metadata": {},
   "outputs": [],
   "source": [
    "forward_pass = hk.without_apply_rng(hk.transform(ConvNet))"
   ]
  },
  {
   "cell_type": "code",
   "execution_count": null,
   "metadata": {},
   "outputs": [
    {
     "name": "stdout",
     "output_type": "stream",
     "text": [
      "Shapes of all datasets\n",
      "(691, 64, 16, 2)\n",
      "(691, 64, 16, 2)\n",
      "(173, 64, 16, 2)\n",
      "(173, 64, 16, 2)\n",
      "\n",
      "\n",
      "\n",
      "Start time: 12:21:32\n",
      "Epoch 1/50\n",
      "\tmse : 0.033153\t\tval mse : 0.063927\tEstimated end time: 13:22:00\n",
      "\n",
      "\n",
      "Epoch 2/50\n",
      "\tmse : 0.033116\t\tval mse : 0.063899\tEstimated end time: 13:41:36\n",
      "\n",
      "\n",
      "Epoch 3/50\n",
      "\tmse : 0.033095\t\tval mse : 0.063881\tEstimated end time: 13:50:50\n",
      "\n",
      "\n",
      "Epoch 4/50\n",
      "\tmse : 0.033080\t\tval mse : 0.063869\tEstimated end time: 13:56:16\n",
      "\n",
      "\n",
      "Epoch 5/50\n",
      "\tmse : 0.033070\t\tval mse : 0.063860\tEstimated end time: 14:00:23\n",
      "\n",
      "\n",
      "Epoch 6/50\n",
      "\tmse : 0.033061\t\tval mse : 0.063853\tEstimated end time: 14:02:53\n",
      "\n",
      "\n",
      "Epoch 7/50\n",
      "\tmse : 0.033055\t\tval mse : 0.063847\tEstimated end time: 14:04:48\n",
      "\n",
      "\n",
      "Epoch 8/50\n",
      "\tmse : 0.033049\t\tval mse : 0.063841\tEstimated end time: 14:06:24\n",
      "\n",
      "\n",
      "Epoch 9/50\n",
      "\tmse : 0.033043\t\tval mse : 0.063837\tEstimated end time: 14:07:36\n",
      "\n",
      "\n",
      "Epoch 10/50\n",
      "\tmse : 0.033039\t\tval mse : 0.063833\tEstimated end time: 14:08:38\n",
      "\n",
      "\n",
      "Epoch 11/50\n",
      "\tmse : 0.033037\t\tval mse : 0.063832\tEstimated end time: 14:09:27\n",
      "\n",
      "\n",
      "Epoch 12/50\n",
      "\tmse : 0.033036\t\tval mse : 0.063832\tEstimated end time: 14:10:13\n",
      "\n",
      "\n",
      "Epoch 13/50\n",
      "\tmse : 0.033036\t\tval mse : 0.063832\tEstimated end time: 14:10:44\n",
      "\n",
      "\n",
      "Epoch 14/50\n",
      "\tmse : 0.033035\t\tval mse : 0.063832\tEstimated end time: 14:11:15\n",
      "\n",
      "\n",
      "Epoch 15/50\n",
      "\tmse : 0.033035\t\tval mse : 0.063831\tEstimated end time: 14:11:45\n",
      "\n",
      "\n",
      "Epoch 16/50\n",
      "\tmse : 0.033035\t\tval mse : 0.063831\tEstimated end time: 14:12:09\n",
      "\n",
      "\n",
      "Epoch 17/50\n",
      "\tmse : 0.033034\t\tval mse : 0.063831\tEstimated end time: 14:12:30\n",
      "\n",
      "\n",
      "Epoch 18/50\n",
      "\tmse : 0.033034\t\tval mse : 0.063830\tEstimated end time: 14:12:48\n",
      "\n",
      "\n",
      "Epoch 19/50\n",
      "\tmse : 0.033033\t\tval mse : 0.063830\tEstimated end time: 14:13:05\n",
      "\n",
      "\n",
      "Epoch 20/50\n",
      "\tmse : 0.033033\t\tval mse : 0.063830\tEstimated end time: 14:13:19\n",
      "\n",
      "\n",
      "Epoch 21/50\n",
      "\tmse : 0.033033\t\tval mse : 0.063829\tEstimated end time: 14:13:32\n",
      "\n",
      "\n",
      "Epoch 22/50\n",
      "\tmse : 0.033032\t\tval mse : 0.063829\tEstimated end time: 14:13:50\n",
      "\n",
      "\n",
      "Epoch 23/50\n",
      "\tmse : 0.033032\t\tval mse : 0.063829\tEstimated end time: 14:14:01\n",
      "\n",
      "\n",
      "Epoch 24/50\n"
     ]
    }
   ],
   "source": [
    "instance = training.MyTraining(X_train,Y_train,X_test,Y_test,\n",
    "                      jax.random.PRNGKey(40), #rng_key\n",
    "                      input_channels=2,\n",
    "                      epochs = 50,\n",
    "                      printEvery=1,#epochs\n",
    "                      learning_rates=training.staggeredLearningRate((10,0.1),(20,0.01),(30,0.001)), #iterated over batches\n",
    "                      batch_size=len(X_train)//2+1, # number or len(X_train)\n",
    "                      validateEvery=1,\n",
    "                      params=None,\n",
    "                      forward_pass=forward_pass,\n",
    "                      tol = 1e-10)\n",
    "\n",
    "%time instance.train()"
   ]
  },
  {
   "cell_type": "code",
   "execution_count": null,
   "metadata": {},
   "outputs": [],
   "source": [
    "\n",
    "batches = np.arange(len(instance.losses))\n",
    "val_step = len(instance.losses)//len(instance.val_losses)\n",
    "\n",
    "batches_val = batches[::val_step]+val_step\n",
    "plt.plot(batches+1,instance.losses, label=\"training\")\n",
    "plt.plot(batches_val,instance.val_losses,label=\"validation\")\n",
    "plt.ylabel(\"mse\")\n",
    "plt.xlabel(\"batches\")\n",
    "# plt.yscale(\"log\")\n",
    "plt.legend()"
   ]
  },
  {
   "cell_type": "code",
   "execution_count": null,
   "metadata": {},
   "outputs": [],
   "source": []
  },
  {
   "cell_type": "code",
   "execution_count": null,
   "metadata": {},
   "outputs": [],
   "source": [
    "description = \"left for lunch, please save me\""
   ]
  },
  {
   "cell_type": "code",
   "execution_count": null,
   "metadata": {},
   "outputs": [],
   "source": [
    "toSave = saving.newSaveObject(instance.params,instance.losses,instance.val_losses,description,CNN_specs)"
   ]
  },
  {
   "cell_type": "code",
   "execution_count": 2,
   "metadata": {},
   "outputs": [],
   "source": [
    "save_path = \"./../models/final_models/advection_1.pickle\""
   ]
  },
  {
   "cell_type": "code",
   "execution_count": null,
   "metadata": {},
   "outputs": [],
   "source": [
    "with open(save_path,\"wb\") as f:\n",
    "    pickle.dump(toSave,f)\n",
    "\n",
    "del save_path"
   ]
  },
  {
   "cell_type": "markdown",
   "metadata": {},
   "source": [
    "## Loading model"
   ]
  },
  {
   "cell_type": "code",
   "execution_count": 5,
   "metadata": {},
   "outputs": [],
   "source": [
    "with open(save_path,'rb',) as pickle_file:\n",
    "    loaded = pickle.load(pickle_file)\n",
    "    CNN_specs = loaded.CNN_specs\n",
    "    loaded.forward_pass = hk.without_apply_rng(hk.transform(ConvNet))"
   ]
  },
  {
   "cell_type": "code",
   "execution_count": 6,
   "metadata": {},
   "outputs": [
    {
     "data": {
      "text/plain": [
       "'left for lunch, please save me'"
      ]
     },
     "execution_count": 6,
     "metadata": {},
     "output_type": "execute_result"
    }
   ],
   "source": [
    "loaded.description"
   ]
  },
  {
   "cell_type": "code",
   "execution_count": 7,
   "metadata": {},
   "outputs": [
    {
     "data": {
      "text/plain": [
       "<matplotlib.legend.Legend at 0x14a92bbff2e0>"
      ]
     },
     "execution_count": 7,
     "metadata": {},
     "output_type": "execute_result"
    },
    {
     "data": {
      "image/png": "[encoded data removed]",
      "text/plain": [
       "<Figure size 640x480 with 1 Axes>"
      ]
     },
     "metadata": {},
     "output_type": "display_data"
    }
   ],
   "source": [
    "batches = np.arange(len(loaded.losses))\n",
    "val_step = len(loaded.losses)//len(loaded.val_losses)\n",
    "\n",
    "batches_val = batches[::val_step]+val_step\n",
    "plt.plot(batches+1,loaded.losses, label=\"training\")\n",
    "plt.plot(batches_val,loaded.val_losses,label=\"validation\")\n",
    "plt.ylabel(\"mse\")\n",
    "plt.xlabel(\"batches\")\n",
    "# plt.yscale(\"log\")\n",
    "plt.legend()"
   ]
  }
 ],
 "metadata": {
  "kernelspec": {
   "display_name": "Python [conda env:PNAS_codes]",
   "language": "python",
   "name": "conda-env-PNAS_codes-py"
  },
  "language_info": {
   "codemirror_mode": {
    "name": "ipython",
    "version": 3
   },
   "file_extension": ".py",
   "mimetype": "text/x-python",
   "name": "python",
   "nbconvert_exporter": "python",
   "pygments_lexer": "ipython3",
   "version": "3.10.8"
  }
 },
 "nbformat": 4,
 "nbformat_minor": 2
}

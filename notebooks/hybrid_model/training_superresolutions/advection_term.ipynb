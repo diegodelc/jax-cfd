{
 "cells": [
  {
   "cell_type": "markdown",
   "metadata": {},
   "source": [
    "## Training to advection terms"
   ]
  },
  {
   "cell_type": "code",
   "execution_count": 1,
   "metadata": {},
   "outputs": [],
   "source": [
    "#imports\n",
    "import jax\n",
    "import jax.numpy as jnp\n",
    "\n",
    "import jax_cfd.base as cfd\n",
    "from jax_cfd.base import advection\n",
    "from jax_cfd.ml import towers\n",
    "import jax_cfd.ml.train_utils as train_utils\n",
    "from jax_cfd.base import finite_differences as fd\n",
    "from jax_cfd.base import grids\n",
    "\n",
    "import haiku as hk\n",
    "import numpy as np\n",
    "import xarray\n",
    "import random\n",
    "\n",
    "import pickle\n",
    "# from jax_cfd.ml.diego_model_utils import SaveObject, forward_pass_module\n",
    "import jax_cfd.ml.diego_preprocessing as preprocessing\n",
    "import jax_cfd.ml.diego_train_functions as training\n",
    "from jax_cfd.ml import nonlinearities\n",
    "import jax_cfd.ml.diego_cnn_bcs as bcs\n",
    "\n",
    "import jax_cfd.ml.newSaveObject as saving\n",
    "import jax_cfd.ml.diego_towers as mytowers\n",
    "\n",
    "import matplotlib.pyplot as plt\n",
    "import seaborn\n",
    "\n",
    "import time\n",
    "\n",
    "import tree_math"
   ]
  },
  {
   "cell_type": "code",
   "execution_count": 2,
   "metadata": {},
   "outputs": [
    {
     "data": {
      "text/plain": [
       "<module 'jax_cfd.ml.diego_towers' from '/rds/general/user/dd519/home/FYP/forked_jax/jax-cfd/jax_cfd/ml/diego_towers.py'>"
      ]
     },
     "execution_count": 2,
     "metadata": {},
     "output_type": "execute_result"
    }
   ],
   "source": [
    "# this allows me to reload a module without having to interrupt the kernel\n",
    "import importlib\n",
    "importlib.reload(mytowers)\n",
    "# importlib.reload(from jax_cfd.ml.diego_train_functions import *)\n",
    "# importlib.reload(from jax_cfd.ml import nonlinearities)\n",
    "# importlib.reload(from jax_cfd.ml.diego_cnn_bcs import *)"
   ]
  },
  {
   "cell_type": "code",
   "execution_count": 3,
   "metadata": {},
   "outputs": [],
   "source": [
    "# import data\n",
    "file_name = '1080x256_150_seconds_inner_1'\n",
    "data = xarray.open_dataset(f'../../creating_dataset/datasets/'+ file_name +'.nc', chunks={'time': '100MB'})"
   ]
  },
  {
   "cell_type": "code",
   "execution_count": 4,
   "metadata": {},
   "outputs": [
    {
     "name": "stderr",
     "output_type": "stream",
     "text": [
      "No GPU/TPU found, falling back to CPU. (Set TF_CPP_MIN_LOG_LEVEL=0 and rerun for more info.)\n"
     ]
    }
   ],
   "source": [
    "# split by timestamps\n",
    "x_shape = len(data.x)\n",
    "y_shape = len(data.y)\n",
    "high_def = []\n",
    "for i in range(int(len(data.time))):\n",
    "    this_time = np.dstack([\n",
    "        jnp.array([data.u.isel(time = i)]).reshape(x_shape,y_shape),\n",
    "        jnp.array([data.v.isel(time = i)]).reshape(x_shape,y_shape)\n",
    "    ])\n",
    "    high_def.append(this_time)"
   ]
  },
  {
   "cell_type": "code",
   "execution_count": 5,
   "metadata": {},
   "outputs": [
    {
     "name": "stdout",
     "output_type": "stream",
     "text": [
      "dt: \t\t0.003703703703703704\n",
      "outer_steps: \t40499\n",
      "inner_steps: \t1.0\n",
      "total_sim_time: 149.9962962962963\n",
      "removed points: 4050\n",
      "\n",
      "\n",
      "step = 50\n",
      "Training dataset shape: \n",
      "\t(729, 1080, 256, 2)\n"
     ]
    }
   ],
   "source": [
    "#warm up time (may want to discard initial stages of simulation since not really representative of turbulent flow?)\n",
    "dt = float(data.time[0].values)\n",
    "\n",
    "outer_steps = len(data.time.values)\n",
    "\n",
    "inner_steps = (data.time[1].values-data.time[0].values)/dt\n",
    "\n",
    "total_sim_time = outer_steps*inner_steps*dt\n",
    "print(\"dt: \\t\\t\" + str(dt))\n",
    "print(\"outer_steps: \\t\" + str(outer_steps))\n",
    "print(\"inner_steps: \\t\" + str(inner_steps))\n",
    "print(\"total_sim_time: \" + str(total_sim_time))\n",
    "\n",
    "warm_up = 15 #seconds\n",
    "warm_index = int(warm_up/total_sim_time * outer_steps // 1)\n",
    "print(\"removed points: \" + str(warm_index))\n",
    "high_def = high_def[warm_index:]\n",
    "\n",
    "print(\"\\n\")\n",
    "step = 50\n",
    "high_def = high_def[0::step]\n",
    "print(\"step = \" + str(step))\n",
    "print(\"Training dataset shape: \") # (frames, x, y, input channels)\n",
    "print(\"\\t\" + str(np.shape(high_def)))"
   ]
  },
  {
   "cell_type": "code",
   "execution_count": 6,
   "metadata": {},
   "outputs": [],
   "source": [
    "def convect(v):  # pylint: disable=function-redefined\n",
    "      return tuple(\n",
    "          advection.advect_van_leer(u, v, dt) for u in v)\n",
    "    \n",
    "convection = cfd.equations._wrap_term_as_vector(convect, name='convection')"
   ]
  },
  {
   "cell_type": "code",
   "execution_count": 7,
   "metadata": {},
   "outputs": [
    {
     "data": {
      "text/plain": [
       "(5, 5, 2)"
      ]
     },
     "execution_count": 7,
     "metadata": {},
     "output_type": "execute_result"
    }
   ],
   "source": [
    "dim = 5\n",
    "u = np.arange(dim**2).reshape(dim,dim)\n",
    "v = np.arange(dim**2).reshape(dim,dim)*0.1\n",
    "\n",
    "velField = jnp.dstack([u,v])\n",
    "np.shape(velField)"
   ]
  },
  {
   "cell_type": "code",
   "execution_count": 8,
   "metadata": {},
   "outputs": [],
   "source": [
    "def reshapeForAdvection(v):\n",
    "    mygrid = (grids.GridVariable(array = grids.GridArray(data = v[:,:,0], \n",
    "                                            offset = (1.0, 0.5), \n",
    "                                            grid=grids.Grid(\n",
    "                                                shape=(1080, 256),  \n",
    "                                                domain=((0.0, 8.0), (0.0, 2.0)) ) ),\n",
    "#                        bc=cfd.boundaries.channel_flow_boundary_conditions(ndim=2)\n",
    "                        bc = cfd.boundaries.periodic_boundary_conditions(2)\n",
    "                   ),\n",
    "             grids.GridVariable(array = grids.GridArray(data = v[:,:,1], \n",
    "                                            offset = (0.5, 1.0),\n",
    "                                            grid=grids.Grid(\n",
    "                                                shape=(1080, 256),  \n",
    "                                                domain=((0.0, 8.0), (0.0, 2.0)) ) ),\n",
    "#                        bc=cfd.boundaries.channel_flow_boundary_conditions(ndim=2)\n",
    "                        bc = cfd.boundaries.periodic_boundary_conditions(2)\n",
    "                   )\n",
    "           )\n",
    "    return tree_math.Vector(mygrid)"
   ]
  },
  {
   "cell_type": "code",
   "execution_count": 9,
   "metadata": {},
   "outputs": [],
   "source": [
    "# diego = reshapeForAdvection(velField)\n",
    "# diego"
   ]
  },
  {
   "cell_type": "code",
   "execution_count": 10,
   "metadata": {},
   "outputs": [],
   "source": [
    "# flat = diego.tree_flatten()[0][0]\n",
    "# u = flat[0].array.data\n",
    "# v = flat[1].array.data\n",
    "\n",
    "# flat[0]."
   ]
  },
  {
   "cell_type": "code",
   "execution_count": 11,
   "metadata": {},
   "outputs": [],
   "source": [
    "all_advected = []\n",
    "for field in high_def:\n",
    "    advected = convection(reshapeForAdvection(field))\n",
    "    vel = 0\n",
    "    uadv = advected.tree_flatten()[0][0][vel].data\n",
    "    vel = 1\n",
    "    vadv = advected.tree_flatten()[0][0][vel].data\n",
    "    this_time = jnp.dstack([\n",
    "            jnp.array(uadv),\n",
    "            jnp.array(vadv)\n",
    "        ])\n",
    "    all_advected.append(this_time)"
   ]
  },
  {
   "cell_type": "code",
   "execution_count": 12,
   "metadata": {},
   "outputs": [
    {
     "name": "stdout",
     "output_type": "stream",
     "text": [
      "Create X dataset: \n",
      "CPU times: user 549 ms, sys: 85.3 ms, total: 635 ms\n",
      "Wall time: 636 ms\n",
      "\n",
      "Create Y dataset: \n",
      "CPU times: user 1.55 s, sys: 347 ms, total: 1.9 s\n",
      "Wall time: 1.4 s\n",
      "\n",
      "Shapes of all datasets\n",
      "(583, 270, 64, 2)\n",
      "(583, 270, 64, 2)\n",
      "(146, 270, 64, 2)\n",
      "(146, 270, 64, 2)\n"
     ]
    }
   ],
   "source": [
    "#split into train and test\n",
    "\n",
    "split = 0.8\n",
    "split = int(len(high_def)*split//1)\n",
    "random.shuffle(high_def)\n",
    "\n",
    "factor = 4\n",
    "\n",
    "print(\"Create X dataset: \")\n",
    "%time X_dataset = preprocessing.creatingDataset(high_def,preprocessing.sampling,factor)\n",
    "\n",
    "print(\"\\nCreate Y dataset: \")\n",
    "padding = [1,1]\n",
    "%time Y_dataset = preprocessing.creatingDataset(all_advected,preprocessing.sampling,factor)\n",
    "\n",
    "# %time Y_dataset = calculateResiduals(X_dataset,Y_dataset)\n",
    "\n",
    "\n",
    "X_train = X_dataset[:split]\n",
    "Y_train = Y_dataset[:split]\n",
    "\n",
    "X_test = X_dataset[split:]\n",
    "Y_test = Y_dataset[split:]\n",
    "\n",
    "\n",
    "\n",
    "# print(\"\\nPadding all datasets: \")\n",
    "# padding = [1,1] #this is for a 3 by 3 kernel, find a better way to define this (so not redifined when creating CNN)\n",
    "# %time X_train = padXDataset(X_train,padding)\n",
    "# %time Y_train = padYDatasetNew(Y_train,padding,conditions)\n",
    "\n",
    "# %time X_test = padXDataset(X_test,padding)\n",
    "# %time Y_test = padYDataset(Y_test,padding,conditions)\n",
    "\n",
    "print(\"\\nShapes of all datasets\")\n",
    "training.printAllShapes(X_train,Y_train, X_test,Y_test)"
   ]
  },
  {
   "cell_type": "code",
   "execution_count": null,
   "metadata": {},
   "outputs": [],
   "source": []
  },
  {
   "cell_type": "code",
   "execution_count": 13,
   "metadata": {},
   "outputs": [],
   "source": [
    "def ConvNet(x):\n",
    "    cnn = mytowers.CNN(CNN_specs)\n",
    "    return cnn(x)\n",
    "\n",
    "CNN_specs = {\n",
    "    \"hidden_channels\" : 50,\n",
    "    \"hidden_layers\" : 5,\n",
    "    \"nonlinearity\" : \"relu\",\n",
    "    \"num_output_channels\" : 2\n",
    "}\n",
    "input_channels = 2\n",
    "\n",
    "# CNN_specs = None"
   ]
  },
  {
   "cell_type": "code",
   "execution_count": 14,
   "metadata": {},
   "outputs": [],
   "source": [
    "forward_pass = hk.without_apply_rng(hk.transform(ConvNet))"
   ]
  },
  {
   "cell_type": "code",
   "execution_count": null,
   "metadata": {},
   "outputs": [
    {
     "name": "stdout",
     "output_type": "stream",
     "text": [
      "Shapes of all datasets\n",
      "(583, 270, 64, 2)\n",
      "(583, 270, 64, 2)\n",
      "(146, 270, 64, 2)\n",
      "(146, 270, 64, 2)\n",
      "\n",
      "\n",
      "\n",
      "Start time: 15:51:15\n",
      "Epoch 1/60\n",
      "\tmse : 0.036394\t\tval mse : 0.087951\tEstimated end time: 17:21:50\n",
      "\n",
      "\n",
      "Epoch 2/60\n",
      "\tmse : 0.036369\t\tval mse : 0.087934\tEstimated end time: 17:44:57\n",
      "\n",
      "\n",
      "Epoch 3/60\n",
      "\tmse : 0.036356\t\tval mse : 0.087924\tEstimated end time: 17:55:43\n",
      "\n",
      "\n",
      "Epoch 4/60\n",
      "\tmse : 0.036347\t\tval mse : 0.087915\tEstimated end time: 18:02:37\n",
      "\n",
      "\n",
      "Epoch 5/60\n",
      "\tmse : 0.036339\t\tval mse : 0.087907\tEstimated end time: 18:06:37\n",
      "\n",
      "\n",
      "Epoch 6/60\n",
      "\tmse : 0.036332\t\tval mse : 0.087899\tEstimated end time: 18:09:40\n",
      "\n",
      "\n",
      "Epoch 7/60\n",
      "\tmse : 0.036325\t\tval mse : 0.087892\tEstimated end time: 18:12:02\n",
      "\n",
      "\n",
      "Epoch 8/60\n",
      "\tmse : 0.036319\t\tval mse : 0.087885\tEstimated end time: 18:14:30\n",
      "\n",
      "\n",
      "Epoch 9/60\n",
      "\tmse : 0.036313\t\tval mse : 0.087878\tEstimated end time: 18:15:42\n",
      "\n",
      "\n",
      "Epoch 10/60\n",
      "\tmse : 0.036307\t\tval mse : 0.087871\tEstimated end time: 18:17:03\n",
      "\n",
      "\n",
      "Epoch 11/60\n",
      "\tmse : 0.036302\t\tval mse : 0.087865\tEstimated end time: 18:19:00\n",
      "\n",
      "\n",
      "Epoch 12/60\n",
      "\tmse : 0.036297\t\tval mse : 0.087860\tEstimated end time: 18:21:42\n",
      "\n",
      "\n",
      "Epoch 13/60\n",
      "\tmse : 0.036292\t\tval mse : 0.087854\tEstimated end time: 18:24:01\n",
      "\n",
      "\n",
      "Epoch 14/60\n",
      "\tmse : 0.036288\t\tval mse : 0.087849\tEstimated end time: 18:30:20\n",
      "\n",
      "\n",
      "Epoch 15/60\n",
      "\tmse : 0.036284\t\tval mse : 0.087843\tEstimated end time: 18:39:16\n",
      "\n",
      "\n",
      "Epoch 16/60\n",
      "\tmse : 0.036279\t\tval mse : 0.087838\tEstimated end time: 18:47:12\n",
      "\n",
      "\n",
      "Epoch 17/60\n",
      "\tmse : 0.036275\t\tval mse : 0.087833\tEstimated end time: 18:51:05\n",
      "\n",
      "\n",
      "Epoch 18/60\n",
      "\tmse : 0.036271\t\tval mse : 0.087828\tEstimated end time: 18:52:29\n",
      "\n",
      "\n",
      "Epoch 19/60\n",
      "\tmse : 0.036268\t\tval mse : 0.087824\tEstimated end time: 18:53:59\n",
      "\n",
      "\n",
      "Epoch 20/60\n",
      "\tmse : 0.036264\t\tval mse : 0.087819\tEstimated end time: 18:54:29\n",
      "\n",
      "\n",
      "Epoch 21/60\n",
      "\tmse : 0.036260\t\tval mse : 0.087815\tEstimated end time: 18:55:10\n",
      "\n",
      "\n",
      "Epoch 22/60\n",
      "\tmse : 0.036257\t\tval mse : 0.087811\tEstimated end time: 18:55:54\n",
      "\n",
      "\n",
      "Epoch 23/60\n",
      "\tmse : 0.036254\t\tval mse : 0.087807\tEstimated end time: 18:57:49\n",
      "\n",
      "\n",
      "Epoch 24/60\n",
      "\tmse : 0.036250\t\tval mse : 0.087803\tEstimated end time: 19:00:22\n",
      "\n",
      "\n",
      "Epoch 25/60\n",
      "\tmse : 0.036247\t\tval mse : 0.087799\tEstimated end time: 19:01:06\n",
      "\n",
      "\n",
      "Epoch 26/60\n",
      "\tmse : 0.036244\t\tval mse : 0.087795\tEstimated end time: 19:01:25\n",
      "\n",
      "\n",
      "Epoch 27/60\n",
      "\tmse : 0.036241\t\tval mse : 0.087791\tEstimated end time: 19:01:41\n",
      "\n",
      "\n",
      "Epoch 28/60\n",
      "\tmse : 0.036238\t\tval mse : 0.087788\tEstimated end time: 19:02:12\n",
      "\n",
      "\n",
      "Epoch 29/60\n",
      "\tmse : 0.036236\t\tval mse : 0.087784\tEstimated end time: 19:02:53\n",
      "\n",
      "\n",
      "Epoch 30/60\n"
     ]
    }
   ],
   "source": [
    "instance = training.MyTraining(X_train,Y_train,X_test,Y_test,\n",
    "                      jax.random.PRNGKey(40), #rng_key\n",
    "                      input_channels=2,\n",
    "                      epochs = 60,\n",
    "                      printEvery=1,#epochs\n",
    "                      learning_rates=training.staggeredLearningRate((30,0.1),(20,0.01),(30,0.001)), #iterated over batches\n",
    "                      batch_size=len(X_train)//2+1, # number or len(X_train)\n",
    "                      validateEvery=1,\n",
    "                      params=None,\n",
    "                      forward_pass=forward_pass,\n",
    "                      tol = 1e-10)\n",
    "\n",
    "%time instance.train()"
   ]
  },
  {
   "cell_type": "code",
   "execution_count": 18,
   "metadata": {},
   "outputs": [
    {
     "data": {
      "text/plain": [
       "<matplotlib.legend.Legend at 0x15058e283ac0>"
      ]
     },
     "execution_count": 18,
     "metadata": {},
     "output_type": "execute_result"
    },
    {
     "data": {
      "image/png": "[encoded data removed]",
      "text/plain": [
       "<Figure size 640x480 with 1 Axes>"
      ]
     },
     "metadata": {},
     "output_type": "display_data"
    }
   ],
   "source": [
    "\n",
    "batches = np.arange(len(instance.losses))\n",
    "val_step = len(instance.losses)//len(instance.val_losses)\n",
    "\n",
    "batches_val = batches[::val_step]+val_step\n",
    "plt.plot(batches+1,instance.losses, label=\"training\")\n",
    "plt.plot(batches_val,instance.val_losses,label=\"validation\")\n",
    "plt.ylabel(\"mse\")\n",
    "plt.xlabel(\"batches\")\n",
    "# plt.yscale(\"log\")\n",
    "plt.legend()"
   ]
  },
  {
   "cell_type": "code",
   "execution_count": null,
   "metadata": {},
   "outputs": [],
   "source": []
  },
  {
   "cell_type": "code",
   "execution_count": null,
   "metadata": {},
   "outputs": [],
   "source": [
    "description = \"left for lunch, please save me\""
   ]
  },
  {
   "cell_type": "code",
   "execution_count": null,
   "metadata": {},
   "outputs": [],
   "source": [
    "toSave = saving.newSaveObject(instance.params,instance.losses,instance.val_losses,description,CNN_specs)"
   ]
  },
  {
   "cell_type": "code",
   "execution_count": 2,
   "metadata": {},
   "outputs": [],
   "source": [
    "save_path = \"./../models/final_models/advection_direct_1080.pickle\""
   ]
  },
  {
   "cell_type": "code",
   "execution_count": null,
   "metadata": {},
   "outputs": [],
   "source": [
    "with open(save_path,\"wb\") as f:\n",
    "    pickle.dump(toSave,f)\n",
    "\n",
    "del save_path"
   ]
  },
  {
   "cell_type": "markdown",
   "metadata": {},
   "source": [
    "## Loading model"
   ]
  },
  {
   "cell_type": "code",
   "execution_count": 5,
   "metadata": {},
   "outputs": [],
   "source": [
    "with open(save_path,'rb',) as pickle_file:\n",
    "    loaded = pickle.load(pickle_file)\n",
    "    CNN_specs = loaded.CNN_specs\n",
    "    loaded.forward_pass = hk.without_apply_rng(hk.transform(ConvNet))"
   ]
  },
  {
   "cell_type": "code",
   "execution_count": 6,
   "metadata": {},
   "outputs": [
    {
     "data": {
      "text/plain": [
       "'left for lunch, please save me'"
      ]
     },
     "execution_count": 6,
     "metadata": {},
     "output_type": "execute_result"
    }
   ],
   "source": [
    "loaded.description"
   ]
  },
  {
   "cell_type": "code",
   "execution_count": 7,
   "metadata": {},
   "outputs": [
    {
     "data": {
      "text/plain": [
       "<matplotlib.legend.Legend at 0x14a92bbff2e0>"
      ]
     },
     "execution_count": 7,
     "metadata": {},
     "output_type": "execute_result"
    },
    {
     "data": {
      "image/png": "[encoded data removed]",
      "text/plain": [
       "<Figure size 640x480 with 1 Axes>"
      ]
     },
     "metadata": {},
     "output_type": "display_data"
    }
   ],
   "source": [
    "batches = np.arange(len(loaded.losses))\n",
    "val_step = len(loaded.losses)//len(loaded.val_losses)\n",
    "\n",
    "batches_val = batches[::val_step]+val_step\n",
    "plt.plot(batches+1,loaded.losses, label=\"training\")\n",
    "plt.plot(batches_val,loaded.val_losses,label=\"validation\")\n",
    "plt.ylabel(\"mse\")\n",
    "plt.xlabel(\"batches\")\n",
    "# plt.yscale(\"log\")\n",
    "plt.legend()"
   ]
  },
  {
   "cell_type": "code",
   "execution_count": 23,
   "metadata": {},
   "outputs": [
    {
     "data": {
      "text/plain": [
       "<AxesSubplot: >"
      ]
     },
     "execution_count": 23,
     "metadata": {},
     "output_type": "execute_result"
    },
    {
     "data": {
      "image/png": "[encoded data removed]",
      "text/plain": [
       "<Figure size 640x480 with 2 Axes>"
      ]
     },
     "metadata": {},
     "output_type": "display_data"
    }
   ],
   "source": [
    "seaborn.heatmap(Y_dataset[-1][:,:,0])"
   ]
  }
 ],
 "metadata": {
  "kernelspec": {
   "display_name": "Python [conda env:PNAS_codes]",
   "language": "python",
   "name": "conda-env-PNAS_codes-py"
  },
  "language_info": {
   "codemirror_mode": {
    "name": "ipython",
    "version": 3
   },
   "file_extension": ".py",
   "mimetype": "text/x-python",
   "name": "python",
   "nbconvert_exporter": "python",
   "pygments_lexer": "ipython3",
   "version": "3.10.8"
  }
 },
 "nbformat": 4,
 "nbformat_minor": 2
}

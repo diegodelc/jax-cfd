{
 "cells": [
  {
   "cell_type": "markdown",
   "metadata": {},
   "source": [
    "## Evaluating Hybrid model"
   ]
  },
  {
   "cell_type": "code",
   "execution_count": 6,
   "metadata": {},
   "outputs": [],
   "source": [
    "# imports\n",
    "import jax\n",
    "import jax.numpy as jnp\n",
    "\n",
    "# import jax_cfd.base.equations as eqtns\n",
    "# import jax_cfd.base as cfd\n",
    "# import jax_cfd.base.grids as grids\n",
    "\n",
    "# import jax_cfd.base.advection as advection\n",
    "# import jax_cfd.base.diffusion as diffusion\n",
    "# from jax_cfd.base import finite_differences as fd\n",
    "\n",
    "import numpy as np #?\n",
    "\n",
    "import xarray\n",
    "import seaborn\n",
    "import pickle\n",
    "\n",
    "import haiku as hk\n",
    "\n",
    "import matplotlib.pyplot as plt\n",
    "\n",
    "import jax_cfd.ml.newSaveObject as saving\n",
    "import jax_cfd.ml.diego_towers as mytowers"
   ]
  },
  {
   "cell_type": "code",
   "execution_count": 10,
   "metadata": {},
   "outputs": [],
   "source": [
    "def makePath(which,dim1,dim2):\n",
    "    return \"./sims_50_seconds/{}_{:.0f}x{:.0f}.nc\".format(which,dim1,dim2)\n",
    "\n",
    "\n",
    "paths = {\n",
    "    \"dns_1024x256\" : makePath(\"dns\",1024,256),\n",
    "    \"dns_256x64\" : makePath(\"dns\",256,64),\n",
    "    \"dns_64x16\" : makePath(\"dns\",64,16),\n",
    "\n",
    "    \"LI_256x64\" : makePath(\"LI\",256,64),\n",
    "    \"LI_64x16\" : makePath(\"LI\",64,16),\n",
    "    \"LI_new\": \"./sims_50_seconds/dns_diego.nc\"\n",
    "}"
   ]
  },
  {
   "cell_type": "code",
   "execution_count": 11,
   "metadata": {},
   "outputs": [
    {
     "data": {
      "text/plain": [
       "{'dns_1024x256': './sims_50_seconds/dns_1024x256.nc',\n",
       " 'dns_256x64': './sims_50_seconds/dns_256x64.nc',\n",
       " 'dns_64x16': './sims_50_seconds/dns_64x16.nc',\n",
       " 'LI_256x64': './sims_50_seconds/LI_256x64.nc',\n",
       " 'LI_64x16': './sims_50_seconds/LI_64x16.nc',\n",
       " 'LI_new': './sims_50_seconds/dns_diego.nc'}"
      ]
     },
     "execution_count": 11,
     "metadata": {},
     "output_type": "execute_result"
    }
   ],
   "source": [
    "paths"
   ]
  },
  {
   "cell_type": "code",
   "execution_count": 12,
   "metadata": {},
   "outputs": [],
   "source": [
    "models = paths.keys()\n",
    "\n",
    "datasets = {}\n",
    "for model in models:\n",
    "    datasets[model] = xarray.open_dataset(paths[model], chunks={'time': '100MB'})"
   ]
  },
  {
   "cell_type": "code",
   "execution_count": null,
   "metadata": {},
   "outputs": [],
   "source": [
    " "
   ]
  },
  {
   "cell_type": "code",
   "execution_count": 13,
   "metadata": {},
   "outputs": [],
   "source": [
    "def sampling(data,factor):\n",
    "    return data[:,0::factor,0::factor]"
   ]
  },
  {
   "cell_type": "code",
   "execution_count": 14,
   "metadata": {},
   "outputs": [],
   "source": [
    "def myMse(data1,data2):    \n",
    "    return np.mean((data1-data2)**2)\n",
    "\n",
    "def myMape(data1,data2):\n",
    "#     print(np.shape((data1-data2)))\n",
    "#     print(np.shape(data1))\n",
    "    return np.mean(np.abs((data1-data2)/data1))"
   ]
  },
  {
   "cell_type": "code",
   "execution_count": 15,
   "metadata": {},
   "outputs": [],
   "source": [
    "def extractData(ds,factor=None):\n",
    "    u = ds.u.values\n",
    "    v = ds.v.values\n",
    "    \n",
    "    if factor is not None:\n",
    "        u = sampling(u,factor)\n",
    "        v = sampling(v,factor)\n",
    "    \n",
    "    out = []\n",
    "    times,_,_ = np.shape(u)\n",
    "    for time in range(times):\n",
    "        \n",
    "        out.append(np.stack([u[time,:,:],v[time,:,:]]))\n",
    "    \n",
    "    \n",
    "    return out"
   ]
  },
  {
   "cell_type": "code",
   "execution_count": 16,
   "metadata": {},
   "outputs": [],
   "source": [
    "def calculateErrors(reference,referenceFactor,otherSim,otherFactor):\n",
    "    reference = extractData(reference,referenceFactor)\n",
    "    otherSim = extractData(otherSim,otherFactor)\n",
    "    \n",
    "    (times,_,_,_) = np.shape(reference)\n",
    "    errors = []\n",
    "    for time in range(times):\n",
    "#         print(time)\n",
    "        errors.append(myMse(reference[time][:,:,:],otherSim[time][:,:,:]))\n",
    "#         errors.append(myMape(reference[time][:,:,:],otherSim[time][:,:,:]))\n",
    "    \n",
    "    return errors"
   ]
  },
  {
   "cell_type": "code",
   "execution_count": 22,
   "metadata": {},
   "outputs": [],
   "source": [
    "errors_LI_64x16 = calculateErrors(datasets[\"dns_1024x256\"],16,datasets[\"LI_64x16\"],None)\n",
    "errors_LI_256x64 = calculateErrors(datasets[\"dns_1024x256\"],4,datasets[\"LI_256x64\"],None)\n",
    "\n",
    "errors_DNS_256x64 = calculateErrors(datasets[\"dns_1024x256\"],4,datasets[\"dns_256x64\"],None)\n",
    "errors_DNS_64x16 = calculateErrors(datasets[\"dns_1024x256\"],16,datasets[\"dns_64x16\"],None)\n",
    "\n",
    "errors_new = calculateErrors(datasets[\"dns_1024x256\"],4,datasets[\"LI_new\"],None)"
   ]
  },
  {
   "cell_type": "code",
   "execution_count": 20,
   "metadata": {},
   "outputs": [
    {
     "data": {
      "text/plain": [
       "array([10., 20., 30., 40., 50.])"
      ]
     },
     "execution_count": 20,
     "metadata": {},
     "output_type": "execute_result"
    }
   ],
   "source": [
    "time = datasets[\"dns_1024x256\"].time.values\n",
    "time"
   ]
  },
  {
   "cell_type": "code",
   "execution_count": 23,
   "metadata": {},
   "outputs": [
    {
     "data": {
      "text/plain": [
       "<matplotlib.legend.Legend at 0x14d5b6a68280>"
      ]
     },
     "execution_count": 23,
     "metadata": {},
     "output_type": "execute_result"
    },
    {
     "data": {
      "image/png": "[encoded data removed]",
      "text/plain": [
       "<Figure size 640x480 with 1 Axes>"
      ]
     },
     "metadata": {},
     "output_type": "display_data"
    }
   ],
   "source": [
    "plt.plot(time,errors_new,'--rx',label=\"LI new\")\n",
    "\n",
    "plt.plot(time,errors_LI_256x64,'-gx',label=\"LI 256x64\")\n",
    "plt.plot(time,errors_LI_64x16,'-go',label=\"LI 64x16\")\n",
    "\n",
    "plt.plot(time,errors_DNS_256x64,'-bx',label=\"DNS 256x64\")\n",
    "plt.plot(time,errors_DNS_64x16,'-bo',label=\"DNS 64x16\")\n",
    "plt.xlabel(\"time (s)\")\n",
    "plt.ylabel(\"mape\")\n",
    "plt.legend()\n",
    "# plt.ylim([0,1])\n",
    "# plt.xlim([40,50])"
   ]
  },
  {
   "cell_type": "code",
   "execution_count": 19,
   "metadata": {},
   "outputs": [
    {
     "name": "stdout",
     "output_type": "stream",
     "text": [
      "1\n",
      "1\n",
      "1\n",
      "2\n"
     ]
    }
   ],
   "source": [
    "def findDivPoint(errors,tol):\n",
    "    return len(errors)-sum(np.array(errors) > tol)\n",
    "\n",
    "tol = 0.001\n",
    "print(findDivPoint(errors_LI_64x16,tol))\n",
    "print(findDivPoint(errors_LI_256x64,tol))\n",
    "\n",
    "print(findDivPoint(errors_DNS_64x16,tol))\n",
    "print(findDivPoint(errors_DNS_256x64,tol))"
   ]
  },
  {
   "cell_type": "code",
   "execution_count": 20,
   "metadata": {},
   "outputs": [
    {
     "data": {
      "text/plain": [
       "(5,)"
      ]
     },
     "execution_count": 20,
     "metadata": {},
     "output_type": "execute_result"
    }
   ],
   "source": [
    "np.shape(errors_DNS_256x64)"
   ]
  },
  {
   "cell_type": "code",
   "execution_count": null,
   "metadata": {},
   "outputs": [],
   "source": []
  }
 ],
 "metadata": {
  "kernelspec": {
   "display_name": "Python [conda env:PNAS_codes]",
   "language": "python",
   "name": "conda-env-PNAS_codes-py"
  },
  "language_info": {
   "codemirror_mode": {
    "name": "ipython",
    "version": 3
   },
   "file_extension": ".py",
   "mimetype": "text/x-python",
   "name": "python",
   "nbconvert_exporter": "python",
   "pygments_lexer": "ipython3",
   "version": "3.10.8"
  }
 },
 "nbformat": 4,
 "nbformat_minor": 2
}

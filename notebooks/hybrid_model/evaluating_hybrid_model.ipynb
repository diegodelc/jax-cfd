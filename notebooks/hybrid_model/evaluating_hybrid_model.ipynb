{
 "cells": [
  {
   "cell_type": "markdown",
   "metadata": {},
   "source": [
    "## Evaluating Hybrid model"
   ]
  },
  {
   "cell_type": "code",
   "execution_count": null,
   "metadata": {},
   "outputs": [],
   "source": [
    "# imports\n",
    "import jax\n",
    "import jax.numpy as jnp\n",
    "\n",
    "# import jax_cfd.base.equations as eqtns\n",
    "# import jax_cfd.base as cfd\n",
    "# import jax_cfd.base.grids as grids\n",
    "\n",
    "# import jax_cfd.base.advection as advection\n",
    "# import jax_cfd.base.diffusion as diffusion\n",
    "# from jax_cfd.base import finite_differences as fd\n",
    "\n",
    "import numpy as np #?\n",
    "\n",
    "import xarray\n",
    "import seaborn\n",
    "import pickle\n",
    "\n",
    "import haiku as hk\n",
    "\n",
    "import matplotlib.pyplot as plt\n",
    "\n",
    "import jax_cfd.ml.newSaveObject as saving\n",
    "import jax_cfd.ml.diego_towers as mytowers"
   ]
  },
  {
   "cell_type": "code",
   "execution_count": 10,
   "metadata": {},
   "outputs": [],
   "source": [
    "path = \"./sims_50_seconds/dns_{:.0f}x{:.0f}.nc\".format(1024,256)\n"
   ]
  },
  {
   "cell_type": "code",
   "execution_count": 11,
   "metadata": {},
   "outputs": [
    {
     "ename": "NameError",
     "evalue": "name 'xarray' is not defined",
     "output_type": "error",
     "traceback": [
      "\u001b[0;31m---------------------------------------------------------------------------\u001b[0m",
      "\u001b[0;31mNameError\u001b[0m                                 Traceback (most recent call last)",
      "Cell \u001b[0;32mIn [11], line 1\u001b[0m\n\u001b[0;32m----> 1\u001b[0m ds \u001b[38;5;241m=\u001b[39m \u001b[43mxarray\u001b[49m\u001b[38;5;241m.\u001b[39mopen_dataset(path, chunks\u001b[38;5;241m=\u001b[39m{\u001b[38;5;124m'\u001b[39m\u001b[38;5;124mtime\u001b[39m\u001b[38;5;124m'\u001b[39m: \u001b[38;5;124m'\u001b[39m\u001b[38;5;124m100MB\u001b[39m\u001b[38;5;124m'\u001b[39m})\n",
      "\u001b[0;31mNameError\u001b[0m: name 'xarray' is not defined"
     ]
    }
   ],
   "source": [
    "ds = xarray.open_dataset(path, chunks={'time': '100MB'})"
   ]
  },
  {
   "cell_type": "markdown",
   "metadata": {},
   "source": []
  },
  {
   "cell_type": "code",
   "execution_count": 103,
   "metadata": {},
   "outputs": [],
   "source": [
    "def sampling(data,factor):\n",
    "    return data[:,0::factor,0::factor]"
   ]
  },
  {
   "cell_type": "code",
   "execution_count": 97,
   "metadata": {},
   "outputs": [],
   "source": [
    "def mse(target, ref):\n",
    "    target_data = target.astype(np.float32)\n",
    "    ref_data = ref.astype(np.float32)\n",
    "    err = np.sum((target_data - ref_data) ** 2)\n",
    "\n",
    "    err /= float(target_data.shape[0] * target_data.shape[1])\n",
    "    return err"
   ]
  },
  {
   "cell_type": "code",
   "execution_count": 92,
   "metadata": {},
   "outputs": [],
   "source": [
    "def extractData(ds,factor=None):\n",
    "    u = ds.u.values\n",
    "    v = ds.v.values\n",
    "    \n",
    "    if factor is not None:\n",
    "        u = sampling(u,factor)\n",
    "        v = sampling(v,factor)\n",
    "    \n",
    "    out = []\n",
    "    times,_,_ = np.shape(u)\n",
    "    for time in range(times):\n",
    "        \n",
    "        out.append(np.stack([u[time,:,:],v[time,:,:]]))\n",
    "    \n",
    "    \n",
    "    return out\n",
    "\n",
    "\n",
    "    \n",
    "out = extractData(ds_coarse,)\n",
    "# extractData(ds_fine,factor=factor)"
   ]
  },
  {
   "cell_type": "code",
   "execution_count": 190,
   "metadata": {},
   "outputs": [
    {
     "name": "stdout",
     "output_type": "stream",
     "text": [
      "(5, 2, 64, 16)\n",
      "(5, 2, 64, 16)\n"
     ]
    }
   ],
   "source": [
    "def calculateErrors(reference,referenceFactor,otherSim,otherFactor):\n",
    "    reference = extractData(reference,referenceFactor)\n",
    "    otherSim = extractData(otherSim,otherFactor)\n",
    "    print(np.shape(reference))\n",
    "    (times,_,_,_) = np.shape(reference)\n",
    "    errors = []\n",
    "    for time in range(times):\n",
    "        errors.append(mse(reference[time][0,:,:],otherSim[time][0,:,:]))\n",
    "    \n",
    "    return errors\n",
    "\n",
    "errors_LI = calculateErrors(ds_fine_1080,16,ds_coarse_corrected,None)\n",
    "errors_DNS = calculateErrors(ds_fine_1080,16,ds_coarse,None)"
   ]
  },
  {
   "cell_type": "code",
   "execution_count": null,
   "metadata": {},
   "outputs": [],
   "source": [
    "plt.plot(time,errors_LI,label=\"LI\")\n",
    "plt.plot(time,errors_DNS,label=\"DNS\")\n",
    "plt.xlabel(\"time (s)\")\n",
    "plt.ylabel(\"mse\")\n",
    "plt.legend()"
   ]
  }
 ],
 "metadata": {
  "kernelspec": {
   "display_name": "Python [conda env:PNAS_codes]",
   "language": "python",
   "name": "conda-env-PNAS_codes-py"
  },
  "language_info": {
   "codemirror_mode": {
    "name": "ipython",
    "version": 3
   },
   "file_extension": ".py",
   "mimetype": "text/x-python",
   "name": "python",
   "nbconvert_exporter": "python",
   "pygments_lexer": "ipython3",
   "version": "3.10.8"
  }
 },
 "nbformat": 4,
 "nbformat_minor": 2
}

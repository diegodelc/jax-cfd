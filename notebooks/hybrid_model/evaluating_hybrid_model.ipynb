{
 "cells": [
  {
   "cell_type": "markdown",
   "metadata": {},
   "source": [
    "## Evaluating Hybrid model"
   ]
  },
  {
   "cell_type": "code",
   "execution_count": 3,
   "metadata": {},
   "outputs": [],
   "source": [
    "# imports\n",
    "import jax\n",
    "import jax.numpy as jnp\n",
    "\n",
    "# import jax_cfd.base.equations as eqtns\n",
    "# import jax_cfd.base as cfd\n",
    "# import jax_cfd.base.grids as grids\n",
    "\n",
    "# import jax_cfd.base.advection as advection\n",
    "# import jax_cfd.base.diffusion as diffusion\n",
    "# from jax_cfd.base import finite_differences as fd\n",
    "\n",
    "import numpy as np #?\n",
    "\n",
    "import xarray\n",
    "import seaborn\n",
    "import pickle\n",
    "\n",
    "import haiku as hk\n",
    "\n",
    "import matplotlib.pyplot as plt\n",
    "\n",
    "import jax_cfd.ml.newSaveObject as saving\n",
    "import jax_cfd.ml.diego_towers as mytowers"
   ]
  },
  {
   "cell_type": "code",
   "execution_count": 58,
   "metadata": {},
   "outputs": [],
   "source": [
    "def makePath(which,dim1,dim2):\n",
    "    return \"./sims_50_seconds/{}_{:.0f}x{:.0f}.nc\".format(\"dns\",dim1,dim2)\n",
    "\n",
    "\n",
    "paths = {\n",
    "    \"dns_1024x256\" : makePath(\"dns\",1024,256),\n",
    "    \"dns_256x64\" : makePath(\"dns\",256,64),\n",
    "    \"dns_64x16\" : makePath(\"dns\",64,16),\n",
    "\n",
    "    \"LI_256x64\" : makePath(\"LI\",256,64),\n",
    "    \"LI_64x16\" : makePath(\"LI\",64,16)\n",
    "}"
   ]
  },
  {
   "cell_type": "code",
   "execution_count": 59,
   "metadata": {},
   "outputs": [
    {
     "data": {
      "text/plain": [
       "{'dns_1024x256': './sims_50_seconds/dns_1024x256.nc',\n",
       " 'dns_256x64': './sims_50_seconds/dns_256x64.nc',\n",
       " 'dns_64x16': './sims_50_seconds/dns_64x16.nc',\n",
       " 'LI_256x64': './sims_50_seconds/dns_256x64.nc',\n",
       " 'LI_64x16': './sims_50_seconds/dns_64x16.nc'}"
      ]
     },
     "execution_count": 59,
     "metadata": {},
     "output_type": "execute_result"
    }
   ],
   "source": [
    "paths"
   ]
  },
  {
   "cell_type": "code",
   "execution_count": 61,
   "metadata": {},
   "outputs": [],
   "source": [
    "models = paths.keys()\n",
    "\n",
    "datasets = {}\n",
    "for model in models:\n",
    "    datasets[model] = xarray.open_dataset(paths[model], chunks={'time': '100MB'})"
   ]
  },
  {
   "cell_type": "code",
   "execution_count": null,
   "metadata": {},
   "outputs": [],
   "source": [
    " "
   ]
  },
  {
   "cell_type": "code",
   "execution_count": null,
   "metadata": {},
   "outputs": [],
   "source": []
  },
  {
   "cell_type": "code",
   "execution_count": 63,
   "metadata": {},
   "outputs": [],
   "source": [
    "def sampling(data,factor):\n",
    "    return data[:,0::factor,0::factor]"
   ]
  },
  {
   "cell_type": "code",
   "execution_count": 64,
   "metadata": {},
   "outputs": [],
   "source": [
    "def mse(target, ref):\n",
    "    target_data = target.astype(np.float32)\n",
    "    ref_data = ref.astype(np.float32)\n",
    "    err = np.sum((target_data - ref_data) ** 2)\n",
    "\n",
    "    err /= float(target_data.shape[0] * target_data.shape[1])\n",
    "    return err"
   ]
  },
  {
   "cell_type": "code",
   "execution_count": 65,
   "metadata": {},
   "outputs": [],
   "source": [
    "def extractData(ds,factor=None):\n",
    "    u = ds.u.values\n",
    "    v = ds.v.values\n",
    "    \n",
    "    if factor is not None:\n",
    "        u = sampling(u,factor)\n",
    "        v = sampling(v,factor)\n",
    "    \n",
    "    out = []\n",
    "    times,_,_ = np.shape(u)\n",
    "    for time in range(times):\n",
    "        \n",
    "        out.append(np.stack([u[time,:,:],v[time,:,:]]))\n",
    "    \n",
    "    \n",
    "    return out"
   ]
  },
  {
   "cell_type": "code",
   "execution_count": 103,
   "metadata": {},
   "outputs": [],
   "source": [
    "def calculateErrors(reference,referenceFactor,otherSim,otherFactor):\n",
    "    reference = extractData(reference,referenceFactor)\n",
    "    otherSim = extractData(otherSim,otherFactor)\n",
    "    \n",
    "    (times,_,_,_) = np.shape(reference)\n",
    "    errors = []\n",
    "    for time in range(times):\n",
    "        errors.append(myMse(reference[time][0,:,:],otherSim[time][0,:,:]))\n",
    "    \n",
    "    return errors"
   ]
  },
  {
   "cell_type": "code",
   "execution_count": 104,
   "metadata": {},
   "outputs": [],
   "source": [
    "errors_LI_64x16 = calculateErrors(datasets[\"dns_1024x256\"],16,datasets[\"LI_64x16\"],None)\n",
    "errors_LI_256x64 = calculateErrors(datasets[\"dns_1024x256\"],4,datasets[\"LI_256x64\"],None)\n",
    "\n",
    "errors_DNS_256x64 = calculateErrors(datasets[\"dns_1024x256\"],4,datasets[\"dns_256x64\"],None)\n",
    "errors_DNS_64x16 = calculateErrors(datasets[\"dns_1024x256\"],16,datasets[\"dns_64x16\"],None)"
   ]
  },
  {
   "cell_type": "code",
   "execution_count": 105,
   "metadata": {},
   "outputs": [
    {
     "data": {
      "text/plain": [
       "array([10., 20., 30., 40., 50.])"
      ]
     },
     "execution_count": 105,
     "metadata": {},
     "output_type": "execute_result"
    }
   ],
   "source": [
    "time = datasets[\"dns_1024x256\"].time.values\n",
    "time"
   ]
  },
  {
   "cell_type": "code",
   "execution_count": 106,
   "metadata": {},
   "outputs": [
    {
     "data": {
      "text/plain": [
       "<matplotlib.legend.Legend at 0x14cba8310340>"
      ]
     },
     "execution_count": 106,
     "metadata": {},
     "output_type": "execute_result"
    },
    {
     "data": {
      "image/png": "[encoded data removed]",
      "text/plain": [
       "<Figure size 640x480 with 1 Axes>"
      ]
     },
     "metadata": {},
     "output_type": "display_data"
    }
   ],
   "source": [
    "plt.plot(time,errors_LI_256x64,'-bx',label=\"LI 256x64\")\n",
    "# plt.plot(time,errors_LI_64x16,'-kx',label=\"LI 64x16\")\n",
    "\n",
    "plt.plot(time,errors_DNS_256x64,'-bo',label=\"DNS 256x64\")\n",
    "# plt.plot(time,errors_DNS_64x16,'-ko',label=\"DNS 64x16\")\n",
    "plt.xlabel(\"time (s)\")\n",
    "plt.ylabel(\"mse\")\n",
    "plt.legend()"
   ]
  },
  {
   "cell_type": "code",
   "execution_count": 107,
   "metadata": {},
   "outputs": [
    {
     "name": "stdout",
     "output_type": "stream",
     "text": [
      "0.0\n",
      "0.0\n",
      "0.0\n",
      "0.0\n",
      "0.0\n"
     ]
    }
   ],
   "source": [
    "for i in range(5):\n",
    "    print(myMse(errors_DNS_256x64[i],errors_LI_256x64[i]))"
   ]
  },
  {
   "cell_type": "code",
   "execution_count": 108,
   "metadata": {},
   "outputs": [],
   "source": [
    "def myMse(data1,data2):\n",
    "    data1 = data1.flatten()\n",
    "    data2 = data2.flatten()\n",
    "    \n",
    "    return np.mean((data1-data2)**2)"
   ]
  },
  {
   "cell_type": "code",
   "execution_count": null,
   "metadata": {},
   "outputs": [],
   "source": []
  }
 ],
 "metadata": {
  "kernelspec": {
   "display_name": "Python [conda env:PNAS_codes]",
   "language": "python",
   "name": "conda-env-PNAS_codes-py"
  },
  "language_info": {
   "codemirror_mode": {
    "name": "ipython",
    "version": 3
   },
   "file_extension": ".py",
   "mimetype": "text/x-python",
   "name": "python",
   "nbconvert_exporter": "python",
   "pygments_lexer": "ipython3",
   "version": "3.10.8"
  }
 },
 "nbformat": 4,
 "nbformat_minor": 2
}

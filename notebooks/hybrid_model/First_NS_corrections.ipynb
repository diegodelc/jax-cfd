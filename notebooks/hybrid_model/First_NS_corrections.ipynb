{
 "cells": [
  {
   "cell_type": "markdown",
   "metadata": {},
   "source": [
    "## First corrections to NS equations"
   ]
  },
  {
   "cell_type": "code",
   "execution_count": 27,
   "metadata": {},
   "outputs": [],
   "source": [
    "## imports\n",
    "import jax\n",
    "import jax.numpy as jnp\n",
    "import matplotlib.pyplot as plt\n",
    "import numpy as np\n",
    "import seaborn\n",
    "import jax_cfd.base as cfd\n",
    "import xarray\n",
    "import pandas as pd #for saving into xarray"
   ]
  },
  {
   "cell_type": "code",
   "execution_count": 28,
   "metadata": {},
   "outputs": [],
   "source": [
    "## forcing\n",
    "\n",
    "## Here are different types of forcing functions/conditions\n",
    "\n",
    "# Linear force due to uniform pressure gradient\n",
    "def pressure_gradient_forcing(pressure_gradient: float):\n",
    "  \n",
    "  def forcing(v):\n",
    "    force_vector = (pressure_gradient, 0)\n",
    "    return tuple(cfd.grids.GridArray(f * jnp.ones_like(u.data), u.offset, u.grid)\n",
    "                 for f, u in zip(force_vector, v))\n",
    "  \n",
    "  return forcing\n",
    "\n",
    "# Turbulent forcing (kolmogorov forcing)\n",
    "def turbulentForcing(grid):\n",
    "    return cfd.forcings.simple_turbulence_forcing(grid, constant_magnitude = 0.5, linear_coefficient = -0.8) # params specified in jax-cfd for 2D turbulence"
   ]
  },
  {
   "cell_type": "code",
   "execution_count": 84,
   "metadata": {},
   "outputs": [],
   "source": [
    "simSpecs = [\n",
    "    ## run 1\n",
    "    {\n",
    "        \"description\" : \"channel, TG and pressure gradient\",\n",
    "        \"size\" : (256,64),\n",
    "        \"domain\" : ((0, 8), (0, 2)),\n",
    "        \n",
    "        \"density\" : 1., ### original 1.\n",
    "        \"viscosity\" : 1e-4, # kinematic viscosity ### original 1e-3\n",
    "\n",
    "        \"pressure_gradient\" : 2e-3,  # uniform dP/dx ### original 2e-3\n",
    "        \n",
    "        \"velocity_bc\" : (cfd.boundaries.channel_flow_boundary_conditions(ndim=2),\n",
    "                       cfd.boundaries.channel_flow_boundary_conditions(ndim=2)),\n",
    "        \n",
    "        \"pressure_solve\" : cfd.pressure.solve_fast_diag_channel_flow, ### solve_fast_diag_channel_flow OR solve_cg\n",
    "        \n",
    "        \"vx_fn\" : lambda x, y: jnp.zeros_like(x),\n",
    "        \"vy_fn\" : lambda x, y: jnp.zeros_like(x),\n",
    "        \n",
    "        \"max_velocity\" : 1,\n",
    "        \"cfl_safety_factor\" : 0.5,\n",
    "        \n",
    "        # time steps per output\n",
    "        \"inner_steps\" : 1,\n",
    "\n",
    "        # number of outputs\n",
    "        \"outer_steps\" : 50000,\n",
    "        \n",
    "        \"forcing\" : lambda pressure_gradient, grid :  cfd.forcings.sum_forcings(\n",
    "                pressure_gradient_forcing(pressure_gradient),\n",
    "                #turbulentForcing(grid),\n",
    "                cfd.forcings.taylor_green_forcing(grid, scale = 0.05)\n",
    "                #cfd.forcings.kolmogorov_forcing(grid)\n",
    "                #cfd.forcings.linear_forcing(grid,1.01)\n",
    "                #cfd.forcings.filtered_forcing(grid = grid, spectral_density = 1)\n",
    "                #cfd.forcings.filtered_linear_forcing(grid=grid, upper_wavenumber = 2, coefficient = 1, lower_wavenumber = 1)\n",
    "            )\n",
    "        \n",
    "    }\n",
    "]\n"
   ]
  },
  {
   "cell_type": "code",
   "execution_count": 85,
   "metadata": {},
   "outputs": [],
   "source": [
    "# Evaluate forcing and grid\n",
    "for i in range(len(simSpecs)):\n",
    "    simSpecs[i]['grid'] = grid = cfd.grids.Grid(simSpecs[i][\"size\"], \n",
    "                                                              domain=simSpecs[i][\"domain\"])\n",
    "    simSpecs[i]['forcing'] = simSpecs[i]['forcing'](pressure_gradient = simSpecs[i]['pressure_gradient'], \n",
    "                                         grid = simSpecs[i]['grid']\n",
    "                                        )"
   ]
  },
  {
   "cell_type": "code",
   "execution_count": 86,
   "metadata": {},
   "outputs": [],
   "source": [
    "# function that iterates over the different simulation specifications\n",
    "def theFunction(thisSim,target_sim_time=0.0,toTime=False):\n",
    "    v0 = cfd.initial_conditions.initial_velocity_field(\n",
    "           velocity_fns = (thisSim[\"vx_fn\"], thisSim[\"vy_fn\"]),\n",
    "           grid = thisSim[\"grid\"],\n",
    "           velocity_bc = thisSim[\"velocity_bc\"],\n",
    "           pressure_solve = thisSim[\"pressure_solve\"],\n",
    "           iterations=5)\n",
    "    \n",
    "    ## divergence check\n",
    "    div = cfd.finite_differences.divergence(v0)\n",
    "    np.testing.assert_allclose(div.data, 0)\n",
    "    \n",
    "    # calculate stable timestep (do we need to save this?)\n",
    "    dt = cfd.equations.stable_time_step(\n",
    "        thisSim[\"max_velocity\"], thisSim[\"cfl_safety_factor\"], thisSim[\"viscosity\"], thisSim[\"grid\"])\n",
    "    \n",
    "    \n",
    "    ## define convection function\n",
    "    def convect(v):\n",
    "      return tuple(\n",
    "          cfd.advection.advect_van_leer(u, v, dt) for u in v)\n",
    "    \n",
    "    \n",
    "    # time steps per output\n",
    "    inner_steps = thisSim[\"inner_steps\"]\n",
    "\n",
    "    # number of outputs\n",
    "    if toTime:\n",
    "        outer_steps = target_sim_time//(inner_steps*dt)\n",
    "    else: \n",
    "        outer_steps = thisSim[\"outer_steps\"]\n",
    "    \n",
    "    # Define a step function and use it to compute a trajectory.\n",
    "    step_fn = cfd.funcutils.repeated(\n",
    "        cfd.equations.semi_implicit_navier_stokes(\n",
    "            density=thisSim[\"density\"],\n",
    "            viscosity=thisSim[\"viscosity\"],\n",
    "            dt=dt,\n",
    "            grid=thisSim[\"grid\"],\n",
    "            convect=convect,\n",
    "            pressure_solve = thisSim[\"pressure_solve\"],\n",
    "            forcing= thisSim[\"forcing\"]\n",
    "            ),\n",
    "        steps=inner_steps)\n",
    "    rollout_fn = jax.jit(cfd.funcutils.trajectory(\n",
    "        step_fn, outer_steps, start_with_input=True))\n",
    "\n",
    "    ## compute trajectory\n",
    "    #%time _, trajectory = jax.device_get(rollout_fn(v0))\n",
    "    \n",
    "    \n",
    "    return jax.device_get(rollout_fn(v0)),dt,outer_steps"
   ]
  },
  {
   "cell_type": "code",
   "execution_count": 87,
   "metadata": {},
   "outputs": [],
   "source": [
    "def runAllSims(simSpecs,measureTotalRuntime=True,verbose=False):\n",
    "\n",
    "    datasets = []\n",
    "    sample_nums = []\n",
    "    for i in range(len(simSpecs)):\n",
    "        print(\"Simulation number: \" + str(i)) # stick to zero-based indexing for clarity\n",
    "        if verbose:\n",
    "            print(\"\\tdescription: \" + simSpecs[i][\"description\"])\n",
    "        \n",
    "        sample_nums.append(i)\n",
    "\n",
    "        (_,trajectory), simSpecs[i][\"dt\"],outer_steps = theFunction(simSpecs[i])\n",
    "        \n",
    "#         (_,trajectory), simSpecs[i][\"dt\"],simSpecs[i][\"outer_steps\"] = theFunction(simSpecs[i],\n",
    "#                                                         target_sim_time=150,\n",
    "#                                                         toTime=True)\n",
    "        \n",
    "        \n",
    "        print(\"\\n\")\n",
    "        \n",
    "\n",
    "        ## load into xarray for visualization and analysis\n",
    "\n",
    "\n",
    "        datasets.append(xarray.Dataset(\n",
    "            {\n",
    "                'u': (('time', 'x', 'y'), trajectory[0].data),\n",
    "                'v': (('time', 'x', 'y'), trajectory[1].data),\n",
    "\n",
    "            },\n",
    "            coords={\n",
    "                'x': grid.axes()[0],\n",
    "                'y': grid.axes()[1],\n",
    "                'time': simSpecs[i][\"dt\"] * simSpecs[i][\"inner_steps\"] * np.arange(1, simSpecs[i][\"outer_steps\"] + 1),\n",
    "\n",
    "            }#,\n",
    "            #attrs = simSpecs[i]\n",
    "            )\n",
    "\n",
    "        )\n",
    "    if measureTotalRuntime:\n",
    "        print(\"\\nTOTAL runtime: \")\n",
    "    \n",
    "    return datasets,sample_nums"
   ]
  },
  {
   "cell_type": "code",
   "execution_count": 88,
   "metadata": {},
   "outputs": [
    {
     "name": "stdout",
     "output_type": "stream",
     "text": [
      "Simulation number: 0\n",
      "\tdescription: channel, TG and pressure gradient\n",
      "\n",
      "\n",
      "\n",
      "TOTAL runtime: \n",
      "CPU times: user 1min 20s, sys: 6.01 s, total: 1min 26s\n",
      "Wall time: 46.2 s\n"
     ]
    }
   ],
   "source": [
    "%time datasets,sample_nums = runAllSims(simSpecs, measureTotalRuntime=True, verbose=True)"
   ]
  },
  {
   "cell_type": "code",
   "execution_count": 89,
   "metadata": {},
   "outputs": [],
   "source": [
    "# specify save resolutions and coarsen ds as needed (coarsen time too)"
   ]
  },
  {
   "cell_type": "code",
   "execution_count": 90,
   "metadata": {},
   "outputs": [],
   "source": [
    "final_ds = xarray.concat(datasets, pd.Index(sample_nums, name=\"sample\")) \n",
    "## Try and change this: attributes do not get save for each \"sample\", only one set of attributes stored"
   ]
  }
 ],
 "metadata": {
  "kernelspec": {
   "display_name": "Python [conda env:PNAS_codes]",
   "language": "python",
   "name": "conda-env-PNAS_codes-py"
  },
  "language_info": {
   "codemirror_mode": {
    "name": "ipython",
    "version": 3
   },
   "file_extension": ".py",
   "mimetype": "text/x-python",
   "name": "python",
   "nbconvert_exporter": "python",
   "pygments_lexer": "ipython3",
   "version": "3.10.8"
  }
 },
 "nbformat": 4,
 "nbformat_minor": 2
}

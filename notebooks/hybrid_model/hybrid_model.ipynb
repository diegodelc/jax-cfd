{
 "cells": [
  {
   "cell_type": "markdown",
   "metadata": {},
   "source": [
    "# Example usage of the Hybrid Model"
   ]
  },
  {
   "cell_type": "code",
   "execution_count": 1,
   "metadata": {},
   "outputs": [],
   "source": [
    "# imports\n",
    "import jax\n",
    "import jax.numpy as jnp\n",
    "\n",
    "import jax_cfd.base.equations as eqtns\n",
    "import jax_cfd.base as cfd\n",
    "import jax_cfd.base.grids as grids\n",
    "\n",
    "import jax_cfd.base.advection as advection\n",
    "import jax_cfd.base.diffusion as diffusion\n",
    "from jax_cfd.base import finite_differences as fd\n",
    "\n",
    "import numpy as np #?\n",
    "\n",
    "import xarray\n",
    "import seaborn\n",
    "import pickle\n",
    "\n",
    "import haiku as hk\n",
    "\n",
    "\n",
    "import jax_cfd.ml.newSaveObject as saving\n",
    "import jax_cfd.ml.diego_towers as mytowers"
   ]
  },
  {
   "cell_type": "code",
   "execution_count": 12,
   "metadata": {},
   "outputs": [
    {
     "data": {
      "text/plain": [
       "<module 'jax_cfd.base.equations' from '/rds/general/user/dd519/home/FYP/forked_jax/jax-cfd/jax_cfd/base/equations.py'>"
      ]
     },
     "execution_count": 12,
     "metadata": {},
     "output_type": "execute_result"
    }
   ],
   "source": [
    "# this allows me to reload a module without having to interrupt the kernel\n",
    "import importlib\n",
    "importlib.reload(eqtns)"
   ]
  },
  {
   "cell_type": "code",
   "execution_count": 67,
   "metadata": {},
   "outputs": [],
   "source": [
    "## forcings\n",
    "\n",
    "## Here are different types of forcing functions/conditions\n",
    "\n",
    "# Linear force due to uniform pressure gradient\n",
    "def pressure_gradient_forcing(pressure_gradient: float):\n",
    "  \n",
    "  def forcing(v):\n",
    "    force_vector = (pressure_gradient, 0)\n",
    "    return tuple(cfd.grids.GridArray(f * jnp.ones_like(u.data), u.offset, u.grid)\n",
    "                 for f, u in zip(force_vector, v))\n",
    "  \n",
    "  return forcing\n",
    "\n",
    "# Turbulent forcing (kolmogorov forcing)\n",
    "def turbulentForcing(grid):\n",
    "    return cfd.forcings.simple_turbulence_forcing(grid, constant_magnitude = 0.5, linear_coefficient = -0.8) # params specified in jax-cfd for 2D turbulence"
   ]
  },
  {
   "cell_type": "code",
   "execution_count": 68,
   "metadata": {},
   "outputs": [],
   "source": [
    "# intialising problem\n",
    "\n",
    "#grid\n",
    "#bcs\n",
    "#initial velocities\n",
    "#forcing\n",
    "\n",
    "size = (256,64)\n",
    "domain = ((0, 8), (0, 2))\n",
    "\n",
    "density = 1. ### original 1.\n",
    "viscosity = 1e-4 # kinematic viscosity ### original 1e-3\n",
    "\n",
    "pressure_gradient = 2e-3  # uniform dP/dx ### original 2e-3\n",
    "\n",
    "\n",
    "grid = cfd.grids.Grid(size, domain = domain)\n",
    "\n",
    "\n",
    "velocity_bc = (cfd.boundaries.channel_flow_boundary_conditions(ndim=2),\n",
    "               cfd.boundaries.channel_flow_boundary_conditions(ndim=2))\n",
    "\n",
    "pressure_solve = cfd.pressure.solve_fast_diag_channel_flow ### solve_fast_diag_channel_flow OR solve_cg\n",
    "\n",
    "vx_fn = lambda x, y: jnp.zeros_like(x) \n",
    "vy_fn = lambda x, y: jnp.zeros_like(x)\n",
    "\n",
    "max_velocity = 1.\n",
    "cfl_safety_factor = 0.5\n",
    "\n",
    "# time steps per output\n",
    "# inner_steps = 1  ## defined below\n",
    "\n",
    "# number of outputs\n",
    "# outer_steps = 1000   ## defined below to allow the toTime method to work\n",
    "\n",
    "forcing = lambda pressure_gradient, grid :  cfd.forcings.sum_forcings(\n",
    "        pressure_gradient_forcing(pressure_gradient),\n",
    "        #turbulentForcing(grid),\n",
    "        cfd.forcings.taylor_green_forcing(grid, scale = 0.05)\n",
    "        #cfd.forcings.kolmogorov_forcing(grid)\n",
    "        #cfd.forcings.linear_forcing(grid,1.01)\n",
    "        #cfd.forcings.filtered_forcing(grid = grid, spectral_density = 1)\n",
    "        #cfd.forcings.filtered_linear_forcing(grid=grid, upper_wavenumber = 2, coefficient = 1, lower_wavenumber = 1)\n",
    ")\n",
    "\n",
    "#######################\n",
    "# # Evaluate forcing and grid\n",
    "# for i in range(len(simSpecs)):\n",
    "#     simSpecs[i]['grid'] = grid = cfd.grids.Grid(simSpecs[i][\"size\"], \n",
    "#                                                               domain=simSpecs[i][\"domain\"])\n",
    "#     simSpecs[i]['forcing'] = simSpecs[i]['forcing'](pressure_gradient = simSpecs[i]['pressure_gradient'], \n",
    "#                                          grid = simSpecs[i]['grid']\n",
    "#       )\n",
    "#######################\n",
    "\n",
    "\n",
    "forcing = forcing(pressure_gradient = pressure_gradient, \n",
    "                  grid = grid)"
   ]
  },
  {
   "cell_type": "code",
   "execution_count": 79,
   "metadata": {},
   "outputs": [
    {
     "data": {
      "text/plain": [
       "0.015625"
      ]
     },
     "execution_count": 79,
     "metadata": {},
     "output_type": "execute_result"
    }
   ],
   "source": [
    "# finish setting up simulation\n",
    "v0 = cfd.initial_conditions.initial_velocity_field(\n",
    "       velocity_fns = (vx_fn, vy_fn),\n",
    "       grid = grid,\n",
    "       velocity_bc = velocity_bc,\n",
    "       pressure_solve = pressure_solve,\n",
    "       iterations=5)\n",
    "\n",
    "\n",
    "\n",
    "\n",
    "## divergence check\n",
    "div = cfd.finite_differences.divergence(v0)\n",
    "np.testing.assert_allclose(div.data, 0)\n",
    "\n",
    "# calculate stable timestep (do we need to save this?)\n",
    "dt = cfd.equations.stable_time_step(max_velocity, \n",
    "                                    cfl_safety_factor, \n",
    "                                    viscosity, \n",
    "                                    grid)\n",
    "\n",
    "dt"
   ]
  },
  {
   "cell_type": "code",
   "execution_count": 138,
   "metadata": {},
   "outputs": [
    {
     "data": {
      "text/plain": [
       "10"
      ]
     },
     "execution_count": 138,
     "metadata": {},
     "output_type": "execute_result"
    }
   ],
   "source": [
    "# time steps per output\n",
    "inner_steps = 200\n",
    "\n",
    "# Option ONE\n",
    "outer_steps = 10\n",
    "\n",
    "# Option TWO\n",
    "toTime = False\n",
    "if toTime:\n",
    "    target_sim_time = 15 #in time\n",
    "    outer_steps = target_sim_time//(inner_steps*dt)\n",
    "    \n",
    "outer_steps"
   ]
  },
  {
   "cell_type": "code",
   "execution_count": 139,
   "metadata": {},
   "outputs": [
    {
     "name": "stdout",
     "output_type": "stream",
     "text": [
      "Total simulation time: 31.25s\n"
     ]
    }
   ],
   "source": [
    "print(\"Total simulation time: {:.2f}s\".format(inner_steps*outer_steps*dt))"
   ]
  },
  {
   "cell_type": "code",
   "execution_count": 140,
   "metadata": {},
   "outputs": [],
   "source": [
    "## define convection function\n",
    "def convect(v):\n",
    "  return tuple(\n",
    "      cfd.advection.advect_van_leer(u, v, dt) for u in v)\n",
    "\n",
    "## define diffusion function\n",
    "\n",
    "def diffuse(c, nu):\n",
    "  \"\"\"Returns the rate of change in a concentration `c` due to diffusion.\"\"\"\n",
    "  return nu * fd.laplacian(c)\n"
   ]
  },
  {
   "cell_type": "code",
   "execution_count": 141,
   "metadata": {},
   "outputs": [],
   "source": [
    "def ConvNet(x):\n",
    "    cnn = mytowers.CNN(CNN_specs)\n",
    "    return cnn(x)"
   ]
  },
  {
   "cell_type": "code",
   "execution_count": 142,
   "metadata": {},
   "outputs": [],
   "source": [
    "##import models to correct diffusion and convection\n",
    "# Load corrector/inference network\n",
    "\n",
    "\n",
    "save_path = \"./models/correctors/laplacian_correctors/third_laplacian.pickle\"\n",
    "with open(save_path,'rb',) as pickle_file:\n",
    "    mylaplacian = pickle.load(pickle_file)\n",
    "    CNN_specs = mylaplacian.CNN_specs\n",
    "    mylaplacian.forward_pass = hk.without_apply_rng(hk.transform(ConvNet))\n",
    "    \n",
    "def diffuse(c,nu):\n",
    "    return nu * mylaplacian.forward_pass.apply(mylaplacian.params,c)"
   ]
  },
  {
   "cell_type": "markdown",
   "metadata": {},
   "source": [
    "## Defining and choosing from a number of different numerical step functions"
   ]
  },
  {
   "cell_type": "code",
   "execution_count": 143,
   "metadata": {},
   "outputs": [],
   "source": [
    "# define function to advance one timestep\n",
    "\n",
    "# Semi-implicit Navier Stokes\n",
    "NS_step_functions = {    \n",
    "    \"navier_stokes_explicit_terms\" : cfd.equations.navier_stokes_explicit_terms(\n",
    "                                                density=density,\n",
    "                                                viscosity=viscosity,\n",
    "                                                dt=dt,\n",
    "                                                grid=grid,\n",
    "                                                convect=convect,\n",
    "                                                forcing= forcing\n",
    "    ),\n",
    "    \n",
    "    \"semi_implicit_navier_stokes\" : cfd.equations.semi_implicit_navier_stokes(\n",
    "                                                density=density,\n",
    "                                                viscosity=viscosity,\n",
    "                                                dt=dt,\n",
    "                                                grid=grid,\n",
    "                                                convect=convect,\n",
    "                                                pressure_solve = pressure_solve,\n",
    "#                                                 diffuse = diffuse,\n",
    "                                                forcing= forcing\n",
    "    ),\n",
    "    \"corrected_semi_implicit_navier_stokes\" : cfd.equations.corrected_semi_implicit_navier_stokes(\n",
    "                                                density=density,\n",
    "                                                viscosity=viscosity,\n",
    "                                                dt=dt,\n",
    "                                                grid=grid,\n",
    "                                                convect=convect,\n",
    "                                                pressure_solve = pressure_solve,\n",
    "                                                diffuse = diffuse,\n",
    "                                                forcing= forcing\n",
    "    ),\n",
    "    \n",
    "    \"implicit_diffusion_navier_stokes\" : cfd.equations.implicit_diffusion_navier_stokes(\n",
    "                                                density=density,\n",
    "                                                viscosity=viscosity,\n",
    "                                                dt=dt,\n",
    "                                                grid=grid,\n",
    "                                                convect=convect,\n",
    "                                                pressure_solve = pressure_solve,\n",
    "                                                forcing= forcing\n",
    "    )\n",
    "        \n",
    "}\n",
    "\n",
    "\n",
    "# NS_step = NS_step_functions[\"semi_implicit_navier_stokes\"]\n",
    "NS_step = NS_step_functions[\"corrected_semi_implicit_navier_stokes\"]"
   ]
  },
  {
   "cell_type": "markdown",
   "metadata": {},
   "source": [
    "## Defining the ML section of the solver\n"
   ]
  },
  {
   "cell_type": "code",
   "execution_count": 144,
   "metadata": {},
   "outputs": [],
   "source": [
    "jax.config.update(\"jax_disable_jit\", False)\n",
    "single_step = cfd.funcutils.repeated(NS_step,steps=inner_steps)"
   ]
  },
  {
   "cell_type": "code",
   "execution_count": 145,
   "metadata": {},
   "outputs": [],
   "source": [
    "# jax.jit function enables execution on CPU/GPU/TPU\n",
    "rollout_fn = cfd.funcutils.trajectory(\n",
    "    single_step, outer_steps, start_with_input=True)"
   ]
  },
  {
   "cell_type": "code",
   "execution_count": null,
   "metadata": {},
   "outputs": [],
   "source": [
    "## compute trajectory\n",
    "%time _, trajectory = jax.device_get(rollout_fn(v0))"
   ]
  },
  {
   "cell_type": "code",
   "execution_count": null,
   "metadata": {},
   "outputs": [],
   "source": [
    "# load into xarray for visualization and analysis\n",
    "ds = xarray.Dataset(\n",
    "    {\n",
    "        'u': (('time', 'x', 'y'), trajectory[0].data),\n",
    "        'v': (('time', 'x', 'y'), trajectory[1].data),\n",
    "    },\n",
    "    coords={\n",
    "        'x': grid.axes()[0],\n",
    "        'y': grid.axes()[1],\n",
    "        'time': dt * inner_steps * np.arange(1, outer_steps + 1)\n",
    "    }\n",
    ")"
   ]
  },
  {
   "cell_type": "code",
   "execution_count": null,
   "metadata": {},
   "outputs": [],
   "source": [
    "def vx_at_x_upper_boundary(ds):\n",
    "  return ds.u.isel(x=-1)  # slice operator\n",
    "\n",
    "p = ds.pipe(vx_at_x_upper_boundary).plot(hue='time')"
   ]
  },
  {
   "cell_type": "code",
   "execution_count": null,
   "metadata": {},
   "outputs": [],
   "source": [
    "seaborn.heatmap(ds.u.isel(time=-1).T)"
   ]
  },
  {
   "cell_type": "code",
   "execution_count": null,
   "metadata": {},
   "outputs": [],
   "source": []
  }
 ],
 "metadata": {
  "kernelspec": {
   "display_name": "Python [conda env:PNAS_codes]",
   "language": "python",
   "name": "conda-env-PNAS_codes-py"
  },
  "language_info": {
   "codemirror_mode": {
    "name": "ipython",
    "version": 3
   },
   "file_extension": ".py",
   "mimetype": "text/x-python",
   "name": "python",
   "nbconvert_exporter": "python",
   "pygments_lexer": "ipython3",
   "version": "3.10.8"
  }
 },
 "nbformat": 4,
 "nbformat_minor": 2
}
